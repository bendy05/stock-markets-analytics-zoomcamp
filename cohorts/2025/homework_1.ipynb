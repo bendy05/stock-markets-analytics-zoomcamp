{
 "cells": [
  {
   "cell_type": "code",
   "execution_count": null,
   "id": "c30e4dd4",
   "metadata": {},
   "outputs": [
    {
     "name": "stderr",
     "output_type": "stream",
     "text": [
      "\n",
      "Usage:   \n",
      "  pip install [options] <requirement specifier> [package-index-options] ...\n",
      "  pip install [options] -r <requirements file> [package-index-options] ...\n",
      "  pip install [options] [-e] <vcs project url> ...\n",
      "  pip install [options] [-e] <local project path> ...\n",
      "  pip install [options] <archive url/path> ...\n",
      "\n",
      "no such option: -u\n"
     ]
    }
   ],
   "source": [
    "!pip install -upgrade yfinanace "
   ]
  },
  {
   "cell_type": "code",
   "execution_count": 2,
   "id": "ad81a8a3",
   "metadata": {},
   "outputs": [],
   "source": [
    "# IMPORTS\n",
    "import numpy as np\n",
    "import pandas as pd\n",
    "\n",
    "#Fin Data Sources\n",
    "import yfinance as yf\n",
    "import pandas_datareader as pdr\n",
    "\n",
    "#Data viz\n",
    "import plotly.graph_objs as go\n",
    "import plotly.express as px\n",
    "from plotly.subplots import make_subplots\n",
    "\n",
    "import time\n",
    "from datetime import date\n"
   ]
  },
  {
   "cell_type": "markdown",
   "id": "7c46e5c8",
   "metadata": {},
   "source": [
    "### Question 1: [Index] S&P 500 Stocks Added to the Index\n",
    "\n",
    "**Which year had the highest number of additions?**\n",
    "\n",
    "Using the list of S&P 500 companies from Wikipedia's [S&P 500 companies page](https://en.wikipedia.org/wiki/List_of_S%26P_500_companies), download the data including the year each Security was added to the index.\n",
    "\n",
    "Hint: you can use [pandas.read_html](https://pandas.pydata.org/docs/reference/api/pandas.read_html.html) to scrape the data into a DataFrame.\n",
    "\n",
    "Steps:\n",
    "1. Create a DataFrame with Security tickers, names, and the year they were added.\n",
    "2. Extract the year from the addition date and calculate the number of stocks added each year.\n",
    "3. Which year had the highest number of additions (1957 doesn't count, as it was the year when the S&P 500 index was Date added)? Write down this year as your answer (the most recent one, if you have several records).\n",
    "\n",
    "*Context*: \n",
    "> \"Following the announcement, all four new entrants saw their stock prices rise in extended trading on Friday\" - recent examples of S&P 500 additions include DASH, WSM, EXE, TKO in 2025 ([Nasdaq article](https://www.nasdaq.com/articles/sp-500-reshuffle-dash-tko-expe-wsm-join-worth-buying)).\n",
    "\n",
    "*Additional*: How many current S&P 500 stocks have been in the index for more than 20 years? When stocks are added to the S&P 500, they usually experience a price bump as investors and index funds buy shares following the announcement."
   ]
  },
  {
   "cell_type": "code",
   "execution_count": 3,
   "id": "9a3ecca8",
   "metadata": {},
   "outputs": [],
   "source": [
    "s_p_500 = pd.read_html(io='https://en.wikipedia.org/wiki/List_of_S%26P_500_companies')"
   ]
  },
  {
   "cell_type": "code",
   "execution_count": 4,
   "id": "85bdca0c",
   "metadata": {},
   "outputs": [
    {
     "data": {
      "text/plain": [
       "list"
      ]
     },
     "execution_count": 4,
     "metadata": {},
     "output_type": "execute_result"
    }
   ],
   "source": [
    "type(s_p_500)"
   ]
  },
  {
   "cell_type": "code",
   "execution_count": 5,
   "id": "a9822c1d",
   "metadata": {},
   "outputs": [],
   "source": [
    "sp_500 = pd.DataFrame(s_p_500[0], columns=['Symbol','Security','GICS Sector','GICS Sub-Industry','Headquarters Location','Date added','CIK'])"
   ]
  },
  {
   "cell_type": "code",
   "execution_count": 6,
   "id": "7c9a9bc7",
   "metadata": {},
   "outputs": [
    {
     "data": {
      "text/html": [
       "<div>\n",
       "<style scoped>\n",
       "    .dataframe tbody tr th:only-of-type {\n",
       "        vertical-align: middle;\n",
       "    }\n",
       "\n",
       "    .dataframe tbody tr th {\n",
       "        vertical-align: top;\n",
       "    }\n",
       "\n",
       "    .dataframe thead th {\n",
       "        text-align: right;\n",
       "    }\n",
       "</style>\n",
       "<table border=\"1\" class=\"dataframe\">\n",
       "  <thead>\n",
       "    <tr style=\"text-align: right;\">\n",
       "      <th></th>\n",
       "      <th>Symbol</th>\n",
       "      <th>Security</th>\n",
       "      <th>GICS Sector</th>\n",
       "      <th>GICS Sub-Industry</th>\n",
       "      <th>Headquarters Location</th>\n",
       "      <th>Date added</th>\n",
       "      <th>CIK</th>\n",
       "    </tr>\n",
       "  </thead>\n",
       "  <tbody>\n",
       "    <tr>\n",
       "      <th>0</th>\n",
       "      <td>MMM</td>\n",
       "      <td>3M</td>\n",
       "      <td>Industrials</td>\n",
       "      <td>Industrial Conglomerates</td>\n",
       "      <td>Saint Paul, Minnesota</td>\n",
       "      <td>1957-03-04</td>\n",
       "      <td>66740</td>\n",
       "    </tr>\n",
       "    <tr>\n",
       "      <th>1</th>\n",
       "      <td>AOS</td>\n",
       "      <td>A. O. Smith</td>\n",
       "      <td>Industrials</td>\n",
       "      <td>Building Products</td>\n",
       "      <td>Milwaukee, Wisconsin</td>\n",
       "      <td>2017-07-26</td>\n",
       "      <td>91142</td>\n",
       "    </tr>\n",
       "    <tr>\n",
       "      <th>2</th>\n",
       "      <td>ABT</td>\n",
       "      <td>Abbott Laboratories</td>\n",
       "      <td>Health Care</td>\n",
       "      <td>Health Care Equipment</td>\n",
       "      <td>North Chicago, Illinois</td>\n",
       "      <td>1957-03-04</td>\n",
       "      <td>1800</td>\n",
       "    </tr>\n",
       "  </tbody>\n",
       "</table>\n",
       "</div>"
      ],
      "text/plain": [
       "  Symbol             Security  GICS Sector         GICS Sub-Industry  \\\n",
       "0    MMM                   3M  Industrials  Industrial Conglomerates   \n",
       "1    AOS          A. O. Smith  Industrials         Building Products   \n",
       "2    ABT  Abbott Laboratories  Health Care     Health Care Equipment   \n",
       "\n",
       "     Headquarters Location  Date added    CIK  \n",
       "0    Saint Paul, Minnesota  1957-03-04  66740  \n",
       "1     Milwaukee, Wisconsin  2017-07-26  91142  \n",
       "2  North Chicago, Illinois  1957-03-04   1800  "
      ]
     },
     "execution_count": 6,
     "metadata": {},
     "output_type": "execute_result"
    }
   ],
   "source": [
    "sp_500.head(3)"
   ]
  },
  {
   "cell_type": "code",
   "execution_count": 7,
   "id": "a454a140",
   "metadata": {},
   "outputs": [
    {
     "name": "stdout",
     "output_type": "stream",
     "text": [
      "<class 'pandas.core.frame.DataFrame'>\n",
      "RangeIndex: 503 entries, 0 to 502\n",
      "Data columns (total 7 columns):\n",
      " #   Column                 Non-Null Count  Dtype \n",
      "---  ------                 --------------  ----- \n",
      " 0   Symbol                 503 non-null    object\n",
      " 1   Security               503 non-null    object\n",
      " 2   GICS Sector            503 non-null    object\n",
      " 3   GICS Sub-Industry      503 non-null    object\n",
      " 4   Headquarters Location  503 non-null    object\n",
      " 5   Date added             503 non-null    object\n",
      " 6   CIK                    503 non-null    int64 \n",
      "dtypes: int64(1), object(6)\n",
      "memory usage: 27.6+ KB\n"
     ]
    }
   ],
   "source": [
    "sp_500.info()"
   ]
  },
  {
   "cell_type": "code",
   "execution_count": 8,
   "id": "ddcca262",
   "metadata": {},
   "outputs": [
    {
     "data": {
      "application/vnd.plotly.v1+json": {
       "config": {
        "plotlyServerURL": "https://plot.ly"
       },
       "data": [
        {
         "customdata": [
          "3M",
          "A. O. Smith",
          "Abbott Laboratories",
          "AbbVie",
          "Accenture",
          "Adobe Inc.",
          "Advanced Micro Devices",
          "AES Corporation",
          "Aflac",
          "Agilent Technologies",
          "Air Products",
          "Airbnb",
          "Akamai Technologies",
          "Albemarle Corporation",
          "Alexandria Real Estate Equities",
          "Align Technology",
          "Allegion",
          "Alliant Energy",
          "Allstate",
          "Alphabet Inc. (Class A)",
          "Alphabet Inc. (Class C)",
          "Altria",
          "Amazon",
          "Amcor",
          "Ameren",
          "American Electric Power",
          "American Express",
          "American International Group",
          "American Tower",
          "American Water Works",
          "Ameriprise Financial",
          "Ametek",
          "Amgen",
          "Amphenol",
          "Analog Devices",
          "Ansys",
          "Aon plc",
          "APA Corporation",
          "Apollo Global Management",
          "Apple Inc.",
          "Applied Materials",
          "Aptiv",
          "Arch Capital Group",
          "Archer Daniels Midland",
          "Arista Networks",
          "Arthur J. Gallagher & Co.",
          "Assurant",
          "AT&T",
          "Atmos Energy",
          "Autodesk",
          "Automatic Data Processing",
          "AutoZone",
          "AvalonBay Communities",
          "Avery Dennison",
          "Axon Enterprise",
          "Baker Hughes",
          "Ball Corporation",
          "Bank of America",
          "Baxter International",
          "Becton Dickinson",
          "Berkshire Hathaway",
          "Best Buy",
          "Bio-Techne",
          "Biogen",
          "BlackRock",
          "Blackstone Inc.",
          "BNY Mellon",
          "Boeing",
          "Booking Holdings",
          "Boston Scientific",
          "Bristol Myers Squibb",
          "Broadcom",
          "Broadridge Financial Solutions",
          "Brown & Brown",
          "Brown–Forman",
          "Builders FirstSource",
          "Bunge Global",
          "BXP, Inc.",
          "C.H. Robinson",
          "Cadence Design Systems",
          "Caesars Entertainment",
          "Camden Property Trust",
          "Campbell's Company (The)",
          "Capital One",
          "Cardinal Health",
          "CarMax",
          "Carnival",
          "Carrier Global",
          "Caterpillar Inc.",
          "Cboe Global Markets",
          "CBRE Group",
          "CDW Corporation",
          "Cencora",
          "Centene Corporation",
          "CenterPoint Energy",
          "CF Industries",
          "Charles River Laboratories",
          "Charles Schwab Corporation",
          "Charter Communications",
          "Chevron Corporation",
          "Chipotle Mexican Grill",
          "Chubb Limited",
          "Church & Dwight",
          "Cigna",
          "Cincinnati Financial",
          "Cintas",
          "Cisco",
          "Citigroup",
          "Citizens Financial Group",
          "Clorox",
          "CME Group",
          "CMS Energy",
          "Coca-Cola Company (The)",
          "Cognizant",
          "Coinbase",
          "Colgate-Palmolive",
          "Comcast",
          "Conagra Brands",
          "ConocoPhillips",
          "Consolidated Edison",
          "Constellation Brands",
          "Constellation Energy",
          "Cooper Companies (The)",
          "Copart",
          "Corning Inc.",
          "Corpay",
          "Corteva",
          "CoStar Group",
          "Costco",
          "Coterra",
          "CrowdStrike",
          "Crown Castle",
          "CSX Corporation",
          "Cummins",
          "CVS Health",
          "Danaher Corporation",
          "Darden Restaurants",
          "DaVita",
          "Dayforce",
          "Deckers Brands",
          "Deere & Company",
          "Dell Technologies",
          "Delta Air Lines",
          "Devon Energy",
          "Dexcom",
          "Diamondback Energy",
          "Digital Realty",
          "Dollar General",
          "Dollar Tree",
          "Dominion Energy",
          "Domino's",
          "DoorDash",
          "Dover Corporation",
          "Dow Inc.",
          "D. R. Horton",
          "DTE Energy",
          "Duke Energy",
          "DuPont",
          "Eastman Chemical Company",
          "Eaton Corporation",
          "eBay Inc.",
          "Ecolab",
          "Edison International",
          "Edwards Lifesciences",
          "Electronic Arts",
          "Elevance Health",
          "Emerson Electric",
          "Enphase Energy",
          "Entergy",
          "EOG Resources",
          "EPAM Systems",
          "EQT Corporation",
          "Equifax",
          "Equinix",
          "Equity Residential",
          "Erie Indemnity",
          "Essex Property Trust",
          "Estée Lauder Companies (The)",
          "Everest Group",
          "Evergy",
          "Eversource Energy",
          "Exelon",
          "Expand Energy",
          "Expedia Group",
          "Expeditors International",
          "Extra Space Storage",
          "ExxonMobil",
          "F5, Inc.",
          "FactSet",
          "Fair Isaac",
          "Fastenal",
          "Federal Realty Investment Trust",
          "FedEx",
          "Fidelity National Information Services",
          "Fifth Third Bancorp",
          "First Solar",
          "FirstEnergy",
          "Fiserv",
          "Ford Motor Company",
          "Fortinet",
          "Fortive",
          "Fox Corporation (Class A)",
          "Fox Corporation (Class B)",
          "Franklin Resources",
          "Freeport-McMoRan",
          "Garmin",
          "Gartner",
          "GE Aerospace",
          "GE HealthCare",
          "GE Vernova",
          "Gen Digital",
          "Generac",
          "General Dynamics",
          "General Mills",
          "General Motors",
          "Genuine Parts Company",
          "Gilead Sciences",
          "Global Payments",
          "Globe Life",
          "GoDaddy",
          "Goldman Sachs",
          "Halliburton",
          "Hartford (The)",
          "Hasbro",
          "HCA Healthcare",
          "Healthpeak Properties",
          "Henry Schein",
          "Hershey Company (The)",
          "Hess Corporation",
          "Hewlett Packard Enterprise",
          "Hilton Worldwide",
          "Hologic",
          "Home Depot (The)",
          "Honeywell",
          "Hormel Foods",
          "Host Hotels & Resorts",
          "Howmet Aerospace",
          "HP Inc.",
          "Hubbell Incorporated",
          "Humana",
          "Huntington Bancshares",
          "Huntington Ingalls Industries",
          "IBM",
          "IDEX Corporation",
          "Idexx Laboratories",
          "Illinois Tool Works",
          "Incyte",
          "Ingersoll Rand",
          "Insulet Corporation",
          "Intel",
          "Intercontinental Exchange",
          "International Flavors & Fragrances",
          "International Paper",
          "Interpublic Group of Companies (The)",
          "Intuit",
          "Intuitive Surgical",
          "Invesco",
          "Invitation Homes",
          "IQVIA",
          "Iron Mountain",
          "J.B. Hunt",
          "Jabil",
          "Jack Henry & Associates",
          "Jacobs Solutions",
          "Johnson & Johnson",
          "Johnson Controls",
          "JPMorgan Chase",
          "Juniper Networks",
          "Kellanova",
          "Kenvue",
          "Keurig Dr Pepper",
          "KeyCorp",
          "Keysight Technologies",
          "Kimberly-Clark",
          "Kimco Realty",
          "Kinder Morgan",
          "KKR & Co.",
          "KLA Corporation",
          "Kraft Heinz",
          "Kroger",
          "L3Harris",
          "Labcorp",
          "Lam Research",
          "Lamb Weston",
          "Las Vegas Sands",
          "Leidos",
          "Lennar",
          "Lennox International",
          "Lilly (Eli)",
          "Linde plc",
          "Live Nation Entertainment",
          "LKQ Corporation",
          "Lockheed Martin",
          "Loews Corporation",
          "Lowe's",
          "Lululemon Athletica",
          "LyondellBasell",
          "M&T Bank",
          "Marathon Petroleum",
          "MarketAxess",
          "Marriott International",
          "Marsh McLennan",
          "Martin Marietta Materials",
          "Masco",
          "Mastercard",
          "Match Group",
          "McCormick & Company",
          "McDonald's",
          "McKesson Corporation",
          "Medtronic",
          "Merck & Co.",
          "Meta Platforms",
          "MetLife",
          "Mettler Toledo",
          "MGM Resorts",
          "Microchip Technology",
          "Micron Technology",
          "Microsoft",
          "Mid-America Apartment Communities",
          "Moderna",
          "Mohawk Industries",
          "Molina Healthcare",
          "Molson Coors Beverage Company",
          "Mondelez International",
          "Monolithic Power Systems",
          "Monster Beverage",
          "Moody's Corporation",
          "Morgan Stanley",
          "Mosaic Company (The)",
          "Motorola Solutions",
          "MSCI Inc.",
          "Nasdaq, Inc.",
          "NetApp",
          "Netflix",
          "Newmont",
          "News Corp (Class A)",
          "News Corp (Class B)",
          "NextEra Energy",
          "Nike, Inc.",
          "NiSource",
          "Nordson Corporation",
          "Norfolk Southern",
          "Northern Trust",
          "Northrop Grumman",
          "Norwegian Cruise Line Holdings",
          "NRG Energy",
          "Nucor",
          "Nvidia",
          "NVR, Inc.",
          "NXP Semiconductors",
          "O’Reilly Automotive",
          "Occidental Petroleum",
          "Old Dominion",
          "Omnicom Group",
          "ON Semiconductor",
          "Oneok",
          "Oracle Corporation",
          "Otis Worldwide",
          "Paccar",
          "Packaging Corporation of America",
          "Palantir Technologies",
          "Palo Alto Networks",
          "Paramount Global",
          "Parker Hannifin",
          "Paychex",
          "Paycom",
          "PayPal",
          "Pentair",
          "PepsiCo",
          "Pfizer",
          "PG&E Corporation",
          "Philip Morris International",
          "Phillips 66",
          "Pinnacle West Capital",
          "PNC Financial Services",
          "Pool Corporation",
          "PPG Industries",
          "PPL Corporation",
          "Principal Financial Group",
          "Procter & Gamble",
          "Progressive Corporation",
          "Prologis",
          "Prudential Financial",
          "Public Service Enterprise Group",
          "PTC Inc.",
          "Public Storage",
          "PulteGroup",
          "Quanta Services",
          "Qualcomm",
          "Quest Diagnostics",
          "Ralph Lauren Corporation",
          "Raymond James Financial",
          "RTX Corporation",
          "Realty Income",
          "Regency Centers",
          "Regeneron Pharmaceuticals",
          "Regions Financial Corporation",
          "Republic Services",
          "ResMed",
          "Revvity",
          "Rockwell Automation",
          "Rollins, Inc.",
          "Roper Technologies",
          "Ross Stores",
          "Royal Caribbean Group",
          "S&P Global",
          "Salesforce",
          "SBA Communications",
          "Schlumberger",
          "Seagate Technology",
          "Sempra",
          "ServiceNow",
          "Sherwin-Williams",
          "Simon Property Group",
          "Skyworks Solutions",
          "J.M. Smucker Company (The)",
          "Smurfit Westrock",
          "Snap-on",
          "Solventum",
          "Southern Company",
          "Southwest Airlines",
          "Stanley Black & Decker",
          "Starbucks",
          "State Street Corporation",
          "Steel Dynamics",
          "Steris",
          "Stryker Corporation",
          "Supermicro",
          "Synchrony Financial",
          "Synopsys",
          "Sysco",
          "T-Mobile US",
          "T. Rowe Price",
          "Take-Two Interactive",
          "Tapestry, Inc.",
          "Targa Resources",
          "Target Corporation",
          "TE Connectivity",
          "Teledyne Technologies",
          "Teradyne",
          "Tesla, Inc.",
          "Texas Instruments",
          "Texas Pacific Land Corporation",
          "Textron",
          "Thermo Fisher Scientific",
          "TJX Companies",
          "TKO Group Holdings",
          "Tractor Supply",
          "Trane Technologies",
          "TransDigm Group",
          "Travelers Companies (The)",
          "Trimble Inc.",
          "Truist Financial",
          "Tyler Technologies",
          "Tyson Foods",
          "U.S. Bancorp",
          "Uber",
          "UDR, Inc.",
          "Ulta Beauty",
          "Union Pacific Corporation",
          "United Airlines Holdings",
          "United Parcel Service",
          "United Rentals",
          "UnitedHealth Group",
          "Universal Health Services",
          "Valero Energy",
          "Ventas",
          "Veralto",
          "Verisign",
          "Verisk Analytics",
          "Verizon",
          "Vertex Pharmaceuticals",
          "Viatris",
          "Vici Properties",
          "Visa Inc.",
          "Vistra Corp.",
          "Vulcan Materials Company",
          "W. R. Berkley Corporation",
          "W. W. Grainger",
          "Wabtec",
          "Walgreens Boots Alliance",
          "Walmart",
          "Walt Disney Company (The)",
          "Warner Bros. Discovery",
          "Waste Management",
          "Waters Corporation",
          "WEC Energy Group",
          "Wells Fargo",
          "Welltower",
          "West Pharmaceutical Services",
          "Western Digital",
          "Weyerhaeuser",
          "Williams-Sonoma, Inc.",
          "Williams Companies",
          "Willis Towers Watson",
          "Workday, Inc.",
          "Wynn Resorts",
          "Xcel Energy",
          "Xylem Inc.",
          "Yum! Brands",
          "Zebra Technologies",
          "Zimmer Biomet",
          "Zoetis"
         ],
         "hovertemplate": "<b>%{customdata}</b><br>Date added: %{x}<extra></extra>",
         "marker": {
          "color": [
           0,
           1,
           2,
           3,
           4,
           5,
           6,
           7,
           8,
           9,
           10,
           11,
           12,
           13,
           14,
           15,
           16,
           17,
           18,
           19,
           20,
           21,
           22,
           23,
           24,
           25,
           26,
           27,
           28,
           29,
           30,
           31,
           32,
           33,
           34,
           35,
           36,
           37,
           38,
           39,
           40,
           41,
           42,
           43,
           44,
           45,
           46,
           47,
           48,
           49,
           50,
           51,
           52,
           53,
           54,
           55,
           56,
           57,
           58,
           59,
           60,
           61,
           62,
           63,
           64,
           65,
           66,
           67,
           68,
           69,
           70,
           71,
           72,
           73,
           74,
           75,
           76,
           77,
           78,
           79,
           80,
           81,
           82,
           83,
           84,
           85,
           86,
           87,
           88,
           89,
           90,
           91,
           92,
           93,
           94,
           95,
           96,
           97,
           98,
           99,
           100,
           101,
           102,
           103,
           104,
           105,
           106,
           107,
           108,
           109,
           110,
           111,
           112,
           113,
           114,
           115,
           116,
           117,
           118,
           119,
           120,
           121,
           122,
           123,
           124,
           125,
           126,
           127,
           128,
           129,
           130,
           131,
           132,
           133,
           134,
           135,
           136,
           137,
           138,
           139,
           140,
           141,
           142,
           143,
           144,
           145,
           146,
           147,
           148,
           149,
           150,
           151,
           152,
           153,
           154,
           155,
           156,
           157,
           158,
           159,
           160,
           161,
           162,
           163,
           164,
           165,
           166,
           167,
           168,
           169,
           170,
           171,
           172,
           173,
           174,
           175,
           176,
           177,
           178,
           179,
           180,
           181,
           182,
           183,
           184,
           185,
           186,
           187,
           188,
           189,
           190,
           191,
           192,
           193,
           194,
           195,
           196,
           197,
           198,
           199,
           200,
           201,
           202,
           203,
           204,
           205,
           206,
           207,
           208,
           209,
           210,
           211,
           212,
           213,
           214,
           215,
           216,
           217,
           218,
           219,
           220,
           221,
           222,
           223,
           224,
           225,
           226,
           227,
           228,
           229,
           230,
           231,
           232,
           233,
           234,
           235,
           236,
           237,
           238,
           239,
           240,
           241,
           242,
           243,
           244,
           245,
           246,
           247,
           248,
           249,
           250,
           251,
           252,
           253,
           254,
           255,
           256,
           257,
           258,
           259,
           260,
           261,
           262,
           263,
           264,
           265,
           266,
           267,
           268,
           269,
           270,
           271,
           272,
           273,
           274,
           275,
           276,
           277,
           278,
           279,
           280,
           281,
           282,
           283,
           284,
           285,
           286,
           287,
           288,
           289,
           290,
           291,
           292,
           293,
           294,
           295,
           296,
           297,
           298,
           299,
           300,
           301,
           302,
           303,
           304,
           305,
           306,
           307,
           308,
           309,
           310,
           311,
           312,
           313,
           314,
           315,
           316,
           317,
           318,
           319,
           320,
           321,
           322,
           323,
           324,
           325,
           326,
           327,
           328,
           329,
           330,
           331,
           332,
           333,
           334,
           335,
           336,
           337,
           338,
           339,
           340,
           341,
           342,
           343,
           344,
           345,
           346,
           347,
           348,
           349,
           350,
           351,
           352,
           353,
           354,
           355,
           356,
           357,
           358,
           359,
           360,
           361,
           362,
           363,
           364,
           365,
           366,
           367,
           368,
           369,
           370,
           371,
           372,
           373,
           374,
           375,
           376,
           377,
           378,
           379,
           380,
           381,
           382,
           383,
           384,
           385,
           386,
           387,
           388,
           389,
           390,
           391,
           392,
           393,
           394,
           395,
           396,
           397,
           398,
           399,
           400,
           401,
           402,
           403,
           404,
           405,
           406,
           407,
           408,
           409,
           410,
           411,
           412,
           413,
           414,
           415,
           416,
           417,
           418,
           419,
           420,
           421,
           422,
           423,
           424,
           425,
           426,
           427,
           428,
           429,
           430,
           431,
           432,
           433,
           434,
           435,
           436,
           437,
           438,
           439,
           440,
           441,
           442,
           443,
           444,
           445,
           446,
           447,
           448,
           449,
           450,
           451,
           452,
           453,
           454,
           455,
           456,
           457,
           458,
           459,
           460,
           461,
           462,
           463,
           464,
           465,
           466,
           467,
           468,
           469,
           470,
           471,
           472,
           473,
           474,
           475,
           476,
           477,
           478,
           479,
           480,
           481,
           482,
           483,
           484,
           485,
           486,
           487,
           488,
           489,
           490,
           491,
           492,
           493,
           494,
           495,
           496,
           497,
           498,
           499,
           500,
           501,
           502
          ],
          "colorscale": [
           [
            0,
            "#440154"
           ],
           [
            0.1111111111111111,
            "#482878"
           ],
           [
            0.2222222222222222,
            "#3e4989"
           ],
           [
            0.3333333333333333,
            "#31688e"
           ],
           [
            0.4444444444444444,
            "#26828e"
           ],
           [
            0.5555555555555556,
            "#1f9e89"
           ],
           [
            0.6666666666666666,
            "#35b779"
           ],
           [
            0.7777777777777778,
            "#6ece58"
           ],
           [
            0.8888888888888888,
            "#b5de2b"
           ],
           [
            1,
            "#fde725"
           ]
          ],
          "showscale": true,
          "size": 15
         },
         "mode": "markers",
         "type": "scatter",
         "x": [
          "1957-03-04",
          "2017-07-26",
          "1957-03-04",
          "2012-12-31",
          "2011-07-06",
          "1997-05-05",
          "2017-03-20",
          "1998-10-02",
          "1999-05-28",
          "2000-06-05",
          "1985-04-30",
          "2023-09-18",
          "2007-07-12",
          "2016-07-01",
          "2017-03-20",
          "2017-06-19",
          "2013-12-02",
          "2016-07-01",
          "1995-07-13",
          "2014-04-03",
          "2006-04-03",
          "1957-03-04",
          "2005-11-18",
          "2019-06-07",
          "1991-09-19",
          "1957-03-04",
          "1976-06-30",
          "1980-03-31",
          "2007-11-19",
          "2016-03-04",
          "2005-10-03",
          "2013-09-23",
          "1992-01-02",
          "2008-09-30",
          "1999-10-12",
          "2017-06-19",
          "1996-04-23",
          "1997-07-28",
          "2024-12-23",
          "1982-11-30",
          "1995-03-16",
          "2012-12-24",
          "2022-11-01",
          "1957-03-04",
          "2018-08-28",
          "2016-05-31",
          "2007-04-10",
          "1983-11-30",
          "2019-02-15",
          "1989-12-01",
          "1981-03-31",
          "1997-01-02",
          "2007-01-10",
          "1987-12-31",
          "2023-05-04",
          "2017-07-07",
          "1984-10-31",
          "1976-06-30",
          "1972-09-30",
          "1972-09-30",
          "2010-02-16",
          "1999-06-29",
          "2021-08-30",
          "2003-11-13",
          "2011-04-04",
          "2023-09-18",
          "1995-03-31",
          "1957-03-04",
          "2009-11-06",
          "1995-02-24",
          "1957-03-04",
          "2014-05-08",
          "2018-06-18",
          "2021-09-20",
          "1982-10-31",
          "2023-12-18",
          "2023-03-15",
          "2006-04-03",
          "2007-03-02",
          "2017-09-18",
          "2021-03-22",
          "2022-04-04",
          "1957-03-04",
          "1998-07-01",
          "1997-05-27",
          "2010-06-28",
          "1998-12-22",
          "2020-04-03",
          "1957-03-04",
          "2017-03-01",
          "2006-11-10",
          "2019-09-23",
          "2001-08-30",
          "2016-03-30",
          "1985-07-31",
          "2008-08-27",
          "2021-05-14",
          "1997-06-02",
          "2016-09-08",
          "1957-03-04",
          "2011-04-28",
          "2010-07-15",
          "2015-12-29",
          "1976-06-30",
          "1997-12-18",
          "2001-03-01",
          "1993-12-01",
          "1988-05-31",
          "2016-01-29",
          "1969-03-31",
          "2006-08-11",
          "1957-03-04",
          "1957-03-04",
          "2006-11-17",
          "2025-05-19",
          "1957-03-04",
          "2002-11-19",
          "1983-08-31",
          "1957-03-04",
          "1957-03-04",
          "2005-07-01",
          "2022-02-02",
          "2016-09-23",
          "2018-07-02",
          "1995-02-27",
          "2018-06-20",
          "2019-06-03",
          "2022-09-19",
          "1993-10-01",
          "2008-06-23",
          "2024-06-24",
          "2012-03-14",
          "1957-03-04",
          "1965-03-31",
          "1957-03-04",
          "1998-11-18",
          "1995-05-31",
          "2008-07-31",
          "2021-09-20",
          "2024-03-18",
          "1957-03-04",
          "2024-09-23",
          "2013-09-11",
          "2000-08-30",
          "2020-05-12",
          "2018-12-03",
          "2016-05-18",
          "2012-12-03",
          "2011-12-19",
          "2016-11-30",
          "2020-05-12",
          "2025-03-24",
          "1985-10-31",
          "2019-04-01",
          "2005-06-22",
          "1957-03-04",
          "1976-06-30",
          "2019-06-03",
          "1994-01-01",
          "1957-03-04",
          "2002-07-22",
          "1989-01-31",
          "1957-03-04",
          "2011-04-01",
          "2002-07-22",
          "2002-07-25",
          "1965-03-31",
          "2021-01-07",
          "1957-03-04",
          "2000-11-02",
          "2021-12-14",
          "2022-10-03",
          "1997-06-19",
          "2015-03-20",
          "2001-12-03",
          "2024-09-23",
          "2014-04-02",
          "2006-01-05",
          "2017-06-19",
          "2018-06-05",
          "2009-07-24",
          "1957-03-04",
          "2025-03-24",
          "2007-10-02",
          "2007-10-10",
          "2016-01-19",
          "1957-03-04",
          "2010-12-20",
          "2021-12-20",
          "2023-03-20",
          "2008-09-15",
          "2016-02-01",
          "1980-12-31",
          "2006-11-10",
          "1996-03-29",
          "2022-12-19",
          "1997-11-28",
          "2001-04-02",
          "1957-03-04",
          "2018-10-11",
          "2016-07-01",
          "2019-03-19",
          "2019-03-19",
          "1998-04-30",
          "2011-07-01",
          "2012-12-12",
          "2017-04-05",
          "1957-03-04",
          "2023-01-04",
          "2024-04-02",
          "2003-03-25",
          "2021-03-22",
          "1957-03-04",
          "1957-03-04",
          "2013-06-06",
          "1973-12-31",
          "2004-07-01",
          "2016-04-25",
          "1989-04-30",
          "2024-06-24",
          "2002-07-22",
          "1957-03-04",
          "1957-03-04",
          "1984-09-30",
          "2015-01-27",
          "2008-03-31",
          "2015-03-17",
          "1957-03-04",
          "1984-05-31",
          "2015-11-02",
          "2017-06-19",
          "2016-03-30",
          "1988-03-31",
          "1957-03-04",
          "2009-03-04",
          "2007-03-20",
          "2016-10-21",
          "1974-12-31",
          "2023-10-18",
          "2012-12-10",
          "1997-08-28",
          "2018-01-03",
          "1957-03-04",
          "2019-08-09",
          "2017-01-05",
          "1986-02-28",
          "2017-02-28",
          "2020-03-03",
          "2023-03-15",
          "1976-12-31",
          "2007-09-26",
          "1976-03-31",
          "1957-03-04",
          "1992-10-01",
          "2000-12-05",
          "2008-06-02",
          "2008-08-21",
          "2022-09-19",
          "2017-08-29",
          "2009-01-06",
          "2015-07-01",
          "2023-12-18",
          "2018-11-13",
          "2007-10-26",
          "1973-06-30",
          "2010-08-27",
          "1975-06-30",
          "2006-06-02",
          "1989-09-11",
          "2023-08-25",
          "2022-06-21",
          "1994-03-01",
          "2018-11-06",
          "1957-03-04",
          "2006-04-04",
          "2012-05-25",
          "2024-06-24",
          "1997-09-30",
          "2015-07-06",
          "1957-03-04",
          "2008-09-22",
          "2004-11-01",
          "2012-06-29",
          "2018-12-03",
          "2019-10-03",
          "2019-08-09",
          "2005-10-04",
          "2024-12-23",
          "1970-12-31",
          "1992-07-01",
          "2019-12-23",
          "2016-05-23",
          "1957-03-04",
          "1995-05-31",
          "1984-02-29",
          "2023-10-18",
          "2012-09-05",
          "2004-02-23",
          "2011-07-01",
          "2019-07-01",
          "1998-05-29",
          "1987-08-31",
          "2014-07-02",
          "1981-06-30",
          "2008-07-18",
          "2021-09-20",
          "2003-03-20",
          "1970-06-30",
          "1999-01-13",
          "1986-10-31",
          "1957-03-04",
          "2013-12-23",
          "2000-12-11",
          "2016-09-06",
          "2017-07-26",
          "2007-09-07",
          "1994-09-27",
          "1994-06-01",
          "2016-12-02",
          "2021-07-21",
          "2013-12-23",
          "2022-03-02",
          "1976-06-30",
          "2012-10-02",
          "2021-02-12",
          "2012-06-28",
          "1998-07-01",
          "1993-07-29",
          "2011-09-26",
          "1957-03-04",
          "2018-04-04",
          "2008-10-22",
          "1999-06-25",
          "2010-12-20",
          "1969-06-30",
          "2013-08-01",
          "2015-09-18",
          "1976-06-30",
          "1988-11-30",
          "2000-11-02",
          "2022-02-15",
          "1957-03-04",
          "1998-01-30",
          "1957-03-04",
          "2017-10-13",
          "2010-01-29",
          "1985-04-30",
          "2001-11-30",
          "2019-09-26",
          "2021-03-22",
          "2009-03-27",
          "1957-03-04",
          "2019-12-09",
          "1997-12-31",
          "2022-06-21",
          "2010-03-15",
          "1989-08-31",
          "2020-04-03",
          "1980-12-31",
          "2017-07-26",
          "2024-09-23",
          "2023-06-20",
          "1994-09-30",
          "1985-11-30",
          "1998-10-01",
          "2020-01-28",
          "2015-07-20",
          "2012-10-01",
          "1957-03-04",
          "1957-03-04",
          "2022-10-03",
          "2008-03-31",
          "2012-05-01",
          "1999-10-04",
          "1988-04-30",
          "2020-10-07",
          "1957-03-04",
          "2001-10-01",
          "2002-07-22",
          "1957-03-04",
          "1997-08-04",
          "2003-07-17",
          "2002-07-22",
          "1957-03-04",
          "2021-04-20",
          "2005-08-19",
          "1984-04-30",
          "2009-07-01",
          "1999-07-22",
          "2002-12-12",
          "2007-02-02",
          "2017-03-20",
          "1957-03-04",
          "2015-04-07",
          "2017-03-02",
          "2013-05-01",
          "1998-08-28",
          "2008-12-05",
          "2017-07-26",
          "1985-05-31",
          "2000-03-12",
          "2018-10-01",
          "2009-12-23",
          "2009-12-21",
          "2014-12-05",
          "1957-03-04",
          "2008-09-15",
          "2017-09-01",
          "1957-03-04",
          "2012-07-02",
          "2017-03-17",
          "2019-11-21",
          "1964-06-30",
          "2002-06-26",
          "2015-03-12",
          "2008-11-06",
          "2024-07-08",
          "1982-09-30",
          "2024-04-01",
          "1957-03-04",
          "1994-07-01",
          "1982-09-30",
          "2000-06-07",
          "2003-03-14",
          "2022-12-22",
          "2019-12-23",
          "2000-12-12",
          "2024-03-18",
          "2015-11-18",
          "2017-03-16",
          "1986-12-31",
          "2019-07-15",
          "2019-07-29",
          "2018-03-19",
          "2004-09-01",
          "2022-10-12",
          "1976-12-31",
          "2011-10-17",
          "2020-06-22",
          "2020-09-21",
          "2020-12-21",
          "2001-03-12",
          "2024-11-26",
          "1978-12-31",
          "2004-08-03",
          "1985-09-30",
          "2025-03-24",
          "2014-01-24",
          "2010-11-17",
          "2016-06-03",
          "2002-08-21",
          "2021-01-21",
          "1997-12-04",
          "2020-06-22",
          "2005-08-10",
          "1999-11-01",
          "2023-12-18",
          "2016-03-07",
          "2016-04-18",
          "1957-03-04",
          "2015-09-03",
          "2002-07-22",
          "2014-09-20",
          "1994-07-01",
          "2014-09-20",
          "2002-12-20",
          "2009-03-04",
          "2023-10-02",
          "2006-02-01",
          "2015-10-08",
          "1983-11-30",
          "2013-09-23",
          "2004-04-23",
          "2022-06-08",
          "2009-12-21",
          "2024-05-08",
          "1999-06-30",
          "2019-12-05",
          "1981-06-30",
          "2019-02-27",
          "1979-12-31",
          "1982-08-31",
          "1976-06-30",
          "2022-04-11",
          "1998-08-31",
          "2002-01-02",
          "2008-10-31",
          "1976-06-30",
          "2009-01-30",
          "2020-05-22",
          "2009-07-01",
          "1979-10-01",
          "2025-03-24",
          "1975-03-31",
          "2016-01-05",
          "2024-12-23",
          "2008-11-14",
          "1957-03-04",
          "2011-11-01",
          "1997-10-06",
          "2019-12-23",
          "2001-08-07",
          "2013-06-21"
         ],
         "y": [
          0,
          0,
          0,
          0,
          0,
          0,
          0,
          0,
          0,
          0,
          0,
          0,
          0,
          0,
          0,
          0,
          0,
          0,
          0,
          0,
          0,
          0,
          0,
          0,
          0,
          0,
          0,
          0,
          0,
          0,
          0,
          0,
          0,
          0,
          0,
          0,
          0,
          0,
          0,
          0,
          0,
          0,
          0,
          0,
          0,
          0,
          0,
          0,
          0,
          0,
          0,
          0,
          0,
          0,
          0,
          0,
          0,
          0,
          0,
          0,
          0,
          0,
          0,
          0,
          0,
          0,
          0,
          0,
          0,
          0,
          0,
          0,
          0,
          0,
          0,
          0,
          0,
          0,
          0,
          0,
          0,
          0,
          0,
          0,
          0,
          0,
          0,
          0,
          0,
          0,
          0,
          0,
          0,
          0,
          0,
          0,
          0,
          0,
          0,
          0,
          0,
          0,
          0,
          0,
          0,
          0,
          0,
          0,
          0,
          0,
          0,
          0,
          0,
          0,
          0,
          0,
          0,
          0,
          0,
          0,
          0,
          0,
          0,
          0,
          0,
          0,
          0,
          0,
          0,
          0,
          0,
          0,
          0,
          0,
          0,
          0,
          0,
          0,
          0,
          0,
          0,
          0,
          0,
          0,
          0,
          0,
          0,
          0,
          0,
          0,
          0,
          0,
          0,
          0,
          0,
          0,
          0,
          0,
          0,
          0,
          0,
          0,
          0,
          0,
          0,
          0,
          0,
          0,
          0,
          0,
          0,
          0,
          0,
          0,
          0,
          0,
          0,
          0,
          0,
          0,
          0,
          0,
          0,
          0,
          0,
          0,
          0,
          0,
          0,
          0,
          0,
          0,
          0,
          0,
          0,
          0,
          0,
          0,
          0,
          0,
          0,
          0,
          0,
          0,
          0,
          0,
          0,
          0,
          0,
          0,
          0,
          0,
          0,
          0,
          0,
          0,
          0,
          0,
          0,
          0,
          0,
          0,
          0,
          0,
          0,
          0,
          0,
          0,
          0,
          0,
          0,
          0,
          0,
          0,
          0,
          0,
          0,
          0,
          0,
          0,
          0,
          0,
          0,
          0,
          0,
          0,
          0,
          0,
          0,
          0,
          0,
          0,
          0,
          0,
          0,
          0,
          0,
          0,
          0,
          0,
          0,
          0,
          0,
          0,
          0,
          0,
          0,
          0,
          0,
          0,
          0,
          0,
          0,
          0,
          0,
          0,
          0,
          0,
          0,
          0,
          0,
          0,
          0,
          0,
          0,
          0,
          0,
          0,
          0,
          0,
          0,
          0,
          0,
          0,
          0,
          0,
          0,
          0,
          0,
          0,
          0,
          0,
          0,
          0,
          0,
          0,
          0,
          0,
          0,
          0,
          0,
          0,
          0,
          0,
          0,
          0,
          0,
          0,
          0,
          0,
          0,
          0,
          0,
          0,
          0,
          0,
          0,
          0,
          0,
          0,
          0,
          0,
          0,
          0,
          0,
          0,
          0,
          0,
          0,
          0,
          0,
          0,
          0,
          0,
          0,
          0,
          0,
          0,
          0,
          0,
          0,
          0,
          0,
          0,
          0,
          0,
          0,
          0,
          0,
          0,
          0,
          0,
          0,
          0,
          0,
          0,
          0,
          0,
          0,
          0,
          0,
          0,
          0,
          0,
          0,
          0,
          0,
          0,
          0,
          0,
          0,
          0,
          0,
          0,
          0,
          0,
          0,
          0,
          0,
          0,
          0,
          0,
          0,
          0,
          0,
          0,
          0,
          0,
          0,
          0,
          0,
          0,
          0,
          0,
          0,
          0,
          0,
          0,
          0,
          0,
          0,
          0,
          0,
          0,
          0,
          0,
          0,
          0,
          0,
          0,
          0,
          0,
          0,
          0,
          0,
          0,
          0,
          0,
          0,
          0,
          0,
          0,
          0,
          0,
          0,
          0,
          0,
          0,
          0,
          0,
          0,
          0,
          0,
          0,
          0,
          0,
          0,
          0,
          0,
          0,
          0,
          0,
          0,
          0,
          0,
          0,
          0,
          0,
          0,
          0,
          0,
          0,
          0,
          0,
          0,
          0,
          0,
          0,
          0,
          0,
          0,
          0,
          0,
          0,
          0,
          0,
          0,
          0,
          0,
          0,
          0,
          0,
          0,
          0,
          0,
          0,
          0,
          0,
          0,
          0,
          0,
          0,
          0,
          0,
          0,
          0,
          0,
          0,
          0,
          0,
          0,
          0,
          0
         ]
        },
        {
         "line": {
          "color": "gray",
          "width": 2
         },
         "mode": "lines",
         "showlegend": false,
         "type": "scatter",
         "x": [
          "1957-03-04",
          "2025-05-19"
         ],
         "y": [
          0,
          0
         ]
        }
       ],
       "layout": {
        "annotations": [
         {
          "font": {
           "size": 12
          },
          "showarrow": false,
          "text": "3M",
          "textangle": 45,
          "x": "1957-03-04",
          "xshift": 0,
          "y": 0,
          "yshift": 20
         },
         {
          "font": {
           "size": 12
          },
          "showarrow": false,
          "text": "A. O. Smith",
          "textangle": 45,
          "x": "2017-07-26",
          "xshift": 0,
          "y": 0,
          "yshift": 20
         },
         {
          "font": {
           "size": 12
          },
          "showarrow": false,
          "text": "Abbott Laboratories",
          "textangle": 45,
          "x": "1957-03-04",
          "xshift": 0,
          "y": 0,
          "yshift": 20
         },
         {
          "font": {
           "size": 12
          },
          "showarrow": false,
          "text": "AbbVie",
          "textangle": 45,
          "x": "2012-12-31",
          "xshift": 0,
          "y": 0,
          "yshift": 20
         },
         {
          "font": {
           "size": 12
          },
          "showarrow": false,
          "text": "Accenture",
          "textangle": 45,
          "x": "2011-07-06",
          "xshift": 0,
          "y": 0,
          "yshift": 20
         },
         {
          "font": {
           "size": 12
          },
          "showarrow": false,
          "text": "Adobe Inc.",
          "textangle": 45,
          "x": "1997-05-05",
          "xshift": 0,
          "y": 0,
          "yshift": 20
         },
         {
          "font": {
           "size": 12
          },
          "showarrow": false,
          "text": "Advanced Micro Devices",
          "textangle": 45,
          "x": "2017-03-20",
          "xshift": 0,
          "y": 0,
          "yshift": 20
         },
         {
          "font": {
           "size": 12
          },
          "showarrow": false,
          "text": "AES Corporation",
          "textangle": 45,
          "x": "1998-10-02",
          "xshift": 0,
          "y": 0,
          "yshift": 20
         },
         {
          "font": {
           "size": 12
          },
          "showarrow": false,
          "text": "Aflac",
          "textangle": 45,
          "x": "1999-05-28",
          "xshift": 0,
          "y": 0,
          "yshift": 20
         },
         {
          "font": {
           "size": 12
          },
          "showarrow": false,
          "text": "Agilent Technologies",
          "textangle": 45,
          "x": "2000-06-05",
          "xshift": 0,
          "y": 0,
          "yshift": 20
         },
         {
          "font": {
           "size": 12
          },
          "showarrow": false,
          "text": "Air Products",
          "textangle": 45,
          "x": "1985-04-30",
          "xshift": 0,
          "y": 0,
          "yshift": 20
         },
         {
          "font": {
           "size": 12
          },
          "showarrow": false,
          "text": "Airbnb",
          "textangle": 45,
          "x": "2023-09-18",
          "xshift": 0,
          "y": 0,
          "yshift": 20
         },
         {
          "font": {
           "size": 12
          },
          "showarrow": false,
          "text": "Akamai Technologies",
          "textangle": 45,
          "x": "2007-07-12",
          "xshift": 0,
          "y": 0,
          "yshift": 20
         },
         {
          "font": {
           "size": 12
          },
          "showarrow": false,
          "text": "Albemarle Corporation",
          "textangle": 45,
          "x": "2016-07-01",
          "xshift": 0,
          "y": 0,
          "yshift": 20
         },
         {
          "font": {
           "size": 12
          },
          "showarrow": false,
          "text": "Alexandria Real Estate Equities",
          "textangle": 45,
          "x": "2017-03-20",
          "xshift": 0,
          "y": 0,
          "yshift": 20
         },
         {
          "font": {
           "size": 12
          },
          "showarrow": false,
          "text": "Align Technology",
          "textangle": 45,
          "x": "2017-06-19",
          "xshift": 0,
          "y": 0,
          "yshift": 20
         },
         {
          "font": {
           "size": 12
          },
          "showarrow": false,
          "text": "Allegion",
          "textangle": 45,
          "x": "2013-12-02",
          "xshift": 0,
          "y": 0,
          "yshift": 20
         },
         {
          "font": {
           "size": 12
          },
          "showarrow": false,
          "text": "Alliant Energy",
          "textangle": 45,
          "x": "2016-07-01",
          "xshift": 0,
          "y": 0,
          "yshift": 20
         },
         {
          "font": {
           "size": 12
          },
          "showarrow": false,
          "text": "Allstate",
          "textangle": 45,
          "x": "1995-07-13",
          "xshift": 0,
          "y": 0,
          "yshift": 20
         },
         {
          "font": {
           "size": 12
          },
          "showarrow": false,
          "text": "Alphabet Inc. (Class A)",
          "textangle": 45,
          "x": "2014-04-03",
          "xshift": 0,
          "y": 0,
          "yshift": 20
         },
         {
          "font": {
           "size": 12
          },
          "showarrow": false,
          "text": "Alphabet Inc. (Class C)",
          "textangle": 45,
          "x": "2006-04-03",
          "xshift": 0,
          "y": 0,
          "yshift": 20
         },
         {
          "font": {
           "size": 12
          },
          "showarrow": false,
          "text": "Altria",
          "textangle": 45,
          "x": "1957-03-04",
          "xshift": 0,
          "y": 0,
          "yshift": 20
         },
         {
          "font": {
           "size": 12
          },
          "showarrow": false,
          "text": "Amazon",
          "textangle": 45,
          "x": "2005-11-18",
          "xshift": 0,
          "y": 0,
          "yshift": 20
         },
         {
          "font": {
           "size": 12
          },
          "showarrow": false,
          "text": "Amcor",
          "textangle": 45,
          "x": "2019-06-07",
          "xshift": 0,
          "y": 0,
          "yshift": 20
         },
         {
          "font": {
           "size": 12
          },
          "showarrow": false,
          "text": "Ameren",
          "textangle": 45,
          "x": "1991-09-19",
          "xshift": 0,
          "y": 0,
          "yshift": 20
         },
         {
          "font": {
           "size": 12
          },
          "showarrow": false,
          "text": "American Electric Power",
          "textangle": 45,
          "x": "1957-03-04",
          "xshift": 0,
          "y": 0,
          "yshift": 20
         },
         {
          "font": {
           "size": 12
          },
          "showarrow": false,
          "text": "American Express",
          "textangle": 45,
          "x": "1976-06-30",
          "xshift": 0,
          "y": 0,
          "yshift": 20
         },
         {
          "font": {
           "size": 12
          },
          "showarrow": false,
          "text": "American International Group",
          "textangle": 45,
          "x": "1980-03-31",
          "xshift": 0,
          "y": 0,
          "yshift": 20
         },
         {
          "font": {
           "size": 12
          },
          "showarrow": false,
          "text": "American Tower",
          "textangle": 45,
          "x": "2007-11-19",
          "xshift": 0,
          "y": 0,
          "yshift": 20
         },
         {
          "font": {
           "size": 12
          },
          "showarrow": false,
          "text": "American Water Works",
          "textangle": 45,
          "x": "2016-03-04",
          "xshift": 0,
          "y": 0,
          "yshift": 20
         },
         {
          "font": {
           "size": 12
          },
          "showarrow": false,
          "text": "Ameriprise Financial",
          "textangle": 45,
          "x": "2005-10-03",
          "xshift": 0,
          "y": 0,
          "yshift": 20
         },
         {
          "font": {
           "size": 12
          },
          "showarrow": false,
          "text": "Ametek",
          "textangle": 45,
          "x": "2013-09-23",
          "xshift": 0,
          "y": 0,
          "yshift": 20
         },
         {
          "font": {
           "size": 12
          },
          "showarrow": false,
          "text": "Amgen",
          "textangle": 45,
          "x": "1992-01-02",
          "xshift": 0,
          "y": 0,
          "yshift": 20
         },
         {
          "font": {
           "size": 12
          },
          "showarrow": false,
          "text": "Amphenol",
          "textangle": 45,
          "x": "2008-09-30",
          "xshift": 0,
          "y": 0,
          "yshift": 20
         },
         {
          "font": {
           "size": 12
          },
          "showarrow": false,
          "text": "Analog Devices",
          "textangle": 45,
          "x": "1999-10-12",
          "xshift": 0,
          "y": 0,
          "yshift": 20
         },
         {
          "font": {
           "size": 12
          },
          "showarrow": false,
          "text": "Ansys",
          "textangle": 45,
          "x": "2017-06-19",
          "xshift": 0,
          "y": 0,
          "yshift": 20
         },
         {
          "font": {
           "size": 12
          },
          "showarrow": false,
          "text": "Aon plc",
          "textangle": 45,
          "x": "1996-04-23",
          "xshift": 0,
          "y": 0,
          "yshift": 20
         },
         {
          "font": {
           "size": 12
          },
          "showarrow": false,
          "text": "APA Corporation",
          "textangle": 45,
          "x": "1997-07-28",
          "xshift": 0,
          "y": 0,
          "yshift": 20
         },
         {
          "font": {
           "size": 12
          },
          "showarrow": false,
          "text": "Apollo Global Management",
          "textangle": 45,
          "x": "2024-12-23",
          "xshift": 0,
          "y": 0,
          "yshift": 20
         },
         {
          "font": {
           "size": 12
          },
          "showarrow": false,
          "text": "Apple Inc.",
          "textangle": 45,
          "x": "1982-11-30",
          "xshift": 0,
          "y": 0,
          "yshift": 20
         },
         {
          "font": {
           "size": 12
          },
          "showarrow": false,
          "text": "Applied Materials",
          "textangle": 45,
          "x": "1995-03-16",
          "xshift": 0,
          "y": 0,
          "yshift": 20
         },
         {
          "font": {
           "size": 12
          },
          "showarrow": false,
          "text": "Aptiv",
          "textangle": 45,
          "x": "2012-12-24",
          "xshift": 0,
          "y": 0,
          "yshift": 20
         },
         {
          "font": {
           "size": 12
          },
          "showarrow": false,
          "text": "Arch Capital Group",
          "textangle": 45,
          "x": "2022-11-01",
          "xshift": 0,
          "y": 0,
          "yshift": 20
         },
         {
          "font": {
           "size": 12
          },
          "showarrow": false,
          "text": "Archer Daniels Midland",
          "textangle": 45,
          "x": "1957-03-04",
          "xshift": 0,
          "y": 0,
          "yshift": 20
         },
         {
          "font": {
           "size": 12
          },
          "showarrow": false,
          "text": "Arista Networks",
          "textangle": 45,
          "x": "2018-08-28",
          "xshift": 0,
          "y": 0,
          "yshift": 20
         },
         {
          "font": {
           "size": 12
          },
          "showarrow": false,
          "text": "Arthur J. Gallagher & Co.",
          "textangle": 45,
          "x": "2016-05-31",
          "xshift": 0,
          "y": 0,
          "yshift": 20
         },
         {
          "font": {
           "size": 12
          },
          "showarrow": false,
          "text": "Assurant",
          "textangle": 45,
          "x": "2007-04-10",
          "xshift": 0,
          "y": 0,
          "yshift": 20
         },
         {
          "font": {
           "size": 12
          },
          "showarrow": false,
          "text": "AT&T",
          "textangle": 45,
          "x": "1983-11-30",
          "xshift": 0,
          "y": 0,
          "yshift": 20
         },
         {
          "font": {
           "size": 12
          },
          "showarrow": false,
          "text": "Atmos Energy",
          "textangle": 45,
          "x": "2019-02-15",
          "xshift": 0,
          "y": 0,
          "yshift": 20
         },
         {
          "font": {
           "size": 12
          },
          "showarrow": false,
          "text": "Autodesk",
          "textangle": 45,
          "x": "1989-12-01",
          "xshift": 0,
          "y": 0,
          "yshift": 20
         },
         {
          "font": {
           "size": 12
          },
          "showarrow": false,
          "text": "Automatic Data Processing",
          "textangle": 45,
          "x": "1981-03-31",
          "xshift": 0,
          "y": 0,
          "yshift": 20
         },
         {
          "font": {
           "size": 12
          },
          "showarrow": false,
          "text": "AutoZone",
          "textangle": 45,
          "x": "1997-01-02",
          "xshift": 0,
          "y": 0,
          "yshift": 20
         },
         {
          "font": {
           "size": 12
          },
          "showarrow": false,
          "text": "AvalonBay Communities",
          "textangle": 45,
          "x": "2007-01-10",
          "xshift": 0,
          "y": 0,
          "yshift": 20
         },
         {
          "font": {
           "size": 12
          },
          "showarrow": false,
          "text": "Avery Dennison",
          "textangle": 45,
          "x": "1987-12-31",
          "xshift": 0,
          "y": 0,
          "yshift": 20
         },
         {
          "font": {
           "size": 12
          },
          "showarrow": false,
          "text": "Axon Enterprise",
          "textangle": 45,
          "x": "2023-05-04",
          "xshift": 0,
          "y": 0,
          "yshift": 20
         },
         {
          "font": {
           "size": 12
          },
          "showarrow": false,
          "text": "Baker Hughes",
          "textangle": 45,
          "x": "2017-07-07",
          "xshift": 0,
          "y": 0,
          "yshift": 20
         },
         {
          "font": {
           "size": 12
          },
          "showarrow": false,
          "text": "Ball Corporation",
          "textangle": 45,
          "x": "1984-10-31",
          "xshift": 0,
          "y": 0,
          "yshift": 20
         },
         {
          "font": {
           "size": 12
          },
          "showarrow": false,
          "text": "Bank of America",
          "textangle": 45,
          "x": "1976-06-30",
          "xshift": 0,
          "y": 0,
          "yshift": 20
         },
         {
          "font": {
           "size": 12
          },
          "showarrow": false,
          "text": "Baxter International",
          "textangle": 45,
          "x": "1972-09-30",
          "xshift": 0,
          "y": 0,
          "yshift": 20
         },
         {
          "font": {
           "size": 12
          },
          "showarrow": false,
          "text": "Becton Dickinson",
          "textangle": 45,
          "x": "1972-09-30",
          "xshift": 0,
          "y": 0,
          "yshift": 20
         },
         {
          "font": {
           "size": 12
          },
          "showarrow": false,
          "text": "Berkshire Hathaway",
          "textangle": 45,
          "x": "2010-02-16",
          "xshift": 0,
          "y": 0,
          "yshift": 20
         },
         {
          "font": {
           "size": 12
          },
          "showarrow": false,
          "text": "Best Buy",
          "textangle": 45,
          "x": "1999-06-29",
          "xshift": 0,
          "y": 0,
          "yshift": 20
         },
         {
          "font": {
           "size": 12
          },
          "showarrow": false,
          "text": "Bio-Techne",
          "textangle": 45,
          "x": "2021-08-30",
          "xshift": 0,
          "y": 0,
          "yshift": 20
         },
         {
          "font": {
           "size": 12
          },
          "showarrow": false,
          "text": "Biogen",
          "textangle": 45,
          "x": "2003-11-13",
          "xshift": 0,
          "y": 0,
          "yshift": 20
         },
         {
          "font": {
           "size": 12
          },
          "showarrow": false,
          "text": "BlackRock",
          "textangle": 45,
          "x": "2011-04-04",
          "xshift": 0,
          "y": 0,
          "yshift": 20
         },
         {
          "font": {
           "size": 12
          },
          "showarrow": false,
          "text": "Blackstone Inc.",
          "textangle": 45,
          "x": "2023-09-18",
          "xshift": 0,
          "y": 0,
          "yshift": 20
         },
         {
          "font": {
           "size": 12
          },
          "showarrow": false,
          "text": "BNY Mellon",
          "textangle": 45,
          "x": "1995-03-31",
          "xshift": 0,
          "y": 0,
          "yshift": 20
         },
         {
          "font": {
           "size": 12
          },
          "showarrow": false,
          "text": "Boeing",
          "textangle": 45,
          "x": "1957-03-04",
          "xshift": 0,
          "y": 0,
          "yshift": 20
         },
         {
          "font": {
           "size": 12
          },
          "showarrow": false,
          "text": "Booking Holdings",
          "textangle": 45,
          "x": "2009-11-06",
          "xshift": 0,
          "y": 0,
          "yshift": 20
         },
         {
          "font": {
           "size": 12
          },
          "showarrow": false,
          "text": "Boston Scientific",
          "textangle": 45,
          "x": "1995-02-24",
          "xshift": 0,
          "y": 0,
          "yshift": 20
         },
         {
          "font": {
           "size": 12
          },
          "showarrow": false,
          "text": "Bristol Myers Squibb",
          "textangle": 45,
          "x": "1957-03-04",
          "xshift": 0,
          "y": 0,
          "yshift": 20
         },
         {
          "font": {
           "size": 12
          },
          "showarrow": false,
          "text": "Broadcom",
          "textangle": 45,
          "x": "2014-05-08",
          "xshift": 0,
          "y": 0,
          "yshift": 20
         },
         {
          "font": {
           "size": 12
          },
          "showarrow": false,
          "text": "Broadridge Financial Solutions",
          "textangle": 45,
          "x": "2018-06-18",
          "xshift": 0,
          "y": 0,
          "yshift": 20
         },
         {
          "font": {
           "size": 12
          },
          "showarrow": false,
          "text": "Brown & Brown",
          "textangle": 45,
          "x": "2021-09-20",
          "xshift": 0,
          "y": 0,
          "yshift": 20
         },
         {
          "font": {
           "size": 12
          },
          "showarrow": false,
          "text": "Brown–Forman",
          "textangle": 45,
          "x": "1982-10-31",
          "xshift": 0,
          "y": 0,
          "yshift": 20
         },
         {
          "font": {
           "size": 12
          },
          "showarrow": false,
          "text": "Builders FirstSource",
          "textangle": 45,
          "x": "2023-12-18",
          "xshift": 0,
          "y": 0,
          "yshift": 20
         },
         {
          "font": {
           "size": 12
          },
          "showarrow": false,
          "text": "Bunge Global",
          "textangle": 45,
          "x": "2023-03-15",
          "xshift": 0,
          "y": 0,
          "yshift": 20
         },
         {
          "font": {
           "size": 12
          },
          "showarrow": false,
          "text": "BXP, Inc.",
          "textangle": 45,
          "x": "2006-04-03",
          "xshift": 0,
          "y": 0,
          "yshift": 20
         },
         {
          "font": {
           "size": 12
          },
          "showarrow": false,
          "text": "C.H. Robinson",
          "textangle": 45,
          "x": "2007-03-02",
          "xshift": 0,
          "y": 0,
          "yshift": 20
         },
         {
          "font": {
           "size": 12
          },
          "showarrow": false,
          "text": "Cadence Design Systems",
          "textangle": 45,
          "x": "2017-09-18",
          "xshift": 0,
          "y": 0,
          "yshift": 20
         },
         {
          "font": {
           "size": 12
          },
          "showarrow": false,
          "text": "Caesars Entertainment",
          "textangle": 45,
          "x": "2021-03-22",
          "xshift": 0,
          "y": 0,
          "yshift": 20
         },
         {
          "font": {
           "size": 12
          },
          "showarrow": false,
          "text": "Camden Property Trust",
          "textangle": 45,
          "x": "2022-04-04",
          "xshift": 0,
          "y": 0,
          "yshift": 20
         },
         {
          "font": {
           "size": 12
          },
          "showarrow": false,
          "text": "Campbell's Company (The)",
          "textangle": 45,
          "x": "1957-03-04",
          "xshift": 0,
          "y": 0,
          "yshift": 20
         },
         {
          "font": {
           "size": 12
          },
          "showarrow": false,
          "text": "Capital One",
          "textangle": 45,
          "x": "1998-07-01",
          "xshift": 0,
          "y": 0,
          "yshift": 20
         },
         {
          "font": {
           "size": 12
          },
          "showarrow": false,
          "text": "Cardinal Health",
          "textangle": 45,
          "x": "1997-05-27",
          "xshift": 0,
          "y": 0,
          "yshift": 20
         },
         {
          "font": {
           "size": 12
          },
          "showarrow": false,
          "text": "CarMax",
          "textangle": 45,
          "x": "2010-06-28",
          "xshift": 0,
          "y": 0,
          "yshift": 20
         },
         {
          "font": {
           "size": 12
          },
          "showarrow": false,
          "text": "Carnival",
          "textangle": 45,
          "x": "1998-12-22",
          "xshift": 0,
          "y": 0,
          "yshift": 20
         },
         {
          "font": {
           "size": 12
          },
          "showarrow": false,
          "text": "Carrier Global",
          "textangle": 45,
          "x": "2020-04-03",
          "xshift": 0,
          "y": 0,
          "yshift": 20
         },
         {
          "font": {
           "size": 12
          },
          "showarrow": false,
          "text": "Caterpillar Inc.",
          "textangle": 45,
          "x": "1957-03-04",
          "xshift": 0,
          "y": 0,
          "yshift": 20
         },
         {
          "font": {
           "size": 12
          },
          "showarrow": false,
          "text": "Cboe Global Markets",
          "textangle": 45,
          "x": "2017-03-01",
          "xshift": 0,
          "y": 0,
          "yshift": 20
         },
         {
          "font": {
           "size": 12
          },
          "showarrow": false,
          "text": "CBRE Group",
          "textangle": 45,
          "x": "2006-11-10",
          "xshift": 0,
          "y": 0,
          "yshift": 20
         },
         {
          "font": {
           "size": 12
          },
          "showarrow": false,
          "text": "CDW Corporation",
          "textangle": 45,
          "x": "2019-09-23",
          "xshift": 0,
          "y": 0,
          "yshift": 20
         },
         {
          "font": {
           "size": 12
          },
          "showarrow": false,
          "text": "Cencora",
          "textangle": 45,
          "x": "2001-08-30",
          "xshift": 0,
          "y": 0,
          "yshift": 20
         },
         {
          "font": {
           "size": 12
          },
          "showarrow": false,
          "text": "Centene Corporation",
          "textangle": 45,
          "x": "2016-03-30",
          "xshift": 0,
          "y": 0,
          "yshift": 20
         },
         {
          "font": {
           "size": 12
          },
          "showarrow": false,
          "text": "CenterPoint Energy",
          "textangle": 45,
          "x": "1985-07-31",
          "xshift": 0,
          "y": 0,
          "yshift": 20
         },
         {
          "font": {
           "size": 12
          },
          "showarrow": false,
          "text": "CF Industries",
          "textangle": 45,
          "x": "2008-08-27",
          "xshift": 0,
          "y": 0,
          "yshift": 20
         },
         {
          "font": {
           "size": 12
          },
          "showarrow": false,
          "text": "Charles River Laboratories",
          "textangle": 45,
          "x": "2021-05-14",
          "xshift": 0,
          "y": 0,
          "yshift": 20
         },
         {
          "font": {
           "size": 12
          },
          "showarrow": false,
          "text": "Charles Schwab Corporation",
          "textangle": 45,
          "x": "1997-06-02",
          "xshift": 0,
          "y": 0,
          "yshift": 20
         },
         {
          "font": {
           "size": 12
          },
          "showarrow": false,
          "text": "Charter Communications",
          "textangle": 45,
          "x": "2016-09-08",
          "xshift": 0,
          "y": 0,
          "yshift": 20
         },
         {
          "font": {
           "size": 12
          },
          "showarrow": false,
          "text": "Chevron Corporation",
          "textangle": 45,
          "x": "1957-03-04",
          "xshift": 0,
          "y": 0,
          "yshift": 20
         },
         {
          "font": {
           "size": 12
          },
          "showarrow": false,
          "text": "Chipotle Mexican Grill",
          "textangle": 45,
          "x": "2011-04-28",
          "xshift": 0,
          "y": 0,
          "yshift": 20
         },
         {
          "font": {
           "size": 12
          },
          "showarrow": false,
          "text": "Chubb Limited",
          "textangle": 45,
          "x": "2010-07-15",
          "xshift": 0,
          "y": 0,
          "yshift": 20
         },
         {
          "font": {
           "size": 12
          },
          "showarrow": false,
          "text": "Church & Dwight",
          "textangle": 45,
          "x": "2015-12-29",
          "xshift": 0,
          "y": 0,
          "yshift": 20
         },
         {
          "font": {
           "size": 12
          },
          "showarrow": false,
          "text": "Cigna",
          "textangle": 45,
          "x": "1976-06-30",
          "xshift": 0,
          "y": 0,
          "yshift": 20
         },
         {
          "font": {
           "size": 12
          },
          "showarrow": false,
          "text": "Cincinnati Financial",
          "textangle": 45,
          "x": "1997-12-18",
          "xshift": 0,
          "y": 0,
          "yshift": 20
         },
         {
          "font": {
           "size": 12
          },
          "showarrow": false,
          "text": "Cintas",
          "textangle": 45,
          "x": "2001-03-01",
          "xshift": 0,
          "y": 0,
          "yshift": 20
         },
         {
          "font": {
           "size": 12
          },
          "showarrow": false,
          "text": "Cisco",
          "textangle": 45,
          "x": "1993-12-01",
          "xshift": 0,
          "y": 0,
          "yshift": 20
         },
         {
          "font": {
           "size": 12
          },
          "showarrow": false,
          "text": "Citigroup",
          "textangle": 45,
          "x": "1988-05-31",
          "xshift": 0,
          "y": 0,
          "yshift": 20
         },
         {
          "font": {
           "size": 12
          },
          "showarrow": false,
          "text": "Citizens Financial Group",
          "textangle": 45,
          "x": "2016-01-29",
          "xshift": 0,
          "y": 0,
          "yshift": 20
         },
         {
          "font": {
           "size": 12
          },
          "showarrow": false,
          "text": "Clorox",
          "textangle": 45,
          "x": "1969-03-31",
          "xshift": 0,
          "y": 0,
          "yshift": 20
         },
         {
          "font": {
           "size": 12
          },
          "showarrow": false,
          "text": "CME Group",
          "textangle": 45,
          "x": "2006-08-11",
          "xshift": 0,
          "y": 0,
          "yshift": 20
         },
         {
          "font": {
           "size": 12
          },
          "showarrow": false,
          "text": "CMS Energy",
          "textangle": 45,
          "x": "1957-03-04",
          "xshift": 0,
          "y": 0,
          "yshift": 20
         },
         {
          "font": {
           "size": 12
          },
          "showarrow": false,
          "text": "Coca-Cola Company (The)",
          "textangle": 45,
          "x": "1957-03-04",
          "xshift": 0,
          "y": 0,
          "yshift": 20
         },
         {
          "font": {
           "size": 12
          },
          "showarrow": false,
          "text": "Cognizant",
          "textangle": 45,
          "x": "2006-11-17",
          "xshift": 0,
          "y": 0,
          "yshift": 20
         },
         {
          "font": {
           "size": 12
          },
          "showarrow": false,
          "text": "Coinbase",
          "textangle": 45,
          "x": "2025-05-19",
          "xshift": 0,
          "y": 0,
          "yshift": 20
         },
         {
          "font": {
           "size": 12
          },
          "showarrow": false,
          "text": "Colgate-Palmolive",
          "textangle": 45,
          "x": "1957-03-04",
          "xshift": 0,
          "y": 0,
          "yshift": 20
         },
         {
          "font": {
           "size": 12
          },
          "showarrow": false,
          "text": "Comcast",
          "textangle": 45,
          "x": "2002-11-19",
          "xshift": 0,
          "y": 0,
          "yshift": 20
         },
         {
          "font": {
           "size": 12
          },
          "showarrow": false,
          "text": "Conagra Brands",
          "textangle": 45,
          "x": "1983-08-31",
          "xshift": 0,
          "y": 0,
          "yshift": 20
         },
         {
          "font": {
           "size": 12
          },
          "showarrow": false,
          "text": "ConocoPhillips",
          "textangle": 45,
          "x": "1957-03-04",
          "xshift": 0,
          "y": 0,
          "yshift": 20
         },
         {
          "font": {
           "size": 12
          },
          "showarrow": false,
          "text": "Consolidated Edison",
          "textangle": 45,
          "x": "1957-03-04",
          "xshift": 0,
          "y": 0,
          "yshift": 20
         },
         {
          "font": {
           "size": 12
          },
          "showarrow": false,
          "text": "Constellation Brands",
          "textangle": 45,
          "x": "2005-07-01",
          "xshift": 0,
          "y": 0,
          "yshift": 20
         },
         {
          "font": {
           "size": 12
          },
          "showarrow": false,
          "text": "Constellation Energy",
          "textangle": 45,
          "x": "2022-02-02",
          "xshift": 0,
          "y": 0,
          "yshift": 20
         },
         {
          "font": {
           "size": 12
          },
          "showarrow": false,
          "text": "Cooper Companies (The)",
          "textangle": 45,
          "x": "2016-09-23",
          "xshift": 0,
          "y": 0,
          "yshift": 20
         },
         {
          "font": {
           "size": 12
          },
          "showarrow": false,
          "text": "Copart",
          "textangle": 45,
          "x": "2018-07-02",
          "xshift": 0,
          "y": 0,
          "yshift": 20
         },
         {
          "font": {
           "size": 12
          },
          "showarrow": false,
          "text": "Corning Inc.",
          "textangle": 45,
          "x": "1995-02-27",
          "xshift": 0,
          "y": 0,
          "yshift": 20
         },
         {
          "font": {
           "size": 12
          },
          "showarrow": false,
          "text": "Corpay",
          "textangle": 45,
          "x": "2018-06-20",
          "xshift": 0,
          "y": 0,
          "yshift": 20
         },
         {
          "font": {
           "size": 12
          },
          "showarrow": false,
          "text": "Corteva",
          "textangle": 45,
          "x": "2019-06-03",
          "xshift": 0,
          "y": 0,
          "yshift": 20
         },
         {
          "font": {
           "size": 12
          },
          "showarrow": false,
          "text": "CoStar Group",
          "textangle": 45,
          "x": "2022-09-19",
          "xshift": 0,
          "y": 0,
          "yshift": 20
         },
         {
          "font": {
           "size": 12
          },
          "showarrow": false,
          "text": "Costco",
          "textangle": 45,
          "x": "1993-10-01",
          "xshift": 0,
          "y": 0,
          "yshift": 20
         },
         {
          "font": {
           "size": 12
          },
          "showarrow": false,
          "text": "Coterra",
          "textangle": 45,
          "x": "2008-06-23",
          "xshift": 0,
          "y": 0,
          "yshift": 20
         },
         {
          "font": {
           "size": 12
          },
          "showarrow": false,
          "text": "CrowdStrike",
          "textangle": 45,
          "x": "2024-06-24",
          "xshift": 0,
          "y": 0,
          "yshift": 20
         },
         {
          "font": {
           "size": 12
          },
          "showarrow": false,
          "text": "Crown Castle",
          "textangle": 45,
          "x": "2012-03-14",
          "xshift": 0,
          "y": 0,
          "yshift": 20
         },
         {
          "font": {
           "size": 12
          },
          "showarrow": false,
          "text": "CSX Corporation",
          "textangle": 45,
          "x": "1957-03-04",
          "xshift": 0,
          "y": 0,
          "yshift": 20
         },
         {
          "font": {
           "size": 12
          },
          "showarrow": false,
          "text": "Cummins",
          "textangle": 45,
          "x": "1965-03-31",
          "xshift": 0,
          "y": 0,
          "yshift": 20
         },
         {
          "font": {
           "size": 12
          },
          "showarrow": false,
          "text": "CVS Health",
          "textangle": 45,
          "x": "1957-03-04",
          "xshift": 0,
          "y": 0,
          "yshift": 20
         },
         {
          "font": {
           "size": 12
          },
          "showarrow": false,
          "text": "Danaher Corporation",
          "textangle": 45,
          "x": "1998-11-18",
          "xshift": 0,
          "y": 0,
          "yshift": 20
         },
         {
          "font": {
           "size": 12
          },
          "showarrow": false,
          "text": "Darden Restaurants",
          "textangle": 45,
          "x": "1995-05-31",
          "xshift": 0,
          "y": 0,
          "yshift": 20
         },
         {
          "font": {
           "size": 12
          },
          "showarrow": false,
          "text": "DaVita",
          "textangle": 45,
          "x": "2008-07-31",
          "xshift": 0,
          "y": 0,
          "yshift": 20
         },
         {
          "font": {
           "size": 12
          },
          "showarrow": false,
          "text": "Dayforce",
          "textangle": 45,
          "x": "2021-09-20",
          "xshift": 0,
          "y": 0,
          "yshift": 20
         },
         {
          "font": {
           "size": 12
          },
          "showarrow": false,
          "text": "Deckers Brands",
          "textangle": 45,
          "x": "2024-03-18",
          "xshift": 0,
          "y": 0,
          "yshift": 20
         },
         {
          "font": {
           "size": 12
          },
          "showarrow": false,
          "text": "Deere & Company",
          "textangle": 45,
          "x": "1957-03-04",
          "xshift": 0,
          "y": 0,
          "yshift": 20
         },
         {
          "font": {
           "size": 12
          },
          "showarrow": false,
          "text": "Dell Technologies",
          "textangle": 45,
          "x": "2024-09-23",
          "xshift": 0,
          "y": 0,
          "yshift": 20
         },
         {
          "font": {
           "size": 12
          },
          "showarrow": false,
          "text": "Delta Air Lines",
          "textangle": 45,
          "x": "2013-09-11",
          "xshift": 0,
          "y": 0,
          "yshift": 20
         },
         {
          "font": {
           "size": 12
          },
          "showarrow": false,
          "text": "Devon Energy",
          "textangle": 45,
          "x": "2000-08-30",
          "xshift": 0,
          "y": 0,
          "yshift": 20
         },
         {
          "font": {
           "size": 12
          },
          "showarrow": false,
          "text": "Dexcom",
          "textangle": 45,
          "x": "2020-05-12",
          "xshift": 0,
          "y": 0,
          "yshift": 20
         },
         {
          "font": {
           "size": 12
          },
          "showarrow": false,
          "text": "Diamondback Energy",
          "textangle": 45,
          "x": "2018-12-03",
          "xshift": 0,
          "y": 0,
          "yshift": 20
         },
         {
          "font": {
           "size": 12
          },
          "showarrow": false,
          "text": "Digital Realty",
          "textangle": 45,
          "x": "2016-05-18",
          "xshift": 0,
          "y": 0,
          "yshift": 20
         },
         {
          "font": {
           "size": 12
          },
          "showarrow": false,
          "text": "Dollar General",
          "textangle": 45,
          "x": "2012-12-03",
          "xshift": 0,
          "y": 0,
          "yshift": 20
         },
         {
          "font": {
           "size": 12
          },
          "showarrow": false,
          "text": "Dollar Tree",
          "textangle": 45,
          "x": "2011-12-19",
          "xshift": 0,
          "y": 0,
          "yshift": 20
         },
         {
          "font": {
           "size": 12
          },
          "showarrow": false,
          "text": "Dominion Energy",
          "textangle": 45,
          "x": "2016-11-30",
          "xshift": 0,
          "y": 0,
          "yshift": 20
         },
         {
          "font": {
           "size": 12
          },
          "showarrow": false,
          "text": "Domino's",
          "textangle": 45,
          "x": "2020-05-12",
          "xshift": 0,
          "y": 0,
          "yshift": 20
         },
         {
          "font": {
           "size": 12
          },
          "showarrow": false,
          "text": "DoorDash",
          "textangle": 45,
          "x": "2025-03-24",
          "xshift": 0,
          "y": 0,
          "yshift": 20
         },
         {
          "font": {
           "size": 12
          },
          "showarrow": false,
          "text": "Dover Corporation",
          "textangle": 45,
          "x": "1985-10-31",
          "xshift": 0,
          "y": 0,
          "yshift": 20
         },
         {
          "font": {
           "size": 12
          },
          "showarrow": false,
          "text": "Dow Inc.",
          "textangle": 45,
          "x": "2019-04-01",
          "xshift": 0,
          "y": 0,
          "yshift": 20
         },
         {
          "font": {
           "size": 12
          },
          "showarrow": false,
          "text": "D. R. Horton",
          "textangle": 45,
          "x": "2005-06-22",
          "xshift": 0,
          "y": 0,
          "yshift": 20
         },
         {
          "font": {
           "size": 12
          },
          "showarrow": false,
          "text": "DTE Energy",
          "textangle": 45,
          "x": "1957-03-04",
          "xshift": 0,
          "y": 0,
          "yshift": 20
         },
         {
          "font": {
           "size": 12
          },
          "showarrow": false,
          "text": "Duke Energy",
          "textangle": 45,
          "x": "1976-06-30",
          "xshift": 0,
          "y": 0,
          "yshift": 20
         },
         {
          "font": {
           "size": 12
          },
          "showarrow": false,
          "text": "DuPont",
          "textangle": 45,
          "x": "2019-06-03",
          "xshift": 0,
          "y": 0,
          "yshift": 20
         },
         {
          "font": {
           "size": 12
          },
          "showarrow": false,
          "text": "Eastman Chemical Company",
          "textangle": 45,
          "x": "1994-01-01",
          "xshift": 0,
          "y": 0,
          "yshift": 20
         },
         {
          "font": {
           "size": 12
          },
          "showarrow": false,
          "text": "Eaton Corporation",
          "textangle": 45,
          "x": "1957-03-04",
          "xshift": 0,
          "y": 0,
          "yshift": 20
         },
         {
          "font": {
           "size": 12
          },
          "showarrow": false,
          "text": "eBay Inc.",
          "textangle": 45,
          "x": "2002-07-22",
          "xshift": 0,
          "y": 0,
          "yshift": 20
         },
         {
          "font": {
           "size": 12
          },
          "showarrow": false,
          "text": "Ecolab",
          "textangle": 45,
          "x": "1989-01-31",
          "xshift": 0,
          "y": 0,
          "yshift": 20
         },
         {
          "font": {
           "size": 12
          },
          "showarrow": false,
          "text": "Edison International",
          "textangle": 45,
          "x": "1957-03-04",
          "xshift": 0,
          "y": 0,
          "yshift": 20
         },
         {
          "font": {
           "size": 12
          },
          "showarrow": false,
          "text": "Edwards Lifesciences",
          "textangle": 45,
          "x": "2011-04-01",
          "xshift": 0,
          "y": 0,
          "yshift": 20
         },
         {
          "font": {
           "size": 12
          },
          "showarrow": false,
          "text": "Electronic Arts",
          "textangle": 45,
          "x": "2002-07-22",
          "xshift": 0,
          "y": 0,
          "yshift": 20
         },
         {
          "font": {
           "size": 12
          },
          "showarrow": false,
          "text": "Elevance Health",
          "textangle": 45,
          "x": "2002-07-25",
          "xshift": 0,
          "y": 0,
          "yshift": 20
         },
         {
          "font": {
           "size": 12
          },
          "showarrow": false,
          "text": "Emerson Electric",
          "textangle": 45,
          "x": "1965-03-31",
          "xshift": 0,
          "y": 0,
          "yshift": 20
         },
         {
          "font": {
           "size": 12
          },
          "showarrow": false,
          "text": "Enphase Energy",
          "textangle": 45,
          "x": "2021-01-07",
          "xshift": 0,
          "y": 0,
          "yshift": 20
         },
         {
          "font": {
           "size": 12
          },
          "showarrow": false,
          "text": "Entergy",
          "textangle": 45,
          "x": "1957-03-04",
          "xshift": 0,
          "y": 0,
          "yshift": 20
         },
         {
          "font": {
           "size": 12
          },
          "showarrow": false,
          "text": "EOG Resources",
          "textangle": 45,
          "x": "2000-11-02",
          "xshift": 0,
          "y": 0,
          "yshift": 20
         },
         {
          "font": {
           "size": 12
          },
          "showarrow": false,
          "text": "EPAM Systems",
          "textangle": 45,
          "x": "2021-12-14",
          "xshift": 0,
          "y": 0,
          "yshift": 20
         },
         {
          "font": {
           "size": 12
          },
          "showarrow": false,
          "text": "EQT Corporation",
          "textangle": 45,
          "x": "2022-10-03",
          "xshift": 0,
          "y": 0,
          "yshift": 20
         },
         {
          "font": {
           "size": 12
          },
          "showarrow": false,
          "text": "Equifax",
          "textangle": 45,
          "x": "1997-06-19",
          "xshift": 0,
          "y": 0,
          "yshift": 20
         },
         {
          "font": {
           "size": 12
          },
          "showarrow": false,
          "text": "Equinix",
          "textangle": 45,
          "x": "2015-03-20",
          "xshift": 0,
          "y": 0,
          "yshift": 20
         },
         {
          "font": {
           "size": 12
          },
          "showarrow": false,
          "text": "Equity Residential",
          "textangle": 45,
          "x": "2001-12-03",
          "xshift": 0,
          "y": 0,
          "yshift": 20
         },
         {
          "font": {
           "size": 12
          },
          "showarrow": false,
          "text": "Erie Indemnity",
          "textangle": 45,
          "x": "2024-09-23",
          "xshift": 0,
          "y": 0,
          "yshift": 20
         },
         {
          "font": {
           "size": 12
          },
          "showarrow": false,
          "text": "Essex Property Trust",
          "textangle": 45,
          "x": "2014-04-02",
          "xshift": 0,
          "y": 0,
          "yshift": 20
         },
         {
          "font": {
           "size": 12
          },
          "showarrow": false,
          "text": "Estée Lauder Companies (The)",
          "textangle": 45,
          "x": "2006-01-05",
          "xshift": 0,
          "y": 0,
          "yshift": 20
         },
         {
          "font": {
           "size": 12
          },
          "showarrow": false,
          "text": "Everest Group",
          "textangle": 45,
          "x": "2017-06-19",
          "xshift": 0,
          "y": 0,
          "yshift": 20
         },
         {
          "font": {
           "size": 12
          },
          "showarrow": false,
          "text": "Evergy",
          "textangle": 45,
          "x": "2018-06-05",
          "xshift": 0,
          "y": 0,
          "yshift": 20
         },
         {
          "font": {
           "size": 12
          },
          "showarrow": false,
          "text": "Eversource Energy",
          "textangle": 45,
          "x": "2009-07-24",
          "xshift": 0,
          "y": 0,
          "yshift": 20
         },
         {
          "font": {
           "size": 12
          },
          "showarrow": false,
          "text": "Exelon",
          "textangle": 45,
          "x": "1957-03-04",
          "xshift": 0,
          "y": 0,
          "yshift": 20
         },
         {
          "font": {
           "size": 12
          },
          "showarrow": false,
          "text": "Expand Energy",
          "textangle": 45,
          "x": "2025-03-24",
          "xshift": 0,
          "y": 0,
          "yshift": 20
         },
         {
          "font": {
           "size": 12
          },
          "showarrow": false,
          "text": "Expedia Group",
          "textangle": 45,
          "x": "2007-10-02",
          "xshift": 0,
          "y": 0,
          "yshift": 20
         },
         {
          "font": {
           "size": 12
          },
          "showarrow": false,
          "text": "Expeditors International",
          "textangle": 45,
          "x": "2007-10-10",
          "xshift": 0,
          "y": 0,
          "yshift": 20
         },
         {
          "font": {
           "size": 12
          },
          "showarrow": false,
          "text": "Extra Space Storage",
          "textangle": 45,
          "x": "2016-01-19",
          "xshift": 0,
          "y": 0,
          "yshift": 20
         },
         {
          "font": {
           "size": 12
          },
          "showarrow": false,
          "text": "ExxonMobil",
          "textangle": 45,
          "x": "1957-03-04",
          "xshift": 0,
          "y": 0,
          "yshift": 20
         },
         {
          "font": {
           "size": 12
          },
          "showarrow": false,
          "text": "F5, Inc.",
          "textangle": 45,
          "x": "2010-12-20",
          "xshift": 0,
          "y": 0,
          "yshift": 20
         },
         {
          "font": {
           "size": 12
          },
          "showarrow": false,
          "text": "FactSet",
          "textangle": 45,
          "x": "2021-12-20",
          "xshift": 0,
          "y": 0,
          "yshift": 20
         },
         {
          "font": {
           "size": 12
          },
          "showarrow": false,
          "text": "Fair Isaac",
          "textangle": 45,
          "x": "2023-03-20",
          "xshift": 0,
          "y": 0,
          "yshift": 20
         },
         {
          "font": {
           "size": 12
          },
          "showarrow": false,
          "text": "Fastenal",
          "textangle": 45,
          "x": "2008-09-15",
          "xshift": 0,
          "y": 0,
          "yshift": 20
         },
         {
          "font": {
           "size": 12
          },
          "showarrow": false,
          "text": "Federal Realty Investment Trust",
          "textangle": 45,
          "x": "2016-02-01",
          "xshift": 0,
          "y": 0,
          "yshift": 20
         },
         {
          "font": {
           "size": 12
          },
          "showarrow": false,
          "text": "FedEx",
          "textangle": 45,
          "x": "1980-12-31",
          "xshift": 0,
          "y": 0,
          "yshift": 20
         },
         {
          "font": {
           "size": 12
          },
          "showarrow": false,
          "text": "Fidelity National Information Services",
          "textangle": 45,
          "x": "2006-11-10",
          "xshift": 0,
          "y": 0,
          "yshift": 20
         },
         {
          "font": {
           "size": 12
          },
          "showarrow": false,
          "text": "Fifth Third Bancorp",
          "textangle": 45,
          "x": "1996-03-29",
          "xshift": 0,
          "y": 0,
          "yshift": 20
         },
         {
          "font": {
           "size": 12
          },
          "showarrow": false,
          "text": "First Solar",
          "textangle": 45,
          "x": "2022-12-19",
          "xshift": 0,
          "y": 0,
          "yshift": 20
         },
         {
          "font": {
           "size": 12
          },
          "showarrow": false,
          "text": "FirstEnergy",
          "textangle": 45,
          "x": "1997-11-28",
          "xshift": 0,
          "y": 0,
          "yshift": 20
         },
         {
          "font": {
           "size": 12
          },
          "showarrow": false,
          "text": "Fiserv",
          "textangle": 45,
          "x": "2001-04-02",
          "xshift": 0,
          "y": 0,
          "yshift": 20
         },
         {
          "font": {
           "size": 12
          },
          "showarrow": false,
          "text": "Ford Motor Company",
          "textangle": 45,
          "x": "1957-03-04",
          "xshift": 0,
          "y": 0,
          "yshift": 20
         },
         {
          "font": {
           "size": 12
          },
          "showarrow": false,
          "text": "Fortinet",
          "textangle": 45,
          "x": "2018-10-11",
          "xshift": 0,
          "y": 0,
          "yshift": 20
         },
         {
          "font": {
           "size": 12
          },
          "showarrow": false,
          "text": "Fortive",
          "textangle": 45,
          "x": "2016-07-01",
          "xshift": 0,
          "y": 0,
          "yshift": 20
         },
         {
          "font": {
           "size": 12
          },
          "showarrow": false,
          "text": "Fox Corporation (Class A)",
          "textangle": 45,
          "x": "2019-03-19",
          "xshift": 0,
          "y": 0,
          "yshift": 20
         },
         {
          "font": {
           "size": 12
          },
          "showarrow": false,
          "text": "Fox Corporation (Class B)",
          "textangle": 45,
          "x": "2019-03-19",
          "xshift": 0,
          "y": 0,
          "yshift": 20
         },
         {
          "font": {
           "size": 12
          },
          "showarrow": false,
          "text": "Franklin Resources",
          "textangle": 45,
          "x": "1998-04-30",
          "xshift": 0,
          "y": 0,
          "yshift": 20
         },
         {
          "font": {
           "size": 12
          },
          "showarrow": false,
          "text": "Freeport-McMoRan",
          "textangle": 45,
          "x": "2011-07-01",
          "xshift": 0,
          "y": 0,
          "yshift": 20
         },
         {
          "font": {
           "size": 12
          },
          "showarrow": false,
          "text": "Garmin",
          "textangle": 45,
          "x": "2012-12-12",
          "xshift": 0,
          "y": 0,
          "yshift": 20
         },
         {
          "font": {
           "size": 12
          },
          "showarrow": false,
          "text": "Gartner",
          "textangle": 45,
          "x": "2017-04-05",
          "xshift": 0,
          "y": 0,
          "yshift": 20
         },
         {
          "font": {
           "size": 12
          },
          "showarrow": false,
          "text": "GE Aerospace",
          "textangle": 45,
          "x": "1957-03-04",
          "xshift": 0,
          "y": 0,
          "yshift": 20
         },
         {
          "font": {
           "size": 12
          },
          "showarrow": false,
          "text": "GE HealthCare",
          "textangle": 45,
          "x": "2023-01-04",
          "xshift": 0,
          "y": 0,
          "yshift": 20
         },
         {
          "font": {
           "size": 12
          },
          "showarrow": false,
          "text": "GE Vernova",
          "textangle": 45,
          "x": "2024-04-02",
          "xshift": 0,
          "y": 0,
          "yshift": 20
         },
         {
          "font": {
           "size": 12
          },
          "showarrow": false,
          "text": "Gen Digital",
          "textangle": 45,
          "x": "2003-03-25",
          "xshift": 0,
          "y": 0,
          "yshift": 20
         },
         {
          "font": {
           "size": 12
          },
          "showarrow": false,
          "text": "Generac",
          "textangle": 45,
          "x": "2021-03-22",
          "xshift": 0,
          "y": 0,
          "yshift": 20
         },
         {
          "font": {
           "size": 12
          },
          "showarrow": false,
          "text": "General Dynamics",
          "textangle": 45,
          "x": "1957-03-04",
          "xshift": 0,
          "y": 0,
          "yshift": 20
         },
         {
          "font": {
           "size": 12
          },
          "showarrow": false,
          "text": "General Mills",
          "textangle": 45,
          "x": "1957-03-04",
          "xshift": 0,
          "y": 0,
          "yshift": 20
         },
         {
          "font": {
           "size": 12
          },
          "showarrow": false,
          "text": "General Motors",
          "textangle": 45,
          "x": "2013-06-06",
          "xshift": 0,
          "y": 0,
          "yshift": 20
         },
         {
          "font": {
           "size": 12
          },
          "showarrow": false,
          "text": "Genuine Parts Company",
          "textangle": 45,
          "x": "1973-12-31",
          "xshift": 0,
          "y": 0,
          "yshift": 20
         },
         {
          "font": {
           "size": 12
          },
          "showarrow": false,
          "text": "Gilead Sciences",
          "textangle": 45,
          "x": "2004-07-01",
          "xshift": 0,
          "y": 0,
          "yshift": 20
         },
         {
          "font": {
           "size": 12
          },
          "showarrow": false,
          "text": "Global Payments",
          "textangle": 45,
          "x": "2016-04-25",
          "xshift": 0,
          "y": 0,
          "yshift": 20
         },
         {
          "font": {
           "size": 12
          },
          "showarrow": false,
          "text": "Globe Life",
          "textangle": 45,
          "x": "1989-04-30",
          "xshift": 0,
          "y": 0,
          "yshift": 20
         },
         {
          "font": {
           "size": 12
          },
          "showarrow": false,
          "text": "GoDaddy",
          "textangle": 45,
          "x": "2024-06-24",
          "xshift": 0,
          "y": 0,
          "yshift": 20
         },
         {
          "font": {
           "size": 12
          },
          "showarrow": false,
          "text": "Goldman Sachs",
          "textangle": 45,
          "x": "2002-07-22",
          "xshift": 0,
          "y": 0,
          "yshift": 20
         },
         {
          "font": {
           "size": 12
          },
          "showarrow": false,
          "text": "Halliburton",
          "textangle": 45,
          "x": "1957-03-04",
          "xshift": 0,
          "y": 0,
          "yshift": 20
         },
         {
          "font": {
           "size": 12
          },
          "showarrow": false,
          "text": "Hartford (The)",
          "textangle": 45,
          "x": "1957-03-04",
          "xshift": 0,
          "y": 0,
          "yshift": 20
         },
         {
          "font": {
           "size": 12
          },
          "showarrow": false,
          "text": "Hasbro",
          "textangle": 45,
          "x": "1984-09-30",
          "xshift": 0,
          "y": 0,
          "yshift": 20
         },
         {
          "font": {
           "size": 12
          },
          "showarrow": false,
          "text": "HCA Healthcare",
          "textangle": 45,
          "x": "2015-01-27",
          "xshift": 0,
          "y": 0,
          "yshift": 20
         },
         {
          "font": {
           "size": 12
          },
          "showarrow": false,
          "text": "Healthpeak Properties",
          "textangle": 45,
          "x": "2008-03-31",
          "xshift": 0,
          "y": 0,
          "yshift": 20
         },
         {
          "font": {
           "size": 12
          },
          "showarrow": false,
          "text": "Henry Schein",
          "textangle": 45,
          "x": "2015-03-17",
          "xshift": 0,
          "y": 0,
          "yshift": 20
         },
         {
          "font": {
           "size": 12
          },
          "showarrow": false,
          "text": "Hershey Company (The)",
          "textangle": 45,
          "x": "1957-03-04",
          "xshift": 0,
          "y": 0,
          "yshift": 20
         },
         {
          "font": {
           "size": 12
          },
          "showarrow": false,
          "text": "Hess Corporation",
          "textangle": 45,
          "x": "1984-05-31",
          "xshift": 0,
          "y": 0,
          "yshift": 20
         },
         {
          "font": {
           "size": 12
          },
          "showarrow": false,
          "text": "Hewlett Packard Enterprise",
          "textangle": 45,
          "x": "2015-11-02",
          "xshift": 0,
          "y": 0,
          "yshift": 20
         },
         {
          "font": {
           "size": 12
          },
          "showarrow": false,
          "text": "Hilton Worldwide",
          "textangle": 45,
          "x": "2017-06-19",
          "xshift": 0,
          "y": 0,
          "yshift": 20
         },
         {
          "font": {
           "size": 12
          },
          "showarrow": false,
          "text": "Hologic",
          "textangle": 45,
          "x": "2016-03-30",
          "xshift": 0,
          "y": 0,
          "yshift": 20
         },
         {
          "font": {
           "size": 12
          },
          "showarrow": false,
          "text": "Home Depot (The)",
          "textangle": 45,
          "x": "1988-03-31",
          "xshift": 0,
          "y": 0,
          "yshift": 20
         },
         {
          "font": {
           "size": 12
          },
          "showarrow": false,
          "text": "Honeywell",
          "textangle": 45,
          "x": "1957-03-04",
          "xshift": 0,
          "y": 0,
          "yshift": 20
         },
         {
          "font": {
           "size": 12
          },
          "showarrow": false,
          "text": "Hormel Foods",
          "textangle": 45,
          "x": "2009-03-04",
          "xshift": 0,
          "y": 0,
          "yshift": 20
         },
         {
          "font": {
           "size": 12
          },
          "showarrow": false,
          "text": "Host Hotels & Resorts",
          "textangle": 45,
          "x": "2007-03-20",
          "xshift": 0,
          "y": 0,
          "yshift": 20
         },
         {
          "font": {
           "size": 12
          },
          "showarrow": false,
          "text": "Howmet Aerospace",
          "textangle": 45,
          "x": "2016-10-21",
          "xshift": 0,
          "y": 0,
          "yshift": 20
         },
         {
          "font": {
           "size": 12
          },
          "showarrow": false,
          "text": "HP Inc.",
          "textangle": 45,
          "x": "1974-12-31",
          "xshift": 0,
          "y": 0,
          "yshift": 20
         },
         {
          "font": {
           "size": 12
          },
          "showarrow": false,
          "text": "Hubbell Incorporated",
          "textangle": 45,
          "x": "2023-10-18",
          "xshift": 0,
          "y": 0,
          "yshift": 20
         },
         {
          "font": {
           "size": 12
          },
          "showarrow": false,
          "text": "Humana",
          "textangle": 45,
          "x": "2012-12-10",
          "xshift": 0,
          "y": 0,
          "yshift": 20
         },
         {
          "font": {
           "size": 12
          },
          "showarrow": false,
          "text": "Huntington Bancshares",
          "textangle": 45,
          "x": "1997-08-28",
          "xshift": 0,
          "y": 0,
          "yshift": 20
         },
         {
          "font": {
           "size": 12
          },
          "showarrow": false,
          "text": "Huntington Ingalls Industries",
          "textangle": 45,
          "x": "2018-01-03",
          "xshift": 0,
          "y": 0,
          "yshift": 20
         },
         {
          "font": {
           "size": 12
          },
          "showarrow": false,
          "text": "IBM",
          "textangle": 45,
          "x": "1957-03-04",
          "xshift": 0,
          "y": 0,
          "yshift": 20
         },
         {
          "font": {
           "size": 12
          },
          "showarrow": false,
          "text": "IDEX Corporation",
          "textangle": 45,
          "x": "2019-08-09",
          "xshift": 0,
          "y": 0,
          "yshift": 20
         },
         {
          "font": {
           "size": 12
          },
          "showarrow": false,
          "text": "Idexx Laboratories",
          "textangle": 45,
          "x": "2017-01-05",
          "xshift": 0,
          "y": 0,
          "yshift": 20
         },
         {
          "font": {
           "size": 12
          },
          "showarrow": false,
          "text": "Illinois Tool Works",
          "textangle": 45,
          "x": "1986-02-28",
          "xshift": 0,
          "y": 0,
          "yshift": 20
         },
         {
          "font": {
           "size": 12
          },
          "showarrow": false,
          "text": "Incyte",
          "textangle": 45,
          "x": "2017-02-28",
          "xshift": 0,
          "y": 0,
          "yshift": 20
         },
         {
          "font": {
           "size": 12
          },
          "showarrow": false,
          "text": "Ingersoll Rand",
          "textangle": 45,
          "x": "2020-03-03",
          "xshift": 0,
          "y": 0,
          "yshift": 20
         },
         {
          "font": {
           "size": 12
          },
          "showarrow": false,
          "text": "Insulet Corporation",
          "textangle": 45,
          "x": "2023-03-15",
          "xshift": 0,
          "y": 0,
          "yshift": 20
         },
         {
          "font": {
           "size": 12
          },
          "showarrow": false,
          "text": "Intel",
          "textangle": 45,
          "x": "1976-12-31",
          "xshift": 0,
          "y": 0,
          "yshift": 20
         },
         {
          "font": {
           "size": 12
          },
          "showarrow": false,
          "text": "Intercontinental Exchange",
          "textangle": 45,
          "x": "2007-09-26",
          "xshift": 0,
          "y": 0,
          "yshift": 20
         },
         {
          "font": {
           "size": 12
          },
          "showarrow": false,
          "text": "International Flavors & Fragrances",
          "textangle": 45,
          "x": "1976-03-31",
          "xshift": 0,
          "y": 0,
          "yshift": 20
         },
         {
          "font": {
           "size": 12
          },
          "showarrow": false,
          "text": "International Paper",
          "textangle": 45,
          "x": "1957-03-04",
          "xshift": 0,
          "y": 0,
          "yshift": 20
         },
         {
          "font": {
           "size": 12
          },
          "showarrow": false,
          "text": "Interpublic Group of Companies (The)",
          "textangle": 45,
          "x": "1992-10-01",
          "xshift": 0,
          "y": 0,
          "yshift": 20
         },
         {
          "font": {
           "size": 12
          },
          "showarrow": false,
          "text": "Intuit",
          "textangle": 45,
          "x": "2000-12-05",
          "xshift": 0,
          "y": 0,
          "yshift": 20
         },
         {
          "font": {
           "size": 12
          },
          "showarrow": false,
          "text": "Intuitive Surgical",
          "textangle": 45,
          "x": "2008-06-02",
          "xshift": 0,
          "y": 0,
          "yshift": 20
         },
         {
          "font": {
           "size": 12
          },
          "showarrow": false,
          "text": "Invesco",
          "textangle": 45,
          "x": "2008-08-21",
          "xshift": 0,
          "y": 0,
          "yshift": 20
         },
         {
          "font": {
           "size": 12
          },
          "showarrow": false,
          "text": "Invitation Homes",
          "textangle": 45,
          "x": "2022-09-19",
          "xshift": 0,
          "y": 0,
          "yshift": 20
         },
         {
          "font": {
           "size": 12
          },
          "showarrow": false,
          "text": "IQVIA",
          "textangle": 45,
          "x": "2017-08-29",
          "xshift": 0,
          "y": 0,
          "yshift": 20
         },
         {
          "font": {
           "size": 12
          },
          "showarrow": false,
          "text": "Iron Mountain",
          "textangle": 45,
          "x": "2009-01-06",
          "xshift": 0,
          "y": 0,
          "yshift": 20
         },
         {
          "font": {
           "size": 12
          },
          "showarrow": false,
          "text": "J.B. Hunt",
          "textangle": 45,
          "x": "2015-07-01",
          "xshift": 0,
          "y": 0,
          "yshift": 20
         },
         {
          "font": {
           "size": 12
          },
          "showarrow": false,
          "text": "Jabil",
          "textangle": 45,
          "x": "2023-12-18",
          "xshift": 0,
          "y": 0,
          "yshift": 20
         },
         {
          "font": {
           "size": 12
          },
          "showarrow": false,
          "text": "Jack Henry & Associates",
          "textangle": 45,
          "x": "2018-11-13",
          "xshift": 0,
          "y": 0,
          "yshift": 20
         },
         {
          "font": {
           "size": 12
          },
          "showarrow": false,
          "text": "Jacobs Solutions",
          "textangle": 45,
          "x": "2007-10-26",
          "xshift": 0,
          "y": 0,
          "yshift": 20
         },
         {
          "font": {
           "size": 12
          },
          "showarrow": false,
          "text": "Johnson & Johnson",
          "textangle": 45,
          "x": "1973-06-30",
          "xshift": 0,
          "y": 0,
          "yshift": 20
         },
         {
          "font": {
           "size": 12
          },
          "showarrow": false,
          "text": "Johnson Controls",
          "textangle": 45,
          "x": "2010-08-27",
          "xshift": 0,
          "y": 0,
          "yshift": 20
         },
         {
          "font": {
           "size": 12
          },
          "showarrow": false,
          "text": "JPMorgan Chase",
          "textangle": 45,
          "x": "1975-06-30",
          "xshift": 0,
          "y": 0,
          "yshift": 20
         },
         {
          "font": {
           "size": 12
          },
          "showarrow": false,
          "text": "Juniper Networks",
          "textangle": 45,
          "x": "2006-06-02",
          "xshift": 0,
          "y": 0,
          "yshift": 20
         },
         {
          "font": {
           "size": 12
          },
          "showarrow": false,
          "text": "Kellanova",
          "textangle": 45,
          "x": "1989-09-11",
          "xshift": 0,
          "y": 0,
          "yshift": 20
         },
         {
          "font": {
           "size": 12
          },
          "showarrow": false,
          "text": "Kenvue",
          "textangle": 45,
          "x": "2023-08-25",
          "xshift": 0,
          "y": 0,
          "yshift": 20
         },
         {
          "font": {
           "size": 12
          },
          "showarrow": false,
          "text": "Keurig Dr Pepper",
          "textangle": 45,
          "x": "2022-06-21",
          "xshift": 0,
          "y": 0,
          "yshift": 20
         },
         {
          "font": {
           "size": 12
          },
          "showarrow": false,
          "text": "KeyCorp",
          "textangle": 45,
          "x": "1994-03-01",
          "xshift": 0,
          "y": 0,
          "yshift": 20
         },
         {
          "font": {
           "size": 12
          },
          "showarrow": false,
          "text": "Keysight Technologies",
          "textangle": 45,
          "x": "2018-11-06",
          "xshift": 0,
          "y": 0,
          "yshift": 20
         },
         {
          "font": {
           "size": 12
          },
          "showarrow": false,
          "text": "Kimberly-Clark",
          "textangle": 45,
          "x": "1957-03-04",
          "xshift": 0,
          "y": 0,
          "yshift": 20
         },
         {
          "font": {
           "size": 12
          },
          "showarrow": false,
          "text": "Kimco Realty",
          "textangle": 45,
          "x": "2006-04-04",
          "xshift": 0,
          "y": 0,
          "yshift": 20
         },
         {
          "font": {
           "size": 12
          },
          "showarrow": false,
          "text": "Kinder Morgan",
          "textangle": 45,
          "x": "2012-05-25",
          "xshift": 0,
          "y": 0,
          "yshift": 20
         },
         {
          "font": {
           "size": 12
          },
          "showarrow": false,
          "text": "KKR & Co.",
          "textangle": 45,
          "x": "2024-06-24",
          "xshift": 0,
          "y": 0,
          "yshift": 20
         },
         {
          "font": {
           "size": 12
          },
          "showarrow": false,
          "text": "KLA Corporation",
          "textangle": 45,
          "x": "1997-09-30",
          "xshift": 0,
          "y": 0,
          "yshift": 20
         },
         {
          "font": {
           "size": 12
          },
          "showarrow": false,
          "text": "Kraft Heinz",
          "textangle": 45,
          "x": "2015-07-06",
          "xshift": 0,
          "y": 0,
          "yshift": 20
         },
         {
          "font": {
           "size": 12
          },
          "showarrow": false,
          "text": "Kroger",
          "textangle": 45,
          "x": "1957-03-04",
          "xshift": 0,
          "y": 0,
          "yshift": 20
         },
         {
          "font": {
           "size": 12
          },
          "showarrow": false,
          "text": "L3Harris",
          "textangle": 45,
          "x": "2008-09-22",
          "xshift": 0,
          "y": 0,
          "yshift": 20
         },
         {
          "font": {
           "size": 12
          },
          "showarrow": false,
          "text": "Labcorp",
          "textangle": 45,
          "x": "2004-11-01",
          "xshift": 0,
          "y": 0,
          "yshift": 20
         },
         {
          "font": {
           "size": 12
          },
          "showarrow": false,
          "text": "Lam Research",
          "textangle": 45,
          "x": "2012-06-29",
          "xshift": 0,
          "y": 0,
          "yshift": 20
         },
         {
          "font": {
           "size": 12
          },
          "showarrow": false,
          "text": "Lamb Weston",
          "textangle": 45,
          "x": "2018-12-03",
          "xshift": 0,
          "y": 0,
          "yshift": 20
         },
         {
          "font": {
           "size": 12
          },
          "showarrow": false,
          "text": "Las Vegas Sands",
          "textangle": 45,
          "x": "2019-10-03",
          "xshift": 0,
          "y": 0,
          "yshift": 20
         },
         {
          "font": {
           "size": 12
          },
          "showarrow": false,
          "text": "Leidos",
          "textangle": 45,
          "x": "2019-08-09",
          "xshift": 0,
          "y": 0,
          "yshift": 20
         },
         {
          "font": {
           "size": 12
          },
          "showarrow": false,
          "text": "Lennar",
          "textangle": 45,
          "x": "2005-10-04",
          "xshift": 0,
          "y": 0,
          "yshift": 20
         },
         {
          "font": {
           "size": 12
          },
          "showarrow": false,
          "text": "Lennox International",
          "textangle": 45,
          "x": "2024-12-23",
          "xshift": 0,
          "y": 0,
          "yshift": 20
         },
         {
          "font": {
           "size": 12
          },
          "showarrow": false,
          "text": "Lilly (Eli)",
          "textangle": 45,
          "x": "1970-12-31",
          "xshift": 0,
          "y": 0,
          "yshift": 20
         },
         {
          "font": {
           "size": 12
          },
          "showarrow": false,
          "text": "Linde plc",
          "textangle": 45,
          "x": "1992-07-01",
          "xshift": 0,
          "y": 0,
          "yshift": 20
         },
         {
          "font": {
           "size": 12
          },
          "showarrow": false,
          "text": "Live Nation Entertainment",
          "textangle": 45,
          "x": "2019-12-23",
          "xshift": 0,
          "y": 0,
          "yshift": 20
         },
         {
          "font": {
           "size": 12
          },
          "showarrow": false,
          "text": "LKQ Corporation",
          "textangle": 45,
          "x": "2016-05-23",
          "xshift": 0,
          "y": 0,
          "yshift": 20
         },
         {
          "font": {
           "size": 12
          },
          "showarrow": false,
          "text": "Lockheed Martin",
          "textangle": 45,
          "x": "1957-03-04",
          "xshift": 0,
          "y": 0,
          "yshift": 20
         },
         {
          "font": {
           "size": 12
          },
          "showarrow": false,
          "text": "Loews Corporation",
          "textangle": 45,
          "x": "1995-05-31",
          "xshift": 0,
          "y": 0,
          "yshift": 20
         },
         {
          "font": {
           "size": 12
          },
          "showarrow": false,
          "text": "Lowe's",
          "textangle": 45,
          "x": "1984-02-29",
          "xshift": 0,
          "y": 0,
          "yshift": 20
         },
         {
          "font": {
           "size": 12
          },
          "showarrow": false,
          "text": "Lululemon Athletica",
          "textangle": 45,
          "x": "2023-10-18",
          "xshift": 0,
          "y": 0,
          "yshift": 20
         },
         {
          "font": {
           "size": 12
          },
          "showarrow": false,
          "text": "LyondellBasell",
          "textangle": 45,
          "x": "2012-09-05",
          "xshift": 0,
          "y": 0,
          "yshift": 20
         },
         {
          "font": {
           "size": 12
          },
          "showarrow": false,
          "text": "M&T Bank",
          "textangle": 45,
          "x": "2004-02-23",
          "xshift": 0,
          "y": 0,
          "yshift": 20
         },
         {
          "font": {
           "size": 12
          },
          "showarrow": false,
          "text": "Marathon Petroleum",
          "textangle": 45,
          "x": "2011-07-01",
          "xshift": 0,
          "y": 0,
          "yshift": 20
         },
         {
          "font": {
           "size": 12
          },
          "showarrow": false,
          "text": "MarketAxess",
          "textangle": 45,
          "x": "2019-07-01",
          "xshift": 0,
          "y": 0,
          "yshift": 20
         },
         {
          "font": {
           "size": 12
          },
          "showarrow": false,
          "text": "Marriott International",
          "textangle": 45,
          "x": "1998-05-29",
          "xshift": 0,
          "y": 0,
          "yshift": 20
         },
         {
          "font": {
           "size": 12
          },
          "showarrow": false,
          "text": "Marsh McLennan",
          "textangle": 45,
          "x": "1987-08-31",
          "xshift": 0,
          "y": 0,
          "yshift": 20
         },
         {
          "font": {
           "size": 12
          },
          "showarrow": false,
          "text": "Martin Marietta Materials",
          "textangle": 45,
          "x": "2014-07-02",
          "xshift": 0,
          "y": 0,
          "yshift": 20
         },
         {
          "font": {
           "size": 12
          },
          "showarrow": false,
          "text": "Masco",
          "textangle": 45,
          "x": "1981-06-30",
          "xshift": 0,
          "y": 0,
          "yshift": 20
         },
         {
          "font": {
           "size": 12
          },
          "showarrow": false,
          "text": "Mastercard",
          "textangle": 45,
          "x": "2008-07-18",
          "xshift": 0,
          "y": 0,
          "yshift": 20
         },
         {
          "font": {
           "size": 12
          },
          "showarrow": false,
          "text": "Match Group",
          "textangle": 45,
          "x": "2021-09-20",
          "xshift": 0,
          "y": 0,
          "yshift": 20
         },
         {
          "font": {
           "size": 12
          },
          "showarrow": false,
          "text": "McCormick & Company",
          "textangle": 45,
          "x": "2003-03-20",
          "xshift": 0,
          "y": 0,
          "yshift": 20
         },
         {
          "font": {
           "size": 12
          },
          "showarrow": false,
          "text": "McDonald's",
          "textangle": 45,
          "x": "1970-06-30",
          "xshift": 0,
          "y": 0,
          "yshift": 20
         },
         {
          "font": {
           "size": 12
          },
          "showarrow": false,
          "text": "McKesson Corporation",
          "textangle": 45,
          "x": "1999-01-13",
          "xshift": 0,
          "y": 0,
          "yshift": 20
         },
         {
          "font": {
           "size": 12
          },
          "showarrow": false,
          "text": "Medtronic",
          "textangle": 45,
          "x": "1986-10-31",
          "xshift": 0,
          "y": 0,
          "yshift": 20
         },
         {
          "font": {
           "size": 12
          },
          "showarrow": false,
          "text": "Merck & Co.",
          "textangle": 45,
          "x": "1957-03-04",
          "xshift": 0,
          "y": 0,
          "yshift": 20
         },
         {
          "font": {
           "size": 12
          },
          "showarrow": false,
          "text": "Meta Platforms",
          "textangle": 45,
          "x": "2013-12-23",
          "xshift": 0,
          "y": 0,
          "yshift": 20
         },
         {
          "font": {
           "size": 12
          },
          "showarrow": false,
          "text": "MetLife",
          "textangle": 45,
          "x": "2000-12-11",
          "xshift": 0,
          "y": 0,
          "yshift": 20
         },
         {
          "font": {
           "size": 12
          },
          "showarrow": false,
          "text": "Mettler Toledo",
          "textangle": 45,
          "x": "2016-09-06",
          "xshift": 0,
          "y": 0,
          "yshift": 20
         },
         {
          "font": {
           "size": 12
          },
          "showarrow": false,
          "text": "MGM Resorts",
          "textangle": 45,
          "x": "2017-07-26",
          "xshift": 0,
          "y": 0,
          "yshift": 20
         },
         {
          "font": {
           "size": 12
          },
          "showarrow": false,
          "text": "Microchip Technology",
          "textangle": 45,
          "x": "2007-09-07",
          "xshift": 0,
          "y": 0,
          "yshift": 20
         },
         {
          "font": {
           "size": 12
          },
          "showarrow": false,
          "text": "Micron Technology",
          "textangle": 45,
          "x": "1994-09-27",
          "xshift": 0,
          "y": 0,
          "yshift": 20
         },
         {
          "font": {
           "size": 12
          },
          "showarrow": false,
          "text": "Microsoft",
          "textangle": 45,
          "x": "1994-06-01",
          "xshift": 0,
          "y": 0,
          "yshift": 20
         },
         {
          "font": {
           "size": 12
          },
          "showarrow": false,
          "text": "Mid-America Apartment Communities",
          "textangle": 45,
          "x": "2016-12-02",
          "xshift": 0,
          "y": 0,
          "yshift": 20
         },
         {
          "font": {
           "size": 12
          },
          "showarrow": false,
          "text": "Moderna",
          "textangle": 45,
          "x": "2021-07-21",
          "xshift": 0,
          "y": 0,
          "yshift": 20
         },
         {
          "font": {
           "size": 12
          },
          "showarrow": false,
          "text": "Mohawk Industries",
          "textangle": 45,
          "x": "2013-12-23",
          "xshift": 0,
          "y": 0,
          "yshift": 20
         },
         {
          "font": {
           "size": 12
          },
          "showarrow": false,
          "text": "Molina Healthcare",
          "textangle": 45,
          "x": "2022-03-02",
          "xshift": 0,
          "y": 0,
          "yshift": 20
         },
         {
          "font": {
           "size": 12
          },
          "showarrow": false,
          "text": "Molson Coors Beverage Company",
          "textangle": 45,
          "x": "1976-06-30",
          "xshift": 0,
          "y": 0,
          "yshift": 20
         },
         {
          "font": {
           "size": 12
          },
          "showarrow": false,
          "text": "Mondelez International",
          "textangle": 45,
          "x": "2012-10-02",
          "xshift": 0,
          "y": 0,
          "yshift": 20
         },
         {
          "font": {
           "size": 12
          },
          "showarrow": false,
          "text": "Monolithic Power Systems",
          "textangle": 45,
          "x": "2021-02-12",
          "xshift": 0,
          "y": 0,
          "yshift": 20
         },
         {
          "font": {
           "size": 12
          },
          "showarrow": false,
          "text": "Monster Beverage",
          "textangle": 45,
          "x": "2012-06-28",
          "xshift": 0,
          "y": 0,
          "yshift": 20
         },
         {
          "font": {
           "size": 12
          },
          "showarrow": false,
          "text": "Moody's Corporation",
          "textangle": 45,
          "x": "1998-07-01",
          "xshift": 0,
          "y": 0,
          "yshift": 20
         },
         {
          "font": {
           "size": 12
          },
          "showarrow": false,
          "text": "Morgan Stanley",
          "textangle": 45,
          "x": "1993-07-29",
          "xshift": 0,
          "y": 0,
          "yshift": 20
         },
         {
          "font": {
           "size": 12
          },
          "showarrow": false,
          "text": "Mosaic Company (The)",
          "textangle": 45,
          "x": "2011-09-26",
          "xshift": 0,
          "y": 0,
          "yshift": 20
         },
         {
          "font": {
           "size": 12
          },
          "showarrow": false,
          "text": "Motorola Solutions",
          "textangle": 45,
          "x": "1957-03-04",
          "xshift": 0,
          "y": 0,
          "yshift": 20
         },
         {
          "font": {
           "size": 12
          },
          "showarrow": false,
          "text": "MSCI Inc.",
          "textangle": 45,
          "x": "2018-04-04",
          "xshift": 0,
          "y": 0,
          "yshift": 20
         },
         {
          "font": {
           "size": 12
          },
          "showarrow": false,
          "text": "Nasdaq, Inc.",
          "textangle": 45,
          "x": "2008-10-22",
          "xshift": 0,
          "y": 0,
          "yshift": 20
         },
         {
          "font": {
           "size": 12
          },
          "showarrow": false,
          "text": "NetApp",
          "textangle": 45,
          "x": "1999-06-25",
          "xshift": 0,
          "y": 0,
          "yshift": 20
         },
         {
          "font": {
           "size": 12
          },
          "showarrow": false,
          "text": "Netflix",
          "textangle": 45,
          "x": "2010-12-20",
          "xshift": 0,
          "y": 0,
          "yshift": 20
         },
         {
          "font": {
           "size": 12
          },
          "showarrow": false,
          "text": "Newmont",
          "textangle": 45,
          "x": "1969-06-30",
          "xshift": 0,
          "y": 0,
          "yshift": 20
         },
         {
          "font": {
           "size": 12
          },
          "showarrow": false,
          "text": "News Corp (Class A)",
          "textangle": 45,
          "x": "2013-08-01",
          "xshift": 0,
          "y": 0,
          "yshift": 20
         },
         {
          "font": {
           "size": 12
          },
          "showarrow": false,
          "text": "News Corp (Class B)",
          "textangle": 45,
          "x": "2015-09-18",
          "xshift": 0,
          "y": 0,
          "yshift": 20
         },
         {
          "font": {
           "size": 12
          },
          "showarrow": false,
          "text": "NextEra Energy",
          "textangle": 45,
          "x": "1976-06-30",
          "xshift": 0,
          "y": 0,
          "yshift": 20
         },
         {
          "font": {
           "size": 12
          },
          "showarrow": false,
          "text": "Nike, Inc.",
          "textangle": 45,
          "x": "1988-11-30",
          "xshift": 0,
          "y": 0,
          "yshift": 20
         },
         {
          "font": {
           "size": 12
          },
          "showarrow": false,
          "text": "NiSource",
          "textangle": 45,
          "x": "2000-11-02",
          "xshift": 0,
          "y": 0,
          "yshift": 20
         },
         {
          "font": {
           "size": 12
          },
          "showarrow": false,
          "text": "Nordson Corporation",
          "textangle": 45,
          "x": "2022-02-15",
          "xshift": 0,
          "y": 0,
          "yshift": 20
         },
         {
          "font": {
           "size": 12
          },
          "showarrow": false,
          "text": "Norfolk Southern",
          "textangle": 45,
          "x": "1957-03-04",
          "xshift": 0,
          "y": 0,
          "yshift": 20
         },
         {
          "font": {
           "size": 12
          },
          "showarrow": false,
          "text": "Northern Trust",
          "textangle": 45,
          "x": "1998-01-30",
          "xshift": 0,
          "y": 0,
          "yshift": 20
         },
         {
          "font": {
           "size": 12
          },
          "showarrow": false,
          "text": "Northrop Grumman",
          "textangle": 45,
          "x": "1957-03-04",
          "xshift": 0,
          "y": 0,
          "yshift": 20
         },
         {
          "font": {
           "size": 12
          },
          "showarrow": false,
          "text": "Norwegian Cruise Line Holdings",
          "textangle": 45,
          "x": "2017-10-13",
          "xshift": 0,
          "y": 0,
          "yshift": 20
         },
         {
          "font": {
           "size": 12
          },
          "showarrow": false,
          "text": "NRG Energy",
          "textangle": 45,
          "x": "2010-01-29",
          "xshift": 0,
          "y": 0,
          "yshift": 20
         },
         {
          "font": {
           "size": 12
          },
          "showarrow": false,
          "text": "Nucor",
          "textangle": 45,
          "x": "1985-04-30",
          "xshift": 0,
          "y": 0,
          "yshift": 20
         },
         {
          "font": {
           "size": 12
          },
          "showarrow": false,
          "text": "Nvidia",
          "textangle": 45,
          "x": "2001-11-30",
          "xshift": 0,
          "y": 0,
          "yshift": 20
         },
         {
          "font": {
           "size": 12
          },
          "showarrow": false,
          "text": "NVR, Inc.",
          "textangle": 45,
          "x": "2019-09-26",
          "xshift": 0,
          "y": 0,
          "yshift": 20
         },
         {
          "font": {
           "size": 12
          },
          "showarrow": false,
          "text": "NXP Semiconductors",
          "textangle": 45,
          "x": "2021-03-22",
          "xshift": 0,
          "y": 0,
          "yshift": 20
         },
         {
          "font": {
           "size": 12
          },
          "showarrow": false,
          "text": "O’Reilly Automotive",
          "textangle": 45,
          "x": "2009-03-27",
          "xshift": 0,
          "y": 0,
          "yshift": 20
         },
         {
          "font": {
           "size": 12
          },
          "showarrow": false,
          "text": "Occidental Petroleum",
          "textangle": 45,
          "x": "1957-03-04",
          "xshift": 0,
          "y": 0,
          "yshift": 20
         },
         {
          "font": {
           "size": 12
          },
          "showarrow": false,
          "text": "Old Dominion",
          "textangle": 45,
          "x": "2019-12-09",
          "xshift": 0,
          "y": 0,
          "yshift": 20
         },
         {
          "font": {
           "size": 12
          },
          "showarrow": false,
          "text": "Omnicom Group",
          "textangle": 45,
          "x": "1997-12-31",
          "xshift": 0,
          "y": 0,
          "yshift": 20
         },
         {
          "font": {
           "size": 12
          },
          "showarrow": false,
          "text": "ON Semiconductor",
          "textangle": 45,
          "x": "2022-06-21",
          "xshift": 0,
          "y": 0,
          "yshift": 20
         },
         {
          "font": {
           "size": 12
          },
          "showarrow": false,
          "text": "Oneok",
          "textangle": 45,
          "x": "2010-03-15",
          "xshift": 0,
          "y": 0,
          "yshift": 20
         },
         {
          "font": {
           "size": 12
          },
          "showarrow": false,
          "text": "Oracle Corporation",
          "textangle": 45,
          "x": "1989-08-31",
          "xshift": 0,
          "y": 0,
          "yshift": 20
         },
         {
          "font": {
           "size": 12
          },
          "showarrow": false,
          "text": "Otis Worldwide",
          "textangle": 45,
          "x": "2020-04-03",
          "xshift": 0,
          "y": 0,
          "yshift": 20
         },
         {
          "font": {
           "size": 12
          },
          "showarrow": false,
          "text": "Paccar",
          "textangle": 45,
          "x": "1980-12-31",
          "xshift": 0,
          "y": 0,
          "yshift": 20
         },
         {
          "font": {
           "size": 12
          },
          "showarrow": false,
          "text": "Packaging Corporation of America",
          "textangle": 45,
          "x": "2017-07-26",
          "xshift": 0,
          "y": 0,
          "yshift": 20
         },
         {
          "font": {
           "size": 12
          },
          "showarrow": false,
          "text": "Palantir Technologies",
          "textangle": 45,
          "x": "2024-09-23",
          "xshift": 0,
          "y": 0,
          "yshift": 20
         },
         {
          "font": {
           "size": 12
          },
          "showarrow": false,
          "text": "Palo Alto Networks",
          "textangle": 45,
          "x": "2023-06-20",
          "xshift": 0,
          "y": 0,
          "yshift": 20
         },
         {
          "font": {
           "size": 12
          },
          "showarrow": false,
          "text": "Paramount Global",
          "textangle": 45,
          "x": "1994-09-30",
          "xshift": 0,
          "y": 0,
          "yshift": 20
         },
         {
          "font": {
           "size": 12
          },
          "showarrow": false,
          "text": "Parker Hannifin",
          "textangle": 45,
          "x": "1985-11-30",
          "xshift": 0,
          "y": 0,
          "yshift": 20
         },
         {
          "font": {
           "size": 12
          },
          "showarrow": false,
          "text": "Paychex",
          "textangle": 45,
          "x": "1998-10-01",
          "xshift": 0,
          "y": 0,
          "yshift": 20
         },
         {
          "font": {
           "size": 12
          },
          "showarrow": false,
          "text": "Paycom",
          "textangle": 45,
          "x": "2020-01-28",
          "xshift": 0,
          "y": 0,
          "yshift": 20
         },
         {
          "font": {
           "size": 12
          },
          "showarrow": false,
          "text": "PayPal",
          "textangle": 45,
          "x": "2015-07-20",
          "xshift": 0,
          "y": 0,
          "yshift": 20
         },
         {
          "font": {
           "size": 12
          },
          "showarrow": false,
          "text": "Pentair",
          "textangle": 45,
          "x": "2012-10-01",
          "xshift": 0,
          "y": 0,
          "yshift": 20
         },
         {
          "font": {
           "size": 12
          },
          "showarrow": false,
          "text": "PepsiCo",
          "textangle": 45,
          "x": "1957-03-04",
          "xshift": 0,
          "y": 0,
          "yshift": 20
         },
         {
          "font": {
           "size": 12
          },
          "showarrow": false,
          "text": "Pfizer",
          "textangle": 45,
          "x": "1957-03-04",
          "xshift": 0,
          "y": 0,
          "yshift": 20
         },
         {
          "font": {
           "size": 12
          },
          "showarrow": false,
          "text": "PG&E Corporation",
          "textangle": 45,
          "x": "2022-10-03",
          "xshift": 0,
          "y": 0,
          "yshift": 20
         },
         {
          "font": {
           "size": 12
          },
          "showarrow": false,
          "text": "Philip Morris International",
          "textangle": 45,
          "x": "2008-03-31",
          "xshift": 0,
          "y": 0,
          "yshift": 20
         },
         {
          "font": {
           "size": 12
          },
          "showarrow": false,
          "text": "Phillips 66",
          "textangle": 45,
          "x": "2012-05-01",
          "xshift": 0,
          "y": 0,
          "yshift": 20
         },
         {
          "font": {
           "size": 12
          },
          "showarrow": false,
          "text": "Pinnacle West Capital",
          "textangle": 45,
          "x": "1999-10-04",
          "xshift": 0,
          "y": 0,
          "yshift": 20
         },
         {
          "font": {
           "size": 12
          },
          "showarrow": false,
          "text": "PNC Financial Services",
          "textangle": 45,
          "x": "1988-04-30",
          "xshift": 0,
          "y": 0,
          "yshift": 20
         },
         {
          "font": {
           "size": 12
          },
          "showarrow": false,
          "text": "Pool Corporation",
          "textangle": 45,
          "x": "2020-10-07",
          "xshift": 0,
          "y": 0,
          "yshift": 20
         },
         {
          "font": {
           "size": 12
          },
          "showarrow": false,
          "text": "PPG Industries",
          "textangle": 45,
          "x": "1957-03-04",
          "xshift": 0,
          "y": 0,
          "yshift": 20
         },
         {
          "font": {
           "size": 12
          },
          "showarrow": false,
          "text": "PPL Corporation",
          "textangle": 45,
          "x": "2001-10-01",
          "xshift": 0,
          "y": 0,
          "yshift": 20
         },
         {
          "font": {
           "size": 12
          },
          "showarrow": false,
          "text": "Principal Financial Group",
          "textangle": 45,
          "x": "2002-07-22",
          "xshift": 0,
          "y": 0,
          "yshift": 20
         },
         {
          "font": {
           "size": 12
          },
          "showarrow": false,
          "text": "Procter & Gamble",
          "textangle": 45,
          "x": "1957-03-04",
          "xshift": 0,
          "y": 0,
          "yshift": 20
         },
         {
          "font": {
           "size": 12
          },
          "showarrow": false,
          "text": "Progressive Corporation",
          "textangle": 45,
          "x": "1997-08-04",
          "xshift": 0,
          "y": 0,
          "yshift": 20
         },
         {
          "font": {
           "size": 12
          },
          "showarrow": false,
          "text": "Prologis",
          "textangle": 45,
          "x": "2003-07-17",
          "xshift": 0,
          "y": 0,
          "yshift": 20
         },
         {
          "font": {
           "size": 12
          },
          "showarrow": false,
          "text": "Prudential Financial",
          "textangle": 45,
          "x": "2002-07-22",
          "xshift": 0,
          "y": 0,
          "yshift": 20
         },
         {
          "font": {
           "size": 12
          },
          "showarrow": false,
          "text": "Public Service Enterprise Group",
          "textangle": 45,
          "x": "1957-03-04",
          "xshift": 0,
          "y": 0,
          "yshift": 20
         },
         {
          "font": {
           "size": 12
          },
          "showarrow": false,
          "text": "PTC Inc.",
          "textangle": 45,
          "x": "2021-04-20",
          "xshift": 0,
          "y": 0,
          "yshift": 20
         },
         {
          "font": {
           "size": 12
          },
          "showarrow": false,
          "text": "Public Storage",
          "textangle": 45,
          "x": "2005-08-19",
          "xshift": 0,
          "y": 0,
          "yshift": 20
         },
         {
          "font": {
           "size": 12
          },
          "showarrow": false,
          "text": "PulteGroup",
          "textangle": 45,
          "x": "1984-04-30",
          "xshift": 0,
          "y": 0,
          "yshift": 20
         },
         {
          "font": {
           "size": 12
          },
          "showarrow": false,
          "text": "Quanta Services",
          "textangle": 45,
          "x": "2009-07-01",
          "xshift": 0,
          "y": 0,
          "yshift": 20
         },
         {
          "font": {
           "size": 12
          },
          "showarrow": false,
          "text": "Qualcomm",
          "textangle": 45,
          "x": "1999-07-22",
          "xshift": 0,
          "y": 0,
          "yshift": 20
         },
         {
          "font": {
           "size": 12
          },
          "showarrow": false,
          "text": "Quest Diagnostics",
          "textangle": 45,
          "x": "2002-12-12",
          "xshift": 0,
          "y": 0,
          "yshift": 20
         },
         {
          "font": {
           "size": 12
          },
          "showarrow": false,
          "text": "Ralph Lauren Corporation",
          "textangle": 45,
          "x": "2007-02-02",
          "xshift": 0,
          "y": 0,
          "yshift": 20
         },
         {
          "font": {
           "size": 12
          },
          "showarrow": false,
          "text": "Raymond James Financial",
          "textangle": 45,
          "x": "2017-03-20",
          "xshift": 0,
          "y": 0,
          "yshift": 20
         },
         {
          "font": {
           "size": 12
          },
          "showarrow": false,
          "text": "RTX Corporation",
          "textangle": 45,
          "x": "1957-03-04",
          "xshift": 0,
          "y": 0,
          "yshift": 20
         },
         {
          "font": {
           "size": 12
          },
          "showarrow": false,
          "text": "Realty Income",
          "textangle": 45,
          "x": "2015-04-07",
          "xshift": 0,
          "y": 0,
          "yshift": 20
         },
         {
          "font": {
           "size": 12
          },
          "showarrow": false,
          "text": "Regency Centers",
          "textangle": 45,
          "x": "2017-03-02",
          "xshift": 0,
          "y": 0,
          "yshift": 20
         },
         {
          "font": {
           "size": 12
          },
          "showarrow": false,
          "text": "Regeneron Pharmaceuticals",
          "textangle": 45,
          "x": "2013-05-01",
          "xshift": 0,
          "y": 0,
          "yshift": 20
         },
         {
          "font": {
           "size": 12
          },
          "showarrow": false,
          "text": "Regions Financial Corporation",
          "textangle": 45,
          "x": "1998-08-28",
          "xshift": 0,
          "y": 0,
          "yshift": 20
         },
         {
          "font": {
           "size": 12
          },
          "showarrow": false,
          "text": "Republic Services",
          "textangle": 45,
          "x": "2008-12-05",
          "xshift": 0,
          "y": 0,
          "yshift": 20
         },
         {
          "font": {
           "size": 12
          },
          "showarrow": false,
          "text": "ResMed",
          "textangle": 45,
          "x": "2017-07-26",
          "xshift": 0,
          "y": 0,
          "yshift": 20
         },
         {
          "font": {
           "size": 12
          },
          "showarrow": false,
          "text": "Revvity",
          "textangle": 45,
          "x": "1985-05-31",
          "xshift": 0,
          "y": 0,
          "yshift": 20
         },
         {
          "font": {
           "size": 12
          },
          "showarrow": false,
          "text": "Rockwell Automation",
          "textangle": 45,
          "x": "2000-03-12",
          "xshift": 0,
          "y": 0,
          "yshift": 20
         },
         {
          "font": {
           "size": 12
          },
          "showarrow": false,
          "text": "Rollins, Inc.",
          "textangle": 45,
          "x": "2018-10-01",
          "xshift": 0,
          "y": 0,
          "yshift": 20
         },
         {
          "font": {
           "size": 12
          },
          "showarrow": false,
          "text": "Roper Technologies",
          "textangle": 45,
          "x": "2009-12-23",
          "xshift": 0,
          "y": 0,
          "yshift": 20
         },
         {
          "font": {
           "size": 12
          },
          "showarrow": false,
          "text": "Ross Stores",
          "textangle": 45,
          "x": "2009-12-21",
          "xshift": 0,
          "y": 0,
          "yshift": 20
         },
         {
          "font": {
           "size": 12
          },
          "showarrow": false,
          "text": "Royal Caribbean Group",
          "textangle": 45,
          "x": "2014-12-05",
          "xshift": 0,
          "y": 0,
          "yshift": 20
         },
         {
          "font": {
           "size": 12
          },
          "showarrow": false,
          "text": "S&P Global",
          "textangle": 45,
          "x": "1957-03-04",
          "xshift": 0,
          "y": 0,
          "yshift": 20
         },
         {
          "font": {
           "size": 12
          },
          "showarrow": false,
          "text": "Salesforce",
          "textangle": 45,
          "x": "2008-09-15",
          "xshift": 0,
          "y": 0,
          "yshift": 20
         },
         {
          "font": {
           "size": 12
          },
          "showarrow": false,
          "text": "SBA Communications",
          "textangle": 45,
          "x": "2017-09-01",
          "xshift": 0,
          "y": 0,
          "yshift": 20
         },
         {
          "font": {
           "size": 12
          },
          "showarrow": false,
          "text": "Schlumberger",
          "textangle": 45,
          "x": "1957-03-04",
          "xshift": 0,
          "y": 0,
          "yshift": 20
         },
         {
          "font": {
           "size": 12
          },
          "showarrow": false,
          "text": "Seagate Technology",
          "textangle": 45,
          "x": "2012-07-02",
          "xshift": 0,
          "y": 0,
          "yshift": 20
         },
         {
          "font": {
           "size": 12
          },
          "showarrow": false,
          "text": "Sempra",
          "textangle": 45,
          "x": "2017-03-17",
          "xshift": 0,
          "y": 0,
          "yshift": 20
         },
         {
          "font": {
           "size": 12
          },
          "showarrow": false,
          "text": "ServiceNow",
          "textangle": 45,
          "x": "2019-11-21",
          "xshift": 0,
          "y": 0,
          "yshift": 20
         },
         {
          "font": {
           "size": 12
          },
          "showarrow": false,
          "text": "Sherwin-Williams",
          "textangle": 45,
          "x": "1964-06-30",
          "xshift": 0,
          "y": 0,
          "yshift": 20
         },
         {
          "font": {
           "size": 12
          },
          "showarrow": false,
          "text": "Simon Property Group",
          "textangle": 45,
          "x": "2002-06-26",
          "xshift": 0,
          "y": 0,
          "yshift": 20
         },
         {
          "font": {
           "size": 12
          },
          "showarrow": false,
          "text": "Skyworks Solutions",
          "textangle": 45,
          "x": "2015-03-12",
          "xshift": 0,
          "y": 0,
          "yshift": 20
         },
         {
          "font": {
           "size": 12
          },
          "showarrow": false,
          "text": "J.M. Smucker Company (The)",
          "textangle": 45,
          "x": "2008-11-06",
          "xshift": 0,
          "y": 0,
          "yshift": 20
         },
         {
          "font": {
           "size": 12
          },
          "showarrow": false,
          "text": "Smurfit Westrock",
          "textangle": 45,
          "x": "2024-07-08",
          "xshift": 0,
          "y": 0,
          "yshift": 20
         },
         {
          "font": {
           "size": 12
          },
          "showarrow": false,
          "text": "Snap-on",
          "textangle": 45,
          "x": "1982-09-30",
          "xshift": 0,
          "y": 0,
          "yshift": 20
         },
         {
          "font": {
           "size": 12
          },
          "showarrow": false,
          "text": "Solventum",
          "textangle": 45,
          "x": "2024-04-01",
          "xshift": 0,
          "y": 0,
          "yshift": 20
         },
         {
          "font": {
           "size": 12
          },
          "showarrow": false,
          "text": "Southern Company",
          "textangle": 45,
          "x": "1957-03-04",
          "xshift": 0,
          "y": 0,
          "yshift": 20
         },
         {
          "font": {
           "size": 12
          },
          "showarrow": false,
          "text": "Southwest Airlines",
          "textangle": 45,
          "x": "1994-07-01",
          "xshift": 0,
          "y": 0,
          "yshift": 20
         },
         {
          "font": {
           "size": 12
          },
          "showarrow": false,
          "text": "Stanley Black & Decker",
          "textangle": 45,
          "x": "1982-09-30",
          "xshift": 0,
          "y": 0,
          "yshift": 20
         },
         {
          "font": {
           "size": 12
          },
          "showarrow": false,
          "text": "Starbucks",
          "textangle": 45,
          "x": "2000-06-07",
          "xshift": 0,
          "y": 0,
          "yshift": 20
         },
         {
          "font": {
           "size": 12
          },
          "showarrow": false,
          "text": "State Street Corporation",
          "textangle": 45,
          "x": "2003-03-14",
          "xshift": 0,
          "y": 0,
          "yshift": 20
         },
         {
          "font": {
           "size": 12
          },
          "showarrow": false,
          "text": "Steel Dynamics",
          "textangle": 45,
          "x": "2022-12-22",
          "xshift": 0,
          "y": 0,
          "yshift": 20
         },
         {
          "font": {
           "size": 12
          },
          "showarrow": false,
          "text": "Steris",
          "textangle": 45,
          "x": "2019-12-23",
          "xshift": 0,
          "y": 0,
          "yshift": 20
         },
         {
          "font": {
           "size": 12
          },
          "showarrow": false,
          "text": "Stryker Corporation",
          "textangle": 45,
          "x": "2000-12-12",
          "xshift": 0,
          "y": 0,
          "yshift": 20
         },
         {
          "font": {
           "size": 12
          },
          "showarrow": false,
          "text": "Supermicro",
          "textangle": 45,
          "x": "2024-03-18",
          "xshift": 0,
          "y": 0,
          "yshift": 20
         },
         {
          "font": {
           "size": 12
          },
          "showarrow": false,
          "text": "Synchrony Financial",
          "textangle": 45,
          "x": "2015-11-18",
          "xshift": 0,
          "y": 0,
          "yshift": 20
         },
         {
          "font": {
           "size": 12
          },
          "showarrow": false,
          "text": "Synopsys",
          "textangle": 45,
          "x": "2017-03-16",
          "xshift": 0,
          "y": 0,
          "yshift": 20
         },
         {
          "font": {
           "size": 12
          },
          "showarrow": false,
          "text": "Sysco",
          "textangle": 45,
          "x": "1986-12-31",
          "xshift": 0,
          "y": 0,
          "yshift": 20
         },
         {
          "font": {
           "size": 12
          },
          "showarrow": false,
          "text": "T-Mobile US",
          "textangle": 45,
          "x": "2019-07-15",
          "xshift": 0,
          "y": 0,
          "yshift": 20
         },
         {
          "font": {
           "size": 12
          },
          "showarrow": false,
          "text": "T. Rowe Price",
          "textangle": 45,
          "x": "2019-07-29",
          "xshift": 0,
          "y": 0,
          "yshift": 20
         },
         {
          "font": {
           "size": 12
          },
          "showarrow": false,
          "text": "Take-Two Interactive",
          "textangle": 45,
          "x": "2018-03-19",
          "xshift": 0,
          "y": 0,
          "yshift": 20
         },
         {
          "font": {
           "size": 12
          },
          "showarrow": false,
          "text": "Tapestry, Inc.",
          "textangle": 45,
          "x": "2004-09-01",
          "xshift": 0,
          "y": 0,
          "yshift": 20
         },
         {
          "font": {
           "size": 12
          },
          "showarrow": false,
          "text": "Targa Resources",
          "textangle": 45,
          "x": "2022-10-12",
          "xshift": 0,
          "y": 0,
          "yshift": 20
         },
         {
          "font": {
           "size": 12
          },
          "showarrow": false,
          "text": "Target Corporation",
          "textangle": 45,
          "x": "1976-12-31",
          "xshift": 0,
          "y": 0,
          "yshift": 20
         },
         {
          "font": {
           "size": 12
          },
          "showarrow": false,
          "text": "TE Connectivity",
          "textangle": 45,
          "x": "2011-10-17",
          "xshift": 0,
          "y": 0,
          "yshift": 20
         },
         {
          "font": {
           "size": 12
          },
          "showarrow": false,
          "text": "Teledyne Technologies",
          "textangle": 45,
          "x": "2020-06-22",
          "xshift": 0,
          "y": 0,
          "yshift": 20
         },
         {
          "font": {
           "size": 12
          },
          "showarrow": false,
          "text": "Teradyne",
          "textangle": 45,
          "x": "2020-09-21",
          "xshift": 0,
          "y": 0,
          "yshift": 20
         },
         {
          "font": {
           "size": 12
          },
          "showarrow": false,
          "text": "Tesla, Inc.",
          "textangle": 45,
          "x": "2020-12-21",
          "xshift": 0,
          "y": 0,
          "yshift": 20
         },
         {
          "font": {
           "size": 12
          },
          "showarrow": false,
          "text": "Texas Instruments",
          "textangle": 45,
          "x": "2001-03-12",
          "xshift": 0,
          "y": 0,
          "yshift": 20
         },
         {
          "font": {
           "size": 12
          },
          "showarrow": false,
          "text": "Texas Pacific Land Corporation",
          "textangle": 45,
          "x": "2024-11-26",
          "xshift": 0,
          "y": 0,
          "yshift": 20
         },
         {
          "font": {
           "size": 12
          },
          "showarrow": false,
          "text": "Textron",
          "textangle": 45,
          "x": "1978-12-31",
          "xshift": 0,
          "y": 0,
          "yshift": 20
         },
         {
          "font": {
           "size": 12
          },
          "showarrow": false,
          "text": "Thermo Fisher Scientific",
          "textangle": 45,
          "x": "2004-08-03",
          "xshift": 0,
          "y": 0,
          "yshift": 20
         },
         {
          "font": {
           "size": 12
          },
          "showarrow": false,
          "text": "TJX Companies",
          "textangle": 45,
          "x": "1985-09-30",
          "xshift": 0,
          "y": 0,
          "yshift": 20
         },
         {
          "font": {
           "size": 12
          },
          "showarrow": false,
          "text": "TKO Group Holdings",
          "textangle": 45,
          "x": "2025-03-24",
          "xshift": 0,
          "y": 0,
          "yshift": 20
         },
         {
          "font": {
           "size": 12
          },
          "showarrow": false,
          "text": "Tractor Supply",
          "textangle": 45,
          "x": "2014-01-24",
          "xshift": 0,
          "y": 0,
          "yshift": 20
         },
         {
          "font": {
           "size": 12
          },
          "showarrow": false,
          "text": "Trane Technologies",
          "textangle": 45,
          "x": "2010-11-17",
          "xshift": 0,
          "y": 0,
          "yshift": 20
         },
         {
          "font": {
           "size": 12
          },
          "showarrow": false,
          "text": "TransDigm Group",
          "textangle": 45,
          "x": "2016-06-03",
          "xshift": 0,
          "y": 0,
          "yshift": 20
         },
         {
          "font": {
           "size": 12
          },
          "showarrow": false,
          "text": "Travelers Companies (The)",
          "textangle": 45,
          "x": "2002-08-21",
          "xshift": 0,
          "y": 0,
          "yshift": 20
         },
         {
          "font": {
           "size": 12
          },
          "showarrow": false,
          "text": "Trimble Inc.",
          "textangle": 45,
          "x": "2021-01-21",
          "xshift": 0,
          "y": 0,
          "yshift": 20
         },
         {
          "font": {
           "size": 12
          },
          "showarrow": false,
          "text": "Truist Financial",
          "textangle": 45,
          "x": "1997-12-04",
          "xshift": 0,
          "y": 0,
          "yshift": 20
         },
         {
          "font": {
           "size": 12
          },
          "showarrow": false,
          "text": "Tyler Technologies",
          "textangle": 45,
          "x": "2020-06-22",
          "xshift": 0,
          "y": 0,
          "yshift": 20
         },
         {
          "font": {
           "size": 12
          },
          "showarrow": false,
          "text": "Tyson Foods",
          "textangle": 45,
          "x": "2005-08-10",
          "xshift": 0,
          "y": 0,
          "yshift": 20
         },
         {
          "font": {
           "size": 12
          },
          "showarrow": false,
          "text": "U.S. Bancorp",
          "textangle": 45,
          "x": "1999-11-01",
          "xshift": 0,
          "y": 0,
          "yshift": 20
         },
         {
          "font": {
           "size": 12
          },
          "showarrow": false,
          "text": "Uber",
          "textangle": 45,
          "x": "2023-12-18",
          "xshift": 0,
          "y": 0,
          "yshift": 20
         },
         {
          "font": {
           "size": 12
          },
          "showarrow": false,
          "text": "UDR, Inc.",
          "textangle": 45,
          "x": "2016-03-07",
          "xshift": 0,
          "y": 0,
          "yshift": 20
         },
         {
          "font": {
           "size": 12
          },
          "showarrow": false,
          "text": "Ulta Beauty",
          "textangle": 45,
          "x": "2016-04-18",
          "xshift": 0,
          "y": 0,
          "yshift": 20
         },
         {
          "font": {
           "size": 12
          },
          "showarrow": false,
          "text": "Union Pacific Corporation",
          "textangle": 45,
          "x": "1957-03-04",
          "xshift": 0,
          "y": 0,
          "yshift": 20
         },
         {
          "font": {
           "size": 12
          },
          "showarrow": false,
          "text": "United Airlines Holdings",
          "textangle": 45,
          "x": "2015-09-03",
          "xshift": 0,
          "y": 0,
          "yshift": 20
         },
         {
          "font": {
           "size": 12
          },
          "showarrow": false,
          "text": "United Parcel Service",
          "textangle": 45,
          "x": "2002-07-22",
          "xshift": 0,
          "y": 0,
          "yshift": 20
         },
         {
          "font": {
           "size": 12
          },
          "showarrow": false,
          "text": "United Rentals",
          "textangle": 45,
          "x": "2014-09-20",
          "xshift": 0,
          "y": 0,
          "yshift": 20
         },
         {
          "font": {
           "size": 12
          },
          "showarrow": false,
          "text": "UnitedHealth Group",
          "textangle": 45,
          "x": "1994-07-01",
          "xshift": 0,
          "y": 0,
          "yshift": 20
         },
         {
          "font": {
           "size": 12
          },
          "showarrow": false,
          "text": "Universal Health Services",
          "textangle": 45,
          "x": "2014-09-20",
          "xshift": 0,
          "y": 0,
          "yshift": 20
         },
         {
          "font": {
           "size": 12
          },
          "showarrow": false,
          "text": "Valero Energy",
          "textangle": 45,
          "x": "2002-12-20",
          "xshift": 0,
          "y": 0,
          "yshift": 20
         },
         {
          "font": {
           "size": 12
          },
          "showarrow": false,
          "text": "Ventas",
          "textangle": 45,
          "x": "2009-03-04",
          "xshift": 0,
          "y": 0,
          "yshift": 20
         },
         {
          "font": {
           "size": 12
          },
          "showarrow": false,
          "text": "Veralto",
          "textangle": 45,
          "x": "2023-10-02",
          "xshift": 0,
          "y": 0,
          "yshift": 20
         },
         {
          "font": {
           "size": 12
          },
          "showarrow": false,
          "text": "Verisign",
          "textangle": 45,
          "x": "2006-02-01",
          "xshift": 0,
          "y": 0,
          "yshift": 20
         },
         {
          "font": {
           "size": 12
          },
          "showarrow": false,
          "text": "Verisk Analytics",
          "textangle": 45,
          "x": "2015-10-08",
          "xshift": 0,
          "y": 0,
          "yshift": 20
         },
         {
          "font": {
           "size": 12
          },
          "showarrow": false,
          "text": "Verizon",
          "textangle": 45,
          "x": "1983-11-30",
          "xshift": 0,
          "y": 0,
          "yshift": 20
         },
         {
          "font": {
           "size": 12
          },
          "showarrow": false,
          "text": "Vertex Pharmaceuticals",
          "textangle": 45,
          "x": "2013-09-23",
          "xshift": 0,
          "y": 0,
          "yshift": 20
         },
         {
          "font": {
           "size": 12
          },
          "showarrow": false,
          "text": "Viatris",
          "textangle": 45,
          "x": "2004-04-23",
          "xshift": 0,
          "y": 0,
          "yshift": 20
         },
         {
          "font": {
           "size": 12
          },
          "showarrow": false,
          "text": "Vici Properties",
          "textangle": 45,
          "x": "2022-06-08",
          "xshift": 0,
          "y": 0,
          "yshift": 20
         },
         {
          "font": {
           "size": 12
          },
          "showarrow": false,
          "text": "Visa Inc.",
          "textangle": 45,
          "x": "2009-12-21",
          "xshift": 0,
          "y": 0,
          "yshift": 20
         },
         {
          "font": {
           "size": 12
          },
          "showarrow": false,
          "text": "Vistra Corp.",
          "textangle": 45,
          "x": "2024-05-08",
          "xshift": 0,
          "y": 0,
          "yshift": 20
         },
         {
          "font": {
           "size": 12
          },
          "showarrow": false,
          "text": "Vulcan Materials Company",
          "textangle": 45,
          "x": "1999-06-30",
          "xshift": 0,
          "y": 0,
          "yshift": 20
         },
         {
          "font": {
           "size": 12
          },
          "showarrow": false,
          "text": "W. R. Berkley Corporation",
          "textangle": 45,
          "x": "2019-12-05",
          "xshift": 0,
          "y": 0,
          "yshift": 20
         },
         {
          "font": {
           "size": 12
          },
          "showarrow": false,
          "text": "W. W. Grainger",
          "textangle": 45,
          "x": "1981-06-30",
          "xshift": 0,
          "y": 0,
          "yshift": 20
         },
         {
          "font": {
           "size": 12
          },
          "showarrow": false,
          "text": "Wabtec",
          "textangle": 45,
          "x": "2019-02-27",
          "xshift": 0,
          "y": 0,
          "yshift": 20
         },
         {
          "font": {
           "size": 12
          },
          "showarrow": false,
          "text": "Walgreens Boots Alliance",
          "textangle": 45,
          "x": "1979-12-31",
          "xshift": 0,
          "y": 0,
          "yshift": 20
         },
         {
          "font": {
           "size": 12
          },
          "showarrow": false,
          "text": "Walmart",
          "textangle": 45,
          "x": "1982-08-31",
          "xshift": 0,
          "y": 0,
          "yshift": 20
         },
         {
          "font": {
           "size": 12
          },
          "showarrow": false,
          "text": "Walt Disney Company (The)",
          "textangle": 45,
          "x": "1976-06-30",
          "xshift": 0,
          "y": 0,
          "yshift": 20
         },
         {
          "font": {
           "size": 12
          },
          "showarrow": false,
          "text": "Warner Bros. Discovery",
          "textangle": 45,
          "x": "2022-04-11",
          "xshift": 0,
          "y": 0,
          "yshift": 20
         },
         {
          "font": {
           "size": 12
          },
          "showarrow": false,
          "text": "Waste Management",
          "textangle": 45,
          "x": "1998-08-31",
          "xshift": 0,
          "y": 0,
          "yshift": 20
         },
         {
          "font": {
           "size": 12
          },
          "showarrow": false,
          "text": "Waters Corporation",
          "textangle": 45,
          "x": "2002-01-02",
          "xshift": 0,
          "y": 0,
          "yshift": 20
         },
         {
          "font": {
           "size": 12
          },
          "showarrow": false,
          "text": "WEC Energy Group",
          "textangle": 45,
          "x": "2008-10-31",
          "xshift": 0,
          "y": 0,
          "yshift": 20
         },
         {
          "font": {
           "size": 12
          },
          "showarrow": false,
          "text": "Wells Fargo",
          "textangle": 45,
          "x": "1976-06-30",
          "xshift": 0,
          "y": 0,
          "yshift": 20
         },
         {
          "font": {
           "size": 12
          },
          "showarrow": false,
          "text": "Welltower",
          "textangle": 45,
          "x": "2009-01-30",
          "xshift": 0,
          "y": 0,
          "yshift": 20
         },
         {
          "font": {
           "size": 12
          },
          "showarrow": false,
          "text": "West Pharmaceutical Services",
          "textangle": 45,
          "x": "2020-05-22",
          "xshift": 0,
          "y": 0,
          "yshift": 20
         },
         {
          "font": {
           "size": 12
          },
          "showarrow": false,
          "text": "Western Digital",
          "textangle": 45,
          "x": "2009-07-01",
          "xshift": 0,
          "y": 0,
          "yshift": 20
         },
         {
          "font": {
           "size": 12
          },
          "showarrow": false,
          "text": "Weyerhaeuser",
          "textangle": 45,
          "x": "1979-10-01",
          "xshift": 0,
          "y": 0,
          "yshift": 20
         },
         {
          "font": {
           "size": 12
          },
          "showarrow": false,
          "text": "Williams-Sonoma, Inc.",
          "textangle": 45,
          "x": "2025-03-24",
          "xshift": 0,
          "y": 0,
          "yshift": 20
         },
         {
          "font": {
           "size": 12
          },
          "showarrow": false,
          "text": "Williams Companies",
          "textangle": 45,
          "x": "1975-03-31",
          "xshift": 0,
          "y": 0,
          "yshift": 20
         },
         {
          "font": {
           "size": 12
          },
          "showarrow": false,
          "text": "Willis Towers Watson",
          "textangle": 45,
          "x": "2016-01-05",
          "xshift": 0,
          "y": 0,
          "yshift": 20
         },
         {
          "font": {
           "size": 12
          },
          "showarrow": false,
          "text": "Workday, Inc.",
          "textangle": 45,
          "x": "2024-12-23",
          "xshift": 0,
          "y": 0,
          "yshift": 20
         },
         {
          "font": {
           "size": 12
          },
          "showarrow": false,
          "text": "Wynn Resorts",
          "textangle": 45,
          "x": "2008-11-14",
          "xshift": 0,
          "y": 0,
          "yshift": 20
         },
         {
          "font": {
           "size": 12
          },
          "showarrow": false,
          "text": "Xcel Energy",
          "textangle": 45,
          "x": "1957-03-04",
          "xshift": 0,
          "y": 0,
          "yshift": 20
         },
         {
          "font": {
           "size": 12
          },
          "showarrow": false,
          "text": "Xylem Inc.",
          "textangle": 45,
          "x": "2011-11-01",
          "xshift": 0,
          "y": 0,
          "yshift": 20
         },
         {
          "font": {
           "size": 12
          },
          "showarrow": false,
          "text": "Yum! Brands",
          "textangle": 45,
          "x": "1997-10-06",
          "xshift": 0,
          "y": 0,
          "yshift": 20
         },
         {
          "font": {
           "size": 12
          },
          "showarrow": false,
          "text": "Zebra Technologies",
          "textangle": 45,
          "x": "2019-12-23",
          "xshift": 0,
          "y": 0,
          "yshift": 20
         },
         {
          "font": {
           "size": 12
          },
          "showarrow": false,
          "text": "Zimmer Biomet",
          "textangle": 45,
          "x": "2001-08-07",
          "xshift": 0,
          "y": 0,
          "yshift": 20
         },
         {
          "font": {
           "size": 12
          },
          "showarrow": false,
          "text": "Zoetis",
          "textangle": 45,
          "x": "2013-06-21",
          "xshift": 0,
          "y": 0,
          "yshift": 20
         }
        ],
        "height": 500,
        "hovermode": "closest",
        "template": {
         "data": {
          "bar": [
           {
            "error_x": {
             "color": "#2a3f5f"
            },
            "error_y": {
             "color": "#2a3f5f"
            },
            "marker": {
             "line": {
              "color": "#E5ECF6",
              "width": 0.5
             },
             "pattern": {
              "fillmode": "overlay",
              "size": 10,
              "solidity": 0.2
             }
            },
            "type": "bar"
           }
          ],
          "barpolar": [
           {
            "marker": {
             "line": {
              "color": "#E5ECF6",
              "width": 0.5
             },
             "pattern": {
              "fillmode": "overlay",
              "size": 10,
              "solidity": 0.2
             }
            },
            "type": "barpolar"
           }
          ],
          "carpet": [
           {
            "aaxis": {
             "endlinecolor": "#2a3f5f",
             "gridcolor": "white",
             "linecolor": "white",
             "minorgridcolor": "white",
             "startlinecolor": "#2a3f5f"
            },
            "baxis": {
             "endlinecolor": "#2a3f5f",
             "gridcolor": "white",
             "linecolor": "white",
             "minorgridcolor": "white",
             "startlinecolor": "#2a3f5f"
            },
            "type": "carpet"
           }
          ],
          "choropleth": [
           {
            "colorbar": {
             "outlinewidth": 0,
             "ticks": ""
            },
            "type": "choropleth"
           }
          ],
          "contour": [
           {
            "colorbar": {
             "outlinewidth": 0,
             "ticks": ""
            },
            "colorscale": [
             [
              0,
              "#0d0887"
             ],
             [
              0.1111111111111111,
              "#46039f"
             ],
             [
              0.2222222222222222,
              "#7201a8"
             ],
             [
              0.3333333333333333,
              "#9c179e"
             ],
             [
              0.4444444444444444,
              "#bd3786"
             ],
             [
              0.5555555555555556,
              "#d8576b"
             ],
             [
              0.6666666666666666,
              "#ed7953"
             ],
             [
              0.7777777777777778,
              "#fb9f3a"
             ],
             [
              0.8888888888888888,
              "#fdca26"
             ],
             [
              1,
              "#f0f921"
             ]
            ],
            "type": "contour"
           }
          ],
          "contourcarpet": [
           {
            "colorbar": {
             "outlinewidth": 0,
             "ticks": ""
            },
            "type": "contourcarpet"
           }
          ],
          "heatmap": [
           {
            "colorbar": {
             "outlinewidth": 0,
             "ticks": ""
            },
            "colorscale": [
             [
              0,
              "#0d0887"
             ],
             [
              0.1111111111111111,
              "#46039f"
             ],
             [
              0.2222222222222222,
              "#7201a8"
             ],
             [
              0.3333333333333333,
              "#9c179e"
             ],
             [
              0.4444444444444444,
              "#bd3786"
             ],
             [
              0.5555555555555556,
              "#d8576b"
             ],
             [
              0.6666666666666666,
              "#ed7953"
             ],
             [
              0.7777777777777778,
              "#fb9f3a"
             ],
             [
              0.8888888888888888,
              "#fdca26"
             ],
             [
              1,
              "#f0f921"
             ]
            ],
            "type": "heatmap"
           }
          ],
          "heatmapgl": [
           {
            "colorbar": {
             "outlinewidth": 0,
             "ticks": ""
            },
            "colorscale": [
             [
              0,
              "#0d0887"
             ],
             [
              0.1111111111111111,
              "#46039f"
             ],
             [
              0.2222222222222222,
              "#7201a8"
             ],
             [
              0.3333333333333333,
              "#9c179e"
             ],
             [
              0.4444444444444444,
              "#bd3786"
             ],
             [
              0.5555555555555556,
              "#d8576b"
             ],
             [
              0.6666666666666666,
              "#ed7953"
             ],
             [
              0.7777777777777778,
              "#fb9f3a"
             ],
             [
              0.8888888888888888,
              "#fdca26"
             ],
             [
              1,
              "#f0f921"
             ]
            ],
            "type": "heatmapgl"
           }
          ],
          "histogram": [
           {
            "marker": {
             "pattern": {
              "fillmode": "overlay",
              "size": 10,
              "solidity": 0.2
             }
            },
            "type": "histogram"
           }
          ],
          "histogram2d": [
           {
            "colorbar": {
             "outlinewidth": 0,
             "ticks": ""
            },
            "colorscale": [
             [
              0,
              "#0d0887"
             ],
             [
              0.1111111111111111,
              "#46039f"
             ],
             [
              0.2222222222222222,
              "#7201a8"
             ],
             [
              0.3333333333333333,
              "#9c179e"
             ],
             [
              0.4444444444444444,
              "#bd3786"
             ],
             [
              0.5555555555555556,
              "#d8576b"
             ],
             [
              0.6666666666666666,
              "#ed7953"
             ],
             [
              0.7777777777777778,
              "#fb9f3a"
             ],
             [
              0.8888888888888888,
              "#fdca26"
             ],
             [
              1,
              "#f0f921"
             ]
            ],
            "type": "histogram2d"
           }
          ],
          "histogram2dcontour": [
           {
            "colorbar": {
             "outlinewidth": 0,
             "ticks": ""
            },
            "colorscale": [
             [
              0,
              "#0d0887"
             ],
             [
              0.1111111111111111,
              "#46039f"
             ],
             [
              0.2222222222222222,
              "#7201a8"
             ],
             [
              0.3333333333333333,
              "#9c179e"
             ],
             [
              0.4444444444444444,
              "#bd3786"
             ],
             [
              0.5555555555555556,
              "#d8576b"
             ],
             [
              0.6666666666666666,
              "#ed7953"
             ],
             [
              0.7777777777777778,
              "#fb9f3a"
             ],
             [
              0.8888888888888888,
              "#fdca26"
             ],
             [
              1,
              "#f0f921"
             ]
            ],
            "type": "histogram2dcontour"
           }
          ],
          "mesh3d": [
           {
            "colorbar": {
             "outlinewidth": 0,
             "ticks": ""
            },
            "type": "mesh3d"
           }
          ],
          "parcoords": [
           {
            "line": {
             "colorbar": {
              "outlinewidth": 0,
              "ticks": ""
             }
            },
            "type": "parcoords"
           }
          ],
          "pie": [
           {
            "automargin": true,
            "type": "pie"
           }
          ],
          "scatter": [
           {
            "fillpattern": {
             "fillmode": "overlay",
             "size": 10,
             "solidity": 0.2
            },
            "type": "scatter"
           }
          ],
          "scatter3d": [
           {
            "line": {
             "colorbar": {
              "outlinewidth": 0,
              "ticks": ""
             }
            },
            "marker": {
             "colorbar": {
              "outlinewidth": 0,
              "ticks": ""
             }
            },
            "type": "scatter3d"
           }
          ],
          "scattercarpet": [
           {
            "marker": {
             "colorbar": {
              "outlinewidth": 0,
              "ticks": ""
             }
            },
            "type": "scattercarpet"
           }
          ],
          "scattergeo": [
           {
            "marker": {
             "colorbar": {
              "outlinewidth": 0,
              "ticks": ""
             }
            },
            "type": "scattergeo"
           }
          ],
          "scattergl": [
           {
            "marker": {
             "colorbar": {
              "outlinewidth": 0,
              "ticks": ""
             }
            },
            "type": "scattergl"
           }
          ],
          "scattermapbox": [
           {
            "marker": {
             "colorbar": {
              "outlinewidth": 0,
              "ticks": ""
             }
            },
            "type": "scattermapbox"
           }
          ],
          "scatterpolar": [
           {
            "marker": {
             "colorbar": {
              "outlinewidth": 0,
              "ticks": ""
             }
            },
            "type": "scatterpolar"
           }
          ],
          "scatterpolargl": [
           {
            "marker": {
             "colorbar": {
              "outlinewidth": 0,
              "ticks": ""
             }
            },
            "type": "scatterpolargl"
           }
          ],
          "scatterternary": [
           {
            "marker": {
             "colorbar": {
              "outlinewidth": 0,
              "ticks": ""
             }
            },
            "type": "scatterternary"
           }
          ],
          "surface": [
           {
            "colorbar": {
             "outlinewidth": 0,
             "ticks": ""
            },
            "colorscale": [
             [
              0,
              "#0d0887"
             ],
             [
              0.1111111111111111,
              "#46039f"
             ],
             [
              0.2222222222222222,
              "#7201a8"
             ],
             [
              0.3333333333333333,
              "#9c179e"
             ],
             [
              0.4444444444444444,
              "#bd3786"
             ],
             [
              0.5555555555555556,
              "#d8576b"
             ],
             [
              0.6666666666666666,
              "#ed7953"
             ],
             [
              0.7777777777777778,
              "#fb9f3a"
             ],
             [
              0.8888888888888888,
              "#fdca26"
             ],
             [
              1,
              "#f0f921"
             ]
            ],
            "type": "surface"
           }
          ],
          "table": [
           {
            "cells": {
             "fill": {
              "color": "#EBF0F8"
             },
             "line": {
              "color": "white"
             }
            },
            "header": {
             "fill": {
              "color": "#C8D4E3"
             },
             "line": {
              "color": "white"
             }
            },
            "type": "table"
           }
          ]
         },
         "layout": {
          "annotationdefaults": {
           "arrowcolor": "#2a3f5f",
           "arrowhead": 0,
           "arrowwidth": 1
          },
          "autotypenumbers": "strict",
          "coloraxis": {
           "colorbar": {
            "outlinewidth": 0,
            "ticks": ""
           }
          },
          "colorscale": {
           "diverging": [
            [
             0,
             "#8e0152"
            ],
            [
             0.1,
             "#c51b7d"
            ],
            [
             0.2,
             "#de77ae"
            ],
            [
             0.3,
             "#f1b6da"
            ],
            [
             0.4,
             "#fde0ef"
            ],
            [
             0.5,
             "#f7f7f7"
            ],
            [
             0.6,
             "#e6f5d0"
            ],
            [
             0.7,
             "#b8e186"
            ],
            [
             0.8,
             "#7fbc41"
            ],
            [
             0.9,
             "#4d9221"
            ],
            [
             1,
             "#276419"
            ]
           ],
           "sequential": [
            [
             0,
             "#0d0887"
            ],
            [
             0.1111111111111111,
             "#46039f"
            ],
            [
             0.2222222222222222,
             "#7201a8"
            ],
            [
             0.3333333333333333,
             "#9c179e"
            ],
            [
             0.4444444444444444,
             "#bd3786"
            ],
            [
             0.5555555555555556,
             "#d8576b"
            ],
            [
             0.6666666666666666,
             "#ed7953"
            ],
            [
             0.7777777777777778,
             "#fb9f3a"
            ],
            [
             0.8888888888888888,
             "#fdca26"
            ],
            [
             1,
             "#f0f921"
            ]
           ],
           "sequentialminus": [
            [
             0,
             "#0d0887"
            ],
            [
             0.1111111111111111,
             "#46039f"
            ],
            [
             0.2222222222222222,
             "#7201a8"
            ],
            [
             0.3333333333333333,
             "#9c179e"
            ],
            [
             0.4444444444444444,
             "#bd3786"
            ],
            [
             0.5555555555555556,
             "#d8576b"
            ],
            [
             0.6666666666666666,
             "#ed7953"
            ],
            [
             0.7777777777777778,
             "#fb9f3a"
            ],
            [
             0.8888888888888888,
             "#fdca26"
            ],
            [
             1,
             "#f0f921"
            ]
           ]
          },
          "colorway": [
           "#636efa",
           "#EF553B",
           "#00cc96",
           "#ab63fa",
           "#FFA15A",
           "#19d3f3",
           "#FF6692",
           "#B6E880",
           "#FF97FF",
           "#FECB52"
          ],
          "font": {
           "color": "#2a3f5f"
          },
          "geo": {
           "bgcolor": "white",
           "lakecolor": "white",
           "landcolor": "#E5ECF6",
           "showlakes": true,
           "showland": true,
           "subunitcolor": "white"
          },
          "hoverlabel": {
           "align": "left"
          },
          "hovermode": "closest",
          "mapbox": {
           "style": "light"
          },
          "paper_bgcolor": "white",
          "plot_bgcolor": "#E5ECF6",
          "polar": {
           "angularaxis": {
            "gridcolor": "white",
            "linecolor": "white",
            "ticks": ""
           },
           "bgcolor": "#E5ECF6",
           "radialaxis": {
            "gridcolor": "white",
            "linecolor": "white",
            "ticks": ""
           }
          },
          "scene": {
           "xaxis": {
            "backgroundcolor": "#E5ECF6",
            "gridcolor": "white",
            "gridwidth": 2,
            "linecolor": "white",
            "showbackground": true,
            "ticks": "",
            "zerolinecolor": "white"
           },
           "yaxis": {
            "backgroundcolor": "#E5ECF6",
            "gridcolor": "white",
            "gridwidth": 2,
            "linecolor": "white",
            "showbackground": true,
            "ticks": "",
            "zerolinecolor": "white"
           },
           "zaxis": {
            "backgroundcolor": "#E5ECF6",
            "gridcolor": "white",
            "gridwidth": 2,
            "linecolor": "white",
            "showbackground": true,
            "ticks": "",
            "zerolinecolor": "white"
           }
          },
          "shapedefaults": {
           "line": {
            "color": "#2a3f5f"
           }
          },
          "ternary": {
           "aaxis": {
            "gridcolor": "white",
            "linecolor": "white",
            "ticks": ""
           },
           "baxis": {
            "gridcolor": "white",
            "linecolor": "white",
            "ticks": ""
           },
           "bgcolor": "#E5ECF6",
           "caxis": {
            "gridcolor": "white",
            "linecolor": "white",
            "ticks": ""
           }
          },
          "title": {
           "x": 0.05
          },
          "xaxis": {
           "automargin": true,
           "gridcolor": "white",
           "linecolor": "white",
           "ticks": "",
           "title": {
            "standoff": 15
           },
           "zerolinecolor": "white",
           "zerolinewidth": 2
          },
          "yaxis": {
           "automargin": true,
           "gridcolor": "white",
           "linecolor": "white",
           "ticks": "",
           "title": {
            "standoff": 15
           },
           "zerolinecolor": "white",
           "zerolinewidth": 2
          }
         }
        },
        "title": {
         "text": "Company Founding Timeline"
        },
        "xaxis": {
         "title": {
          "text": "Year Founded"
         }
        },
        "yaxis": {
         "showgrid": false,
         "showticklabels": false,
         "zeroline": false
        }
       }
      }
     },
     "metadata": {},
     "output_type": "display_data"
    }
   ],
   "source": [
    "fig = go.Figure()\n",
    "\n",
    "# Add markers without text\n",
    "fig.add_trace(go.Scatter(\n",
    "    x=sp_500['Date added'],\n",
    "    y=[0]*len(sp_500),\n",
    "    mode='markers',  # Remove text mode\n",
    "    marker=dict(\n",
    "        size=15,\n",
    "        color=sp_500.index,\n",
    "        colorscale='viridis',\n",
    "        showscale=True\n",
    "    ),\n",
    "    hovertemplate='<b>%{customdata}</b><br>Date added: %{x}<extra></extra>',\n",
    "    customdata=sp_500['Security']\n",
    "))\n",
    "\n",
    "# Add tilted annotations\n",
    "for i, row in sp_500.iterrows():\n",
    "    fig.add_annotation(\n",
    "        x=row['Date added'],\n",
    "        y=0,\n",
    "        text=row['Security'],\n",
    "        showarrow=False,\n",
    "        textangle=45,  # This works for annotations!\n",
    "        xshift=0,\n",
    "        yshift=20,\n",
    "        font=dict(size=12)\n",
    "    )\n",
    "\n",
    "# Add connecting line\n",
    "fig.add_trace(go.Scatter(\n",
    "    x=[sp_500['Date added'].min(), sp_500['Date added'].max()],\n",
    "    y=[0, 0],\n",
    "    mode='lines',\n",
    "    line=dict(color='gray', width=2),\n",
    "    showlegend=False\n",
    "))\n",
    "\n",
    "fig.update_layout(\n",
    "    title='Company Founding Timeline',\n",
    "    xaxis_title='Year Founded',\n",
    "    yaxis=dict(showticklabels=False, zeroline=False, showgrid=False),\n",
    "    height=500,\n",
    "    hovermode='closest'\n",
    ")\n",
    "\n",
    "fig.show()"
   ]
  },
  {
   "cell_type": "code",
   "execution_count": 9,
   "id": "ae05bb0f",
   "metadata": {},
   "outputs": [
    {
     "data": {
      "text/html": [
       "<div>\n",
       "<style scoped>\n",
       "    .dataframe tbody tr th:only-of-type {\n",
       "        vertical-align: middle;\n",
       "    }\n",
       "\n",
       "    .dataframe tbody tr th {\n",
       "        vertical-align: top;\n",
       "    }\n",
       "\n",
       "    .dataframe thead th {\n",
       "        text-align: right;\n",
       "    }\n",
       "</style>\n",
       "<table border=\"1\" class=\"dataframe\">\n",
       "  <thead>\n",
       "    <tr style=\"text-align: right;\">\n",
       "      <th></th>\n",
       "      <th>Symbol</th>\n",
       "      <th>Security</th>\n",
       "      <th>GICS Sector</th>\n",
       "      <th>GICS Sub-Industry</th>\n",
       "      <th>Headquarters Location</th>\n",
       "      <th>Date added</th>\n",
       "      <th>CIK</th>\n",
       "    </tr>\n",
       "  </thead>\n",
       "  <tbody>\n",
       "    <tr>\n",
       "      <th>133</th>\n",
       "      <td>CMI</td>\n",
       "      <td>Cummins</td>\n",
       "      <td>Industrials</td>\n",
       "      <td>Construction Machinery &amp; Heavy Transportation ...</td>\n",
       "      <td>Columbus, Indiana</td>\n",
       "      <td>1965-03-31</td>\n",
       "      <td>26172</td>\n",
       "    </tr>\n",
       "    <tr>\n",
       "      <th>166</th>\n",
       "      <td>EMR</td>\n",
       "      <td>Emerson Electric</td>\n",
       "      <td>Industrials</td>\n",
       "      <td>Electrical Components &amp; Equipment</td>\n",
       "      <td>Ferguson, Missouri</td>\n",
       "      <td>1965-03-31</td>\n",
       "      <td>32604</td>\n",
       "    </tr>\n",
       "  </tbody>\n",
       "</table>\n",
       "</div>"
      ],
      "text/plain": [
       "    Symbol          Security  GICS Sector  \\\n",
       "133    CMI           Cummins  Industrials   \n",
       "166    EMR  Emerson Electric  Industrials   \n",
       "\n",
       "                                     GICS Sub-Industry Headquarters Location  \\\n",
       "133  Construction Machinery & Heavy Transportation ...     Columbus, Indiana   \n",
       "166                  Electrical Components & Equipment    Ferguson, Missouri   \n",
       "\n",
       "     Date added    CIK  \n",
       "133  1965-03-31  26172  \n",
       "166  1965-03-31  32604  "
      ]
     },
     "execution_count": 9,
     "metadata": {},
     "output_type": "execute_result"
    }
   ],
   "source": [
    "sp_500[sp_500.loc[:,'Date added'] == '1965-03-31']"
   ]
  },
  {
   "cell_type": "code",
   "execution_count": 10,
   "id": "7bd47b4f",
   "metadata": {},
   "outputs": [],
   "source": [
    "sp_500['year'] = pd.to_datetime(sp_500['Date added']).dt.strftime('%Y')"
   ]
  },
  {
   "cell_type": "code",
   "execution_count": 11,
   "id": "6b3440d2",
   "metadata": {},
   "outputs": [
    {
     "data": {
      "text/html": [
       "<div>\n",
       "<style scoped>\n",
       "    .dataframe tbody tr th:only-of-type {\n",
       "        vertical-align: middle;\n",
       "    }\n",
       "\n",
       "    .dataframe tbody tr th {\n",
       "        vertical-align: top;\n",
       "    }\n",
       "\n",
       "    .dataframe thead th {\n",
       "        text-align: right;\n",
       "    }\n",
       "</style>\n",
       "<table border=\"1\" class=\"dataframe\">\n",
       "  <thead>\n",
       "    <tr style=\"text-align: right;\">\n",
       "      <th></th>\n",
       "      <th>Symbol</th>\n",
       "      <th>Security</th>\n",
       "      <th>GICS Sector</th>\n",
       "      <th>GICS Sub-Industry</th>\n",
       "      <th>Headquarters Location</th>\n",
       "      <th>Date added</th>\n",
       "      <th>CIK</th>\n",
       "      <th>year</th>\n",
       "    </tr>\n",
       "  </thead>\n",
       "  <tbody>\n",
       "    <tr>\n",
       "      <th>0</th>\n",
       "      <td>MMM</td>\n",
       "      <td>3M</td>\n",
       "      <td>Industrials</td>\n",
       "      <td>Industrial Conglomerates</td>\n",
       "      <td>Saint Paul, Minnesota</td>\n",
       "      <td>1957-03-04</td>\n",
       "      <td>66740</td>\n",
       "      <td>1957</td>\n",
       "    </tr>\n",
       "    <tr>\n",
       "      <th>1</th>\n",
       "      <td>AOS</td>\n",
       "      <td>A. O. Smith</td>\n",
       "      <td>Industrials</td>\n",
       "      <td>Building Products</td>\n",
       "      <td>Milwaukee, Wisconsin</td>\n",
       "      <td>2017-07-26</td>\n",
       "      <td>91142</td>\n",
       "      <td>2017</td>\n",
       "    </tr>\n",
       "  </tbody>\n",
       "</table>\n",
       "</div>"
      ],
      "text/plain": [
       "  Symbol     Security  GICS Sector         GICS Sub-Industry  \\\n",
       "0    MMM           3M  Industrials  Industrial Conglomerates   \n",
       "1    AOS  A. O. Smith  Industrials         Building Products   \n",
       "\n",
       "   Headquarters Location  Date added    CIK  year  \n",
       "0  Saint Paul, Minnesota  1957-03-04  66740  1957  \n",
       "1   Milwaukee, Wisconsin  2017-07-26  91142  2017  "
      ]
     },
     "execution_count": 11,
     "metadata": {},
     "output_type": "execute_result"
    }
   ],
   "source": [
    "sp_500.head(2)"
   ]
  },
  {
   "cell_type": "code",
   "execution_count": 12,
   "id": "c6cb204f",
   "metadata": {},
   "outputs": [
    {
     "data": {
      "text/plain": [
       "year\n",
       "1957    53\n",
       "2017    23\n",
       "2016    23\n",
       "2019    22\n",
       "2008    17\n",
       "2024    16\n",
       "2022    16\n",
       "2021    15\n",
       "2023    15\n",
       "2018    14\n",
       "2015    14\n",
       "1997    14\n",
       "2012    14\n",
       "2002    13\n",
       "2007    12\n",
       "2020    12\n",
       "2009    12\n",
       "1976    11\n",
       "1998    11\n",
       "2006    10\n",
       "2011    10\n",
       "2013    10\n",
       "2010     9\n",
       "1999     9\n",
       "2000     9\n",
       "2001     8\n",
       "2014     8\n",
       "1985     7\n",
       "1994     7\n",
       "1995     7\n",
       "2005     7\n",
       "2004     6\n",
       "1989     5\n",
       "2025     5\n",
       "1982     5\n",
       "2003     5\n",
       "1984     5\n",
       "1988     4\n",
       "1993     3\n",
       "1980     3\n",
       "1992     3\n",
       "1986     3\n",
       "1983     3\n",
       "1981     3\n",
       "1996     2\n",
       "1973     2\n",
       "1987     2\n",
       "1972     2\n",
       "1969     2\n",
       "1979     2\n",
       "1965     2\n",
       "1975     2\n",
       "1970     2\n",
       "1991     1\n",
       "1974     1\n",
       "1964     1\n",
       "1978     1\n",
       "Name: count, dtype: int64"
      ]
     },
     "execution_count": 12,
     "metadata": {},
     "output_type": "execute_result"
    }
   ],
   "source": [
    "sp_500['year'].value_counts(ascending=False)"
   ]
  },
  {
   "cell_type": "code",
   "execution_count": 13,
   "id": "f2593f9a",
   "metadata": {},
   "outputs": [
    {
     "name": "stdout",
     "output_type": "stream",
     "text": [
      "2017 had the highest number of additions to the S&P 500 outside of 1957 when the index first started\n"
     ]
    }
   ],
   "source": [
    "print('2017 had the highest number of additions to the S&P 500 outside of 1957 when the index first started')"
   ]
  },
  {
   "cell_type": "markdown",
   "id": "13f6fc7e",
   "metadata": {},
   "source": [
    "### Question 2. [Macro] Indexes YTD (as of 1 May 2025)\n",
    "\n",
    "**How many indexes (out of 10) have better year-to-date returns than the US (S&P 500) as of May 1, 2025?**\n",
    "\n",
    "Using Yahoo Finance World Indices data, compare the year-to-date (YTD) performance (1 January-1 May 2025) of major stock market indexes for the following countries:\n",
    "* United States - S&P 500 (^GSPC)\n",
    "* China - Shanghai Composite (000001.SS)\n",
    "* Hong Kong - HANG SENG INDEX (^HSI)\t\n",
    "* Australia - S&P/ASX 200 (^AXJO)\n",
    "* India - Nifty 50 (^NSEI)\n",
    "* Canada - S&P/TSX Composite (^GSPTSE)\n",
    "* Germany - DAX (^GDAXI)\n",
    "* United Kingdom - FTSE 100 (^FTSE)\n",
    "* Japan - Nikkei 225 (^N225)\n",
    "* Mexico - IPC Mexico (^MXX)\n",
    "* Brazil - Ibovespa (^BVSP)\n",
    "\n",
    "*Hint*: use start_date='2025-01-01' and end_date='2025-05-01' when downloading daily data in yfinance\n",
    "\n",
    "Context: \n",
    "> [Global Valuations: Who's Cheap, Who's Not?](https://simplywall.st/article/beyond-the-us-global-markets-after-yet-another-tariff-update) article suggests \"Other regions may be growing faster than the US and you need to diversify.\"\n",
    "\n",
    "Reference: Yahoo Finance World Indices - https://finance.yahoo.com/world-indices/\n",
    "\n",
    "*Additional*: How many of these indexes have better returns than the S&P 500 over 3, 5, and 10 year periods? Do you see the same trend?\n",
    "Note: For simplicity, ignore currency conversion effects.)"
   ]
  },
  {
   "cell_type": "code",
   "execution_count": 14,
   "id": "09027ae5",
   "metadata": {},
   "outputs": [],
   "source": [
    "start_q2 = date(year=2025, month=1, day=1)\n",
    "end_q2 = date(year=2025, month=5, day=1)"
   ]
  },
  {
   "cell_type": "code",
   "execution_count": 15,
   "id": "d798d338",
   "metadata": {},
   "outputs": [
    {
     "name": "stdout",
     "output_type": "stream",
     "text": [
      "YF.download() has changed argument auto_adjust default to True\n"
     ]
    },
    {
     "name": "stderr",
     "output_type": "stream",
     "text": [
      "[*********************100%***********************]  11 of 11 completed\n"
     ]
    }
   ],
   "source": [
    "tickers = [\"^GSPC\",\"000001.SS\",\"^HSI\",\"^AXJO\",\"^NSEI\",\"^GSPTSE\",\"^GDAXI\",\"^FTSE\",\"^N225\",\"^MXX\",\"^BVSP\"]\n",
    "indexes = yf.download(tickers=tickers, start=\"2025-01-01\", end=\"2025-05-02\")"
   ]
  },
  {
   "cell_type": "code",
   "execution_count": 16,
   "id": "7ea0d8ca",
   "metadata": {},
   "outputs": [
    {
     "data": {
      "text/plain": [
       "pandas.core.frame.DataFrame"
      ]
     },
     "execution_count": 16,
     "metadata": {},
     "output_type": "execute_result"
    }
   ],
   "source": [
    "type(indexes)"
   ]
  },
  {
   "cell_type": "code",
   "execution_count": 17,
   "id": "17374bda",
   "metadata": {},
   "outputs": [
    {
     "data": {
      "text/html": [
       "<div>\n",
       "<style scoped>\n",
       "    .dataframe tbody tr th:only-of-type {\n",
       "        vertical-align: middle;\n",
       "    }\n",
       "\n",
       "    .dataframe tbody tr th {\n",
       "        vertical-align: top;\n",
       "    }\n",
       "\n",
       "    .dataframe thead tr th {\n",
       "        text-align: left;\n",
       "    }\n",
       "\n",
       "    .dataframe thead tr:last-of-type th {\n",
       "        text-align: right;\n",
       "    }\n",
       "</style>\n",
       "<table border=\"1\" class=\"dataframe\">\n",
       "  <thead>\n",
       "    <tr>\n",
       "      <th>Price</th>\n",
       "      <th colspan=\"10\" halign=\"left\">Close</th>\n",
       "      <th>...</th>\n",
       "      <th colspan=\"10\" halign=\"left\">Volume</th>\n",
       "    </tr>\n",
       "    <tr>\n",
       "      <th>Ticker</th>\n",
       "      <th>000001.SS</th>\n",
       "      <th>^AXJO</th>\n",
       "      <th>^BVSP</th>\n",
       "      <th>^FTSE</th>\n",
       "      <th>^GDAXI</th>\n",
       "      <th>^GSPC</th>\n",
       "      <th>^GSPTSE</th>\n",
       "      <th>^HSI</th>\n",
       "      <th>^MXX</th>\n",
       "      <th>^N225</th>\n",
       "      <th>...</th>\n",
       "      <th>^AXJO</th>\n",
       "      <th>^BVSP</th>\n",
       "      <th>^FTSE</th>\n",
       "      <th>^GDAXI</th>\n",
       "      <th>^GSPC</th>\n",
       "      <th>^GSPTSE</th>\n",
       "      <th>^HSI</th>\n",
       "      <th>^MXX</th>\n",
       "      <th>^N225</th>\n",
       "      <th>^NSEI</th>\n",
       "    </tr>\n",
       "    <tr>\n",
       "      <th>Date</th>\n",
       "      <th></th>\n",
       "      <th></th>\n",
       "      <th></th>\n",
       "      <th></th>\n",
       "      <th></th>\n",
       "      <th></th>\n",
       "      <th></th>\n",
       "      <th></th>\n",
       "      <th></th>\n",
       "      <th></th>\n",
       "      <th></th>\n",
       "      <th></th>\n",
       "      <th></th>\n",
       "      <th></th>\n",
       "      <th></th>\n",
       "      <th></th>\n",
       "      <th></th>\n",
       "      <th></th>\n",
       "      <th></th>\n",
       "      <th></th>\n",
       "      <th></th>\n",
       "    </tr>\n",
       "  </thead>\n",
       "  <tbody>\n",
       "    <tr>\n",
       "      <th>2025-01-01</th>\n",
       "      <td>NaN</td>\n",
       "      <td>NaN</td>\n",
       "      <td>NaN</td>\n",
       "      <td>NaN</td>\n",
       "      <td>NaN</td>\n",
       "      <td>NaN</td>\n",
       "      <td>NaN</td>\n",
       "      <td>NaN</td>\n",
       "      <td>NaN</td>\n",
       "      <td>NaN</td>\n",
       "      <td>...</td>\n",
       "      <td>NaN</td>\n",
       "      <td>NaN</td>\n",
       "      <td>NaN</td>\n",
       "      <td>NaN</td>\n",
       "      <td>NaN</td>\n",
       "      <td>NaN</td>\n",
       "      <td>NaN</td>\n",
       "      <td>NaN</td>\n",
       "      <td>NaN</td>\n",
       "      <td>154900.0</td>\n",
       "    </tr>\n",
       "    <tr>\n",
       "      <th>2025-01-02</th>\n",
       "      <td>3262.561035</td>\n",
       "      <td>8201.200195</td>\n",
       "      <td>120125.0</td>\n",
       "      <td>8260.099609</td>\n",
       "      <td>20024.660156</td>\n",
       "      <td>5868.549805</td>\n",
       "      <td>24898.0</td>\n",
       "      <td>19623.320312</td>\n",
       "      <td>49765.199219</td>\n",
       "      <td>NaN</td>\n",
       "      <td>...</td>\n",
       "      <td>304400.0</td>\n",
       "      <td>9373600.0</td>\n",
       "      <td>422219900.0</td>\n",
       "      <td>52445600.0</td>\n",
       "      <td>3.621680e+09</td>\n",
       "      <td>215089400.0</td>\n",
       "      <td>4.033400e+09</td>\n",
       "      <td>87535300.0</td>\n",
       "      <td>NaN</td>\n",
       "      <td>283200.0</td>\n",
       "    </tr>\n",
       "  </tbody>\n",
       "</table>\n",
       "<p>2 rows × 55 columns</p>\n",
       "</div>"
      ],
      "text/plain": [
       "Price             Close                                                    \\\n",
       "Ticker        000001.SS        ^AXJO     ^BVSP        ^FTSE        ^GDAXI   \n",
       "Date                                                                        \n",
       "2025-01-01          NaN          NaN       NaN          NaN           NaN   \n",
       "2025-01-02  3262.561035  8201.200195  120125.0  8260.099609  20024.660156   \n",
       "\n",
       "Price                                                               ...  \\\n",
       "Ticker            ^GSPC  ^GSPTSE          ^HSI          ^MXX ^N225  ...   \n",
       "Date                                                                ...   \n",
       "2025-01-01          NaN      NaN           NaN           NaN   NaN  ...   \n",
       "2025-01-02  5868.549805  24898.0  19623.320312  49765.199219   NaN  ...   \n",
       "\n",
       "Price         Volume                                                    \\\n",
       "Ticker         ^AXJO      ^BVSP        ^FTSE      ^GDAXI         ^GSPC   \n",
       "Date                                                                     \n",
       "2025-01-01       NaN        NaN          NaN         NaN           NaN   \n",
       "2025-01-02  304400.0  9373600.0  422219900.0  52445600.0  3.621680e+09   \n",
       "\n",
       "Price                                                              \n",
       "Ticker          ^GSPTSE          ^HSI        ^MXX ^N225     ^NSEI  \n",
       "Date                                                               \n",
       "2025-01-01          NaN           NaN         NaN   NaN  154900.0  \n",
       "2025-01-02  215089400.0  4.033400e+09  87535300.0   NaN  283200.0  \n",
       "\n",
       "[2 rows x 55 columns]"
      ]
     },
     "execution_count": 17,
     "metadata": {},
     "output_type": "execute_result"
    }
   ],
   "source": [
    "indexes.head(2)"
   ]
  },
  {
   "cell_type": "code",
   "execution_count": 18,
   "id": "04599105",
   "metadata": {},
   "outputs": [
    {
     "data": {
      "text/html": [
       "<div>\n",
       "<style scoped>\n",
       "    .dataframe tbody tr th:only-of-type {\n",
       "        vertical-align: middle;\n",
       "    }\n",
       "\n",
       "    .dataframe tbody tr th {\n",
       "        vertical-align: top;\n",
       "    }\n",
       "\n",
       "    .dataframe thead tr th {\n",
       "        text-align: left;\n",
       "    }\n",
       "\n",
       "    .dataframe thead tr:last-of-type th {\n",
       "        text-align: right;\n",
       "    }\n",
       "</style>\n",
       "<table border=\"1\" class=\"dataframe\">\n",
       "  <thead>\n",
       "    <tr>\n",
       "      <th>Price</th>\n",
       "      <th colspan=\"10\" halign=\"left\">Close</th>\n",
       "      <th>...</th>\n",
       "      <th colspan=\"10\" halign=\"left\">Volume</th>\n",
       "    </tr>\n",
       "    <tr>\n",
       "      <th>Ticker</th>\n",
       "      <th>000001.SS</th>\n",
       "      <th>^AXJO</th>\n",
       "      <th>^BVSP</th>\n",
       "      <th>^FTSE</th>\n",
       "      <th>^GDAXI</th>\n",
       "      <th>^GSPC</th>\n",
       "      <th>^GSPTSE</th>\n",
       "      <th>^HSI</th>\n",
       "      <th>^MXX</th>\n",
       "      <th>^N225</th>\n",
       "      <th>...</th>\n",
       "      <th>^AXJO</th>\n",
       "      <th>^BVSP</th>\n",
       "      <th>^FTSE</th>\n",
       "      <th>^GDAXI</th>\n",
       "      <th>^GSPC</th>\n",
       "      <th>^GSPTSE</th>\n",
       "      <th>^HSI</th>\n",
       "      <th>^MXX</th>\n",
       "      <th>^N225</th>\n",
       "      <th>^NSEI</th>\n",
       "    </tr>\n",
       "    <tr>\n",
       "      <th>Date</th>\n",
       "      <th></th>\n",
       "      <th></th>\n",
       "      <th></th>\n",
       "      <th></th>\n",
       "      <th></th>\n",
       "      <th></th>\n",
       "      <th></th>\n",
       "      <th></th>\n",
       "      <th></th>\n",
       "      <th></th>\n",
       "      <th></th>\n",
       "      <th></th>\n",
       "      <th></th>\n",
       "      <th></th>\n",
       "      <th></th>\n",
       "      <th></th>\n",
       "      <th></th>\n",
       "      <th></th>\n",
       "      <th></th>\n",
       "      <th></th>\n",
       "      <th></th>\n",
       "    </tr>\n",
       "  </thead>\n",
       "  <tbody>\n",
       "    <tr>\n",
       "      <th>2025-04-30</th>\n",
       "      <td>3279.031006</td>\n",
       "      <td>8126.200195</td>\n",
       "      <td>135067.0</td>\n",
       "      <td>8494.900391</td>\n",
       "      <td>22496.980469</td>\n",
       "      <td>5569.060059</td>\n",
       "      <td>24841.699219</td>\n",
       "      <td>22119.410156</td>\n",
       "      <td>56259.28125</td>\n",
       "      <td>36045.378906</td>\n",
       "      <td>...</td>\n",
       "      <td>889500.0</td>\n",
       "      <td>15452400.0</td>\n",
       "      <td>1.589592e+09</td>\n",
       "      <td>99189800.0</td>\n",
       "      <td>5.449490e+09</td>\n",
       "      <td>271264200.0</td>\n",
       "      <td>4.682300e+09</td>\n",
       "      <td>226957400.0</td>\n",
       "      <td>167100000.0</td>\n",
       "      <td>424500.0</td>\n",
       "    </tr>\n",
       "    <tr>\n",
       "      <th>2025-05-01</th>\n",
       "      <td>NaN</td>\n",
       "      <td>8145.600098</td>\n",
       "      <td>NaN</td>\n",
       "      <td>8496.799805</td>\n",
       "      <td>NaN</td>\n",
       "      <td>5604.140137</td>\n",
       "      <td>24795.599609</td>\n",
       "      <td>NaN</td>\n",
       "      <td>NaN</td>\n",
       "      <td>36452.300781</td>\n",
       "      <td>...</td>\n",
       "      <td>676700.0</td>\n",
       "      <td>NaN</td>\n",
       "      <td>5.275688e+08</td>\n",
       "      <td>NaN</td>\n",
       "      <td>4.935270e+09</td>\n",
       "      <td>213319000.0</td>\n",
       "      <td>NaN</td>\n",
       "      <td>NaN</td>\n",
       "      <td>131600000.0</td>\n",
       "      <td>NaN</td>\n",
       "    </tr>\n",
       "  </tbody>\n",
       "</table>\n",
       "<p>2 rows × 55 columns</p>\n",
       "</div>"
      ],
      "text/plain": [
       "Price             Close                                                    \\\n",
       "Ticker        000001.SS        ^AXJO     ^BVSP        ^FTSE        ^GDAXI   \n",
       "Date                                                                        \n",
       "2025-04-30  3279.031006  8126.200195  135067.0  8494.900391  22496.980469   \n",
       "2025-05-01          NaN  8145.600098       NaN  8496.799805           NaN   \n",
       "\n",
       "Price                                                             \\\n",
       "Ticker            ^GSPC       ^GSPTSE          ^HSI         ^MXX   \n",
       "Date                                                               \n",
       "2025-04-30  5569.060059  24841.699219  22119.410156  56259.28125   \n",
       "2025-05-01  5604.140137  24795.599609           NaN          NaN   \n",
       "\n",
       "Price                     ...    Volume                                        \\\n",
       "Ticker             ^N225  ...     ^AXJO       ^BVSP         ^FTSE      ^GDAXI   \n",
       "Date                      ...                                                   \n",
       "2025-04-30  36045.378906  ...  889500.0  15452400.0  1.589592e+09  99189800.0   \n",
       "2025-05-01  36452.300781  ...  676700.0         NaN  5.275688e+08         NaN   \n",
       "\n",
       "Price                                                                          \\\n",
       "Ticker             ^GSPC      ^GSPTSE          ^HSI         ^MXX        ^N225   \n",
       "Date                                                                            \n",
       "2025-04-30  5.449490e+09  271264200.0  4.682300e+09  226957400.0  167100000.0   \n",
       "2025-05-01  4.935270e+09  213319000.0           NaN          NaN  131600000.0   \n",
       "\n",
       "Price                 \n",
       "Ticker         ^NSEI  \n",
       "Date                  \n",
       "2025-04-30  424500.0  \n",
       "2025-05-01       NaN  \n",
       "\n",
       "[2 rows x 55 columns]"
      ]
     },
     "execution_count": 18,
     "metadata": {},
     "output_type": "execute_result"
    }
   ],
   "source": [
    "indexes.tail(2)"
   ]
  },
  {
   "cell_type": "code",
   "execution_count": 19,
   "id": "88e033dd",
   "metadata": {},
   "outputs": [
    {
     "data": {
      "text/plain": [
       "MultiIndex([( 'Close', '000001.SS'),\n",
       "            ( 'Close',     '^AXJO'),\n",
       "            ( 'Close',     '^BVSP'),\n",
       "            ( 'Close',     '^FTSE'),\n",
       "            ( 'Close',    '^GDAXI'),\n",
       "            ( 'Close',     '^GSPC'),\n",
       "            ( 'Close',   '^GSPTSE'),\n",
       "            ( 'Close',      '^HSI'),\n",
       "            ( 'Close',      '^MXX'),\n",
       "            ( 'Close',     '^N225'),\n",
       "            ( 'Close',     '^NSEI'),\n",
       "            (  'High', '000001.SS'),\n",
       "            (  'High',     '^AXJO'),\n",
       "            (  'High',     '^BVSP'),\n",
       "            (  'High',     '^FTSE'),\n",
       "            (  'High',    '^GDAXI'),\n",
       "            (  'High',     '^GSPC'),\n",
       "            (  'High',   '^GSPTSE'),\n",
       "            (  'High',      '^HSI'),\n",
       "            (  'High',      '^MXX'),\n",
       "            (  'High',     '^N225'),\n",
       "            (  'High',     '^NSEI'),\n",
       "            (   'Low', '000001.SS'),\n",
       "            (   'Low',     '^AXJO'),\n",
       "            (   'Low',     '^BVSP'),\n",
       "            (   'Low',     '^FTSE'),\n",
       "            (   'Low',    '^GDAXI'),\n",
       "            (   'Low',     '^GSPC'),\n",
       "            (   'Low',   '^GSPTSE'),\n",
       "            (   'Low',      '^HSI'),\n",
       "            (   'Low',      '^MXX'),\n",
       "            (   'Low',     '^N225'),\n",
       "            (   'Low',     '^NSEI'),\n",
       "            (  'Open', '000001.SS'),\n",
       "            (  'Open',     '^AXJO'),\n",
       "            (  'Open',     '^BVSP'),\n",
       "            (  'Open',     '^FTSE'),\n",
       "            (  'Open',    '^GDAXI'),\n",
       "            (  'Open',     '^GSPC'),\n",
       "            (  'Open',   '^GSPTSE'),\n",
       "            (  'Open',      '^HSI'),\n",
       "            (  'Open',      '^MXX'),\n",
       "            (  'Open',     '^N225'),\n",
       "            (  'Open',     '^NSEI'),\n",
       "            ('Volume', '000001.SS'),\n",
       "            ('Volume',     '^AXJO'),\n",
       "            ('Volume',     '^BVSP'),\n",
       "            ('Volume',     '^FTSE'),\n",
       "            ('Volume',    '^GDAXI'),\n",
       "            ('Volume',     '^GSPC'),\n",
       "            ('Volume',   '^GSPTSE'),\n",
       "            ('Volume',      '^HSI'),\n",
       "            ('Volume',      '^MXX'),\n",
       "            ('Volume',     '^N225'),\n",
       "            ('Volume',     '^NSEI')],\n",
       "           names=['Price', 'Ticker'])"
      ]
     },
     "execution_count": 19,
     "metadata": {},
     "output_type": "execute_result"
    }
   ],
   "source": [
    "indexes.columns"
   ]
  },
  {
   "cell_type": "code",
   "execution_count": 20,
   "id": "17229bcb",
   "metadata": {},
   "outputs": [
    {
     "data": {
      "text/html": [
       "<div>\n",
       "<style scoped>\n",
       "    .dataframe tbody tr th:only-of-type {\n",
       "        vertical-align: middle;\n",
       "    }\n",
       "\n",
       "    .dataframe tbody tr th {\n",
       "        vertical-align: top;\n",
       "    }\n",
       "\n",
       "    .dataframe thead th {\n",
       "        text-align: right;\n",
       "    }\n",
       "</style>\n",
       "<table border=\"1\" class=\"dataframe\">\n",
       "  <thead>\n",
       "    <tr style=\"text-align: right;\">\n",
       "      <th>Ticker</th>\n",
       "      <th>000001.SS</th>\n",
       "      <th>^AXJO</th>\n",
       "      <th>^BVSP</th>\n",
       "      <th>^FTSE</th>\n",
       "      <th>^GDAXI</th>\n",
       "      <th>^GSPC</th>\n",
       "      <th>^GSPTSE</th>\n",
       "      <th>^HSI</th>\n",
       "      <th>^MXX</th>\n",
       "      <th>^N225</th>\n",
       "      <th>^NSEI</th>\n",
       "    </tr>\n",
       "    <tr>\n",
       "      <th>Date</th>\n",
       "      <th></th>\n",
       "      <th></th>\n",
       "      <th></th>\n",
       "      <th></th>\n",
       "      <th></th>\n",
       "      <th></th>\n",
       "      <th></th>\n",
       "      <th></th>\n",
       "      <th></th>\n",
       "      <th></th>\n",
       "      <th></th>\n",
       "    </tr>\n",
       "  </thead>\n",
       "  <tbody>\n",
       "    <tr>\n",
       "      <th>2025-01-01</th>\n",
       "      <td>NaN</td>\n",
       "      <td>NaN</td>\n",
       "      <td>NaN</td>\n",
       "      <td>NaN</td>\n",
       "      <td>NaN</td>\n",
       "      <td>NaN</td>\n",
       "      <td>NaN</td>\n",
       "      <td>NaN</td>\n",
       "      <td>NaN</td>\n",
       "      <td>NaN</td>\n",
       "      <td>23742.900391</td>\n",
       "    </tr>\n",
       "    <tr>\n",
       "      <th>2025-01-02</th>\n",
       "      <td>3262.561035</td>\n",
       "      <td>8201.200195</td>\n",
       "      <td>120125.0</td>\n",
       "      <td>8260.099609</td>\n",
       "      <td>20024.660156</td>\n",
       "      <td>5868.549805</td>\n",
       "      <td>24898.000000</td>\n",
       "      <td>19623.320312</td>\n",
       "      <td>49765.199219</td>\n",
       "      <td>NaN</td>\n",
       "      <td>24188.650391</td>\n",
       "    </tr>\n",
       "    <tr>\n",
       "      <th>2025-01-03</th>\n",
       "      <td>3211.429932</td>\n",
       "      <td>8250.500000</td>\n",
       "      <td>118533.0</td>\n",
       "      <td>8224.000000</td>\n",
       "      <td>19906.080078</td>\n",
       "      <td>5942.470215</td>\n",
       "      <td>25073.500000</td>\n",
       "      <td>19760.269531</td>\n",
       "      <td>48957.238281</td>\n",
       "      <td>NaN</td>\n",
       "      <td>24004.750000</td>\n",
       "    </tr>\n",
       "    <tr>\n",
       "      <th>2025-01-06</th>\n",
       "      <td>3206.923096</td>\n",
       "      <td>8288.500000</td>\n",
       "      <td>120022.0</td>\n",
       "      <td>8249.700195</td>\n",
       "      <td>20216.189453</td>\n",
       "      <td>5975.379883</td>\n",
       "      <td>24999.800781</td>\n",
       "      <td>19688.289062</td>\n",
       "      <td>49493.558594</td>\n",
       "      <td>39307.050781</td>\n",
       "      <td>23616.050781</td>\n",
       "    </tr>\n",
       "    <tr>\n",
       "      <th>2025-01-07</th>\n",
       "      <td>3229.644043</td>\n",
       "      <td>8285.099609</td>\n",
       "      <td>121163.0</td>\n",
       "      <td>8245.299805</td>\n",
       "      <td>20340.570312</td>\n",
       "      <td>5909.029785</td>\n",
       "      <td>24929.900391</td>\n",
       "      <td>19447.580078</td>\n",
       "      <td>50085.500000</td>\n",
       "      <td>40083.300781</td>\n",
       "      <td>23707.900391</td>\n",
       "    </tr>\n",
       "  </tbody>\n",
       "</table>\n",
       "</div>"
      ],
      "text/plain": [
       "Ticker        000001.SS        ^AXJO     ^BVSP        ^FTSE        ^GDAXI  \\\n",
       "Date                                                                        \n",
       "2025-01-01          NaN          NaN       NaN          NaN           NaN   \n",
       "2025-01-02  3262.561035  8201.200195  120125.0  8260.099609  20024.660156   \n",
       "2025-01-03  3211.429932  8250.500000  118533.0  8224.000000  19906.080078   \n",
       "2025-01-06  3206.923096  8288.500000  120022.0  8249.700195  20216.189453   \n",
       "2025-01-07  3229.644043  8285.099609  121163.0  8245.299805  20340.570312   \n",
       "\n",
       "Ticker            ^GSPC       ^GSPTSE          ^HSI          ^MXX  \\\n",
       "Date                                                                \n",
       "2025-01-01          NaN           NaN           NaN           NaN   \n",
       "2025-01-02  5868.549805  24898.000000  19623.320312  49765.199219   \n",
       "2025-01-03  5942.470215  25073.500000  19760.269531  48957.238281   \n",
       "2025-01-06  5975.379883  24999.800781  19688.289062  49493.558594   \n",
       "2025-01-07  5909.029785  24929.900391  19447.580078  50085.500000   \n",
       "\n",
       "Ticker             ^N225         ^NSEI  \n",
       "Date                                    \n",
       "2025-01-01           NaN  23742.900391  \n",
       "2025-01-02           NaN  24188.650391  \n",
       "2025-01-03           NaN  24004.750000  \n",
       "2025-01-06  39307.050781  23616.050781  \n",
       "2025-01-07  40083.300781  23707.900391  "
      ]
     },
     "execution_count": 20,
     "metadata": {},
     "output_type": "execute_result"
    }
   ],
   "source": [
    "indexes[\"Close\"].head()"
   ]
  },
  {
   "cell_type": "code",
   "execution_count": 21,
   "id": "10340b60",
   "metadata": {},
   "outputs": [
    {
     "data": {
      "text/html": [
       "<div>\n",
       "<style scoped>\n",
       "    .dataframe tbody tr th:only-of-type {\n",
       "        vertical-align: middle;\n",
       "    }\n",
       "\n",
       "    .dataframe tbody tr th {\n",
       "        vertical-align: top;\n",
       "    }\n",
       "\n",
       "    .dataframe thead th {\n",
       "        text-align: right;\n",
       "    }\n",
       "</style>\n",
       "<table border=\"1\" class=\"dataframe\">\n",
       "  <thead>\n",
       "    <tr style=\"text-align: right;\">\n",
       "      <th>Ticker</th>\n",
       "      <th>000001.SS</th>\n",
       "      <th>^AXJO</th>\n",
       "      <th>^BVSP</th>\n",
       "      <th>^FTSE</th>\n",
       "      <th>^GDAXI</th>\n",
       "      <th>^GSPC</th>\n",
       "      <th>^GSPTSE</th>\n",
       "      <th>^HSI</th>\n",
       "      <th>^MXX</th>\n",
       "      <th>^N225</th>\n",
       "      <th>^NSEI</th>\n",
       "    </tr>\n",
       "    <tr>\n",
       "      <th>Date</th>\n",
       "      <th></th>\n",
       "      <th></th>\n",
       "      <th></th>\n",
       "      <th></th>\n",
       "      <th></th>\n",
       "      <th></th>\n",
       "      <th></th>\n",
       "      <th></th>\n",
       "      <th></th>\n",
       "      <th></th>\n",
       "      <th></th>\n",
       "    </tr>\n",
       "  </thead>\n",
       "  <tbody>\n",
       "    <tr>\n",
       "      <th>2025-04-25</th>\n",
       "      <td>3295.060059</td>\n",
       "      <td>NaN</td>\n",
       "      <td>134739.0</td>\n",
       "      <td>8415.299805</td>\n",
       "      <td>22242.449219</td>\n",
       "      <td>5525.209961</td>\n",
       "      <td>24710.500000</td>\n",
       "      <td>21980.740234</td>\n",
       "      <td>56720.121094</td>\n",
       "      <td>35705.738281</td>\n",
       "      <td>24039.349609</td>\n",
       "    </tr>\n",
       "    <tr>\n",
       "      <th>2025-04-28</th>\n",
       "      <td>3288.415039</td>\n",
       "      <td>7997.100098</td>\n",
       "      <td>135016.0</td>\n",
       "      <td>8417.299805</td>\n",
       "      <td>22271.669922</td>\n",
       "      <td>5528.750000</td>\n",
       "      <td>24798.599609</td>\n",
       "      <td>21971.960938</td>\n",
       "      <td>56980.128906</td>\n",
       "      <td>35839.988281</td>\n",
       "      <td>24328.500000</td>\n",
       "    </tr>\n",
       "    <tr>\n",
       "      <th>2025-04-29</th>\n",
       "      <td>3286.655029</td>\n",
       "      <td>8070.600098</td>\n",
       "      <td>135093.0</td>\n",
       "      <td>8463.500000</td>\n",
       "      <td>22425.830078</td>\n",
       "      <td>5560.830078</td>\n",
       "      <td>24874.500000</td>\n",
       "      <td>22008.109375</td>\n",
       "      <td>55613.429688</td>\n",
       "      <td>NaN</td>\n",
       "      <td>24335.949219</td>\n",
       "    </tr>\n",
       "    <tr>\n",
       "      <th>2025-04-30</th>\n",
       "      <td>3279.031006</td>\n",
       "      <td>8126.200195</td>\n",
       "      <td>135067.0</td>\n",
       "      <td>8494.900391</td>\n",
       "      <td>22496.980469</td>\n",
       "      <td>5569.060059</td>\n",
       "      <td>24841.699219</td>\n",
       "      <td>22119.410156</td>\n",
       "      <td>56259.281250</td>\n",
       "      <td>36045.378906</td>\n",
       "      <td>24334.199219</td>\n",
       "    </tr>\n",
       "    <tr>\n",
       "      <th>2025-05-01</th>\n",
       "      <td>NaN</td>\n",
       "      <td>8145.600098</td>\n",
       "      <td>NaN</td>\n",
       "      <td>8496.799805</td>\n",
       "      <td>NaN</td>\n",
       "      <td>5604.140137</td>\n",
       "      <td>24795.599609</td>\n",
       "      <td>NaN</td>\n",
       "      <td>NaN</td>\n",
       "      <td>36452.300781</td>\n",
       "      <td>NaN</td>\n",
       "    </tr>\n",
       "  </tbody>\n",
       "</table>\n",
       "</div>"
      ],
      "text/plain": [
       "Ticker        000001.SS        ^AXJO     ^BVSP        ^FTSE        ^GDAXI  \\\n",
       "Date                                                                        \n",
       "2025-04-25  3295.060059          NaN  134739.0  8415.299805  22242.449219   \n",
       "2025-04-28  3288.415039  7997.100098  135016.0  8417.299805  22271.669922   \n",
       "2025-04-29  3286.655029  8070.600098  135093.0  8463.500000  22425.830078   \n",
       "2025-04-30  3279.031006  8126.200195  135067.0  8494.900391  22496.980469   \n",
       "2025-05-01          NaN  8145.600098       NaN  8496.799805           NaN   \n",
       "\n",
       "Ticker            ^GSPC       ^GSPTSE          ^HSI          ^MXX  \\\n",
       "Date                                                                \n",
       "2025-04-25  5525.209961  24710.500000  21980.740234  56720.121094   \n",
       "2025-04-28  5528.750000  24798.599609  21971.960938  56980.128906   \n",
       "2025-04-29  5560.830078  24874.500000  22008.109375  55613.429688   \n",
       "2025-04-30  5569.060059  24841.699219  22119.410156  56259.281250   \n",
       "2025-05-01  5604.140137  24795.599609           NaN           NaN   \n",
       "\n",
       "Ticker             ^N225         ^NSEI  \n",
       "Date                                    \n",
       "2025-04-25  35705.738281  24039.349609  \n",
       "2025-04-28  35839.988281  24328.500000  \n",
       "2025-04-29           NaN  24335.949219  \n",
       "2025-04-30  36045.378906  24334.199219  \n",
       "2025-05-01  36452.300781           NaN  "
      ]
     },
     "execution_count": 21,
     "metadata": {},
     "output_type": "execute_result"
    }
   ],
   "source": [
    "indexes[\"Close\"].tail()"
   ]
  },
  {
   "cell_type": "code",
   "execution_count": 22,
   "id": "84265632",
   "metadata": {},
   "outputs": [],
   "source": [
    "close_indexes = indexes[\"Close\"]"
   ]
  },
  {
   "cell_type": "code",
   "execution_count": 23,
   "id": "9d90b421",
   "metadata": {},
   "outputs": [
    {
     "data": {
      "text/html": [
       "<div>\n",
       "<style scoped>\n",
       "    .dataframe tbody tr th:only-of-type {\n",
       "        vertical-align: middle;\n",
       "    }\n",
       "\n",
       "    .dataframe tbody tr th {\n",
       "        vertical-align: top;\n",
       "    }\n",
       "\n",
       "    .dataframe thead th {\n",
       "        text-align: right;\n",
       "    }\n",
       "</style>\n",
       "<table border=\"1\" class=\"dataframe\">\n",
       "  <thead>\n",
       "    <tr style=\"text-align: right;\">\n",
       "      <th>Ticker</th>\n",
       "      <th>000001.SS</th>\n",
       "      <th>^AXJO</th>\n",
       "      <th>^BVSP</th>\n",
       "      <th>^FTSE</th>\n",
       "      <th>^GDAXI</th>\n",
       "      <th>^GSPC</th>\n",
       "      <th>^GSPTSE</th>\n",
       "      <th>^HSI</th>\n",
       "      <th>^MXX</th>\n",
       "      <th>^N225</th>\n",
       "      <th>^NSEI</th>\n",
       "    </tr>\n",
       "    <tr>\n",
       "      <th>Date</th>\n",
       "      <th></th>\n",
       "      <th></th>\n",
       "      <th></th>\n",
       "      <th></th>\n",
       "      <th></th>\n",
       "      <th></th>\n",
       "      <th></th>\n",
       "      <th></th>\n",
       "      <th></th>\n",
       "      <th></th>\n",
       "      <th></th>\n",
       "    </tr>\n",
       "  </thead>\n",
       "  <tbody>\n",
       "    <tr>\n",
       "      <th>2025-01-01</th>\n",
       "      <td>NaN</td>\n",
       "      <td>NaN</td>\n",
       "      <td>NaN</td>\n",
       "      <td>NaN</td>\n",
       "      <td>NaN</td>\n",
       "      <td>NaN</td>\n",
       "      <td>NaN</td>\n",
       "      <td>NaN</td>\n",
       "      <td>NaN</td>\n",
       "      <td>NaN</td>\n",
       "      <td>23742.900391</td>\n",
       "    </tr>\n",
       "    <tr>\n",
       "      <th>2025-01-02</th>\n",
       "      <td>3262.561035</td>\n",
       "      <td>8201.200195</td>\n",
       "      <td>120125.0</td>\n",
       "      <td>8260.099609</td>\n",
       "      <td>20024.660156</td>\n",
       "      <td>5868.549805</td>\n",
       "      <td>24898.000000</td>\n",
       "      <td>19623.320312</td>\n",
       "      <td>49765.199219</td>\n",
       "      <td>NaN</td>\n",
       "      <td>24188.650391</td>\n",
       "    </tr>\n",
       "    <tr>\n",
       "      <th>2025-01-03</th>\n",
       "      <td>3211.429932</td>\n",
       "      <td>8250.500000</td>\n",
       "      <td>118533.0</td>\n",
       "      <td>8224.000000</td>\n",
       "      <td>19906.080078</td>\n",
       "      <td>5942.470215</td>\n",
       "      <td>25073.500000</td>\n",
       "      <td>19760.269531</td>\n",
       "      <td>48957.238281</td>\n",
       "      <td>NaN</td>\n",
       "      <td>24004.750000</td>\n",
       "    </tr>\n",
       "    <tr>\n",
       "      <th>2025-01-06</th>\n",
       "      <td>3206.923096</td>\n",
       "      <td>8288.500000</td>\n",
       "      <td>120022.0</td>\n",
       "      <td>8249.700195</td>\n",
       "      <td>20216.189453</td>\n",
       "      <td>5975.379883</td>\n",
       "      <td>24999.800781</td>\n",
       "      <td>19688.289062</td>\n",
       "      <td>49493.558594</td>\n",
       "      <td>39307.050781</td>\n",
       "      <td>23616.050781</td>\n",
       "    </tr>\n",
       "    <tr>\n",
       "      <th>2025-01-07</th>\n",
       "      <td>3229.644043</td>\n",
       "      <td>8285.099609</td>\n",
       "      <td>121163.0</td>\n",
       "      <td>8245.299805</td>\n",
       "      <td>20340.570312</td>\n",
       "      <td>5909.029785</td>\n",
       "      <td>24929.900391</td>\n",
       "      <td>19447.580078</td>\n",
       "      <td>50085.500000</td>\n",
       "      <td>40083.300781</td>\n",
       "      <td>23707.900391</td>\n",
       "    </tr>\n",
       "    <tr>\n",
       "      <th>...</th>\n",
       "      <td>...</td>\n",
       "      <td>...</td>\n",
       "      <td>...</td>\n",
       "      <td>...</td>\n",
       "      <td>...</td>\n",
       "      <td>...</td>\n",
       "      <td>...</td>\n",
       "      <td>...</td>\n",
       "      <td>...</td>\n",
       "      <td>...</td>\n",
       "      <td>...</td>\n",
       "    </tr>\n",
       "    <tr>\n",
       "      <th>2025-04-25</th>\n",
       "      <td>3295.060059</td>\n",
       "      <td>NaN</td>\n",
       "      <td>134739.0</td>\n",
       "      <td>8415.299805</td>\n",
       "      <td>22242.449219</td>\n",
       "      <td>5525.209961</td>\n",
       "      <td>24710.500000</td>\n",
       "      <td>21980.740234</td>\n",
       "      <td>56720.121094</td>\n",
       "      <td>35705.738281</td>\n",
       "      <td>24039.349609</td>\n",
       "    </tr>\n",
       "    <tr>\n",
       "      <th>2025-04-28</th>\n",
       "      <td>3288.415039</td>\n",
       "      <td>7997.100098</td>\n",
       "      <td>135016.0</td>\n",
       "      <td>8417.299805</td>\n",
       "      <td>22271.669922</td>\n",
       "      <td>5528.750000</td>\n",
       "      <td>24798.599609</td>\n",
       "      <td>21971.960938</td>\n",
       "      <td>56980.128906</td>\n",
       "      <td>35839.988281</td>\n",
       "      <td>24328.500000</td>\n",
       "    </tr>\n",
       "    <tr>\n",
       "      <th>2025-04-29</th>\n",
       "      <td>3286.655029</td>\n",
       "      <td>8070.600098</td>\n",
       "      <td>135093.0</td>\n",
       "      <td>8463.500000</td>\n",
       "      <td>22425.830078</td>\n",
       "      <td>5560.830078</td>\n",
       "      <td>24874.500000</td>\n",
       "      <td>22008.109375</td>\n",
       "      <td>55613.429688</td>\n",
       "      <td>NaN</td>\n",
       "      <td>24335.949219</td>\n",
       "    </tr>\n",
       "    <tr>\n",
       "      <th>2025-04-30</th>\n",
       "      <td>3279.031006</td>\n",
       "      <td>8126.200195</td>\n",
       "      <td>135067.0</td>\n",
       "      <td>8494.900391</td>\n",
       "      <td>22496.980469</td>\n",
       "      <td>5569.060059</td>\n",
       "      <td>24841.699219</td>\n",
       "      <td>22119.410156</td>\n",
       "      <td>56259.281250</td>\n",
       "      <td>36045.378906</td>\n",
       "      <td>24334.199219</td>\n",
       "    </tr>\n",
       "    <tr>\n",
       "      <th>2025-05-01</th>\n",
       "      <td>NaN</td>\n",
       "      <td>8145.600098</td>\n",
       "      <td>NaN</td>\n",
       "      <td>8496.799805</td>\n",
       "      <td>NaN</td>\n",
       "      <td>5604.140137</td>\n",
       "      <td>24795.599609</td>\n",
       "      <td>NaN</td>\n",
       "      <td>NaN</td>\n",
       "      <td>36452.300781</td>\n",
       "      <td>NaN</td>\n",
       "    </tr>\n",
       "  </tbody>\n",
       "</table>\n",
       "<p>87 rows × 11 columns</p>\n",
       "</div>"
      ],
      "text/plain": [
       "Ticker        000001.SS        ^AXJO     ^BVSP        ^FTSE        ^GDAXI  \\\n",
       "Date                                                                        \n",
       "2025-01-01          NaN          NaN       NaN          NaN           NaN   \n",
       "2025-01-02  3262.561035  8201.200195  120125.0  8260.099609  20024.660156   \n",
       "2025-01-03  3211.429932  8250.500000  118533.0  8224.000000  19906.080078   \n",
       "2025-01-06  3206.923096  8288.500000  120022.0  8249.700195  20216.189453   \n",
       "2025-01-07  3229.644043  8285.099609  121163.0  8245.299805  20340.570312   \n",
       "...                 ...          ...       ...          ...           ...   \n",
       "2025-04-25  3295.060059          NaN  134739.0  8415.299805  22242.449219   \n",
       "2025-04-28  3288.415039  7997.100098  135016.0  8417.299805  22271.669922   \n",
       "2025-04-29  3286.655029  8070.600098  135093.0  8463.500000  22425.830078   \n",
       "2025-04-30  3279.031006  8126.200195  135067.0  8494.900391  22496.980469   \n",
       "2025-05-01          NaN  8145.600098       NaN  8496.799805           NaN   \n",
       "\n",
       "Ticker            ^GSPC       ^GSPTSE          ^HSI          ^MXX  \\\n",
       "Date                                                                \n",
       "2025-01-01          NaN           NaN           NaN           NaN   \n",
       "2025-01-02  5868.549805  24898.000000  19623.320312  49765.199219   \n",
       "2025-01-03  5942.470215  25073.500000  19760.269531  48957.238281   \n",
       "2025-01-06  5975.379883  24999.800781  19688.289062  49493.558594   \n",
       "2025-01-07  5909.029785  24929.900391  19447.580078  50085.500000   \n",
       "...                 ...           ...           ...           ...   \n",
       "2025-04-25  5525.209961  24710.500000  21980.740234  56720.121094   \n",
       "2025-04-28  5528.750000  24798.599609  21971.960938  56980.128906   \n",
       "2025-04-29  5560.830078  24874.500000  22008.109375  55613.429688   \n",
       "2025-04-30  5569.060059  24841.699219  22119.410156  56259.281250   \n",
       "2025-05-01  5604.140137  24795.599609           NaN           NaN   \n",
       "\n",
       "Ticker             ^N225         ^NSEI  \n",
       "Date                                    \n",
       "2025-01-01           NaN  23742.900391  \n",
       "2025-01-02           NaN  24188.650391  \n",
       "2025-01-03           NaN  24004.750000  \n",
       "2025-01-06  39307.050781  23616.050781  \n",
       "2025-01-07  40083.300781  23707.900391  \n",
       "...                  ...           ...  \n",
       "2025-04-25  35705.738281  24039.349609  \n",
       "2025-04-28  35839.988281  24328.500000  \n",
       "2025-04-29           NaN  24335.949219  \n",
       "2025-04-30  36045.378906  24334.199219  \n",
       "2025-05-01  36452.300781           NaN  \n",
       "\n",
       "[87 rows x 11 columns]"
      ]
     },
     "execution_count": 23,
     "metadata": {},
     "output_type": "execute_result"
    }
   ],
   "source": [
    "close_indexes"
   ]
  },
  {
   "cell_type": "code",
   "execution_count": 24,
   "id": "12e5eb83",
   "metadata": {},
   "outputs": [],
   "source": [
    "jan_may = {}\n",
    "\n",
    "for ticker in tickers:\n",
    "    start_price = close_indexes[ticker].dropna().iloc[0]\n",
    "    end_price = close_indexes[ticker].dropna().iloc[-1]\n",
    "    ytd = ((end_price / start_price)-1)*100\n",
    "    jan_may[ticker] = np.round(ytd,2)"
   ]
  },
  {
   "cell_type": "code",
   "execution_count": 25,
   "id": "7f51fc2a",
   "metadata": {},
   "outputs": [
    {
     "data": {
      "text/plain": [
       "{'^GSPC': np.float64(-4.51),\n",
       " '000001.SS': np.float64(0.5),\n",
       " '^HSI': np.float64(12.72),\n",
       " '^AXJO': np.float64(-0.68),\n",
       " '^NSEI': np.float64(2.49),\n",
       " '^GSPTSE': np.float64(-0.41),\n",
       " '^GDAXI': np.float64(12.35),\n",
       " '^FTSE': np.float64(2.87),\n",
       " '^N225': np.float64(-7.26),\n",
       " '^MXX': np.float64(13.05),\n",
       " '^BVSP': np.float64(12.44)}"
      ]
     },
     "execution_count": 25,
     "metadata": {},
     "output_type": "execute_result"
    }
   ],
   "source": [
    "jan_may"
   ]
  },
  {
   "cell_type": "code",
   "execution_count": 26,
   "id": "a5a28db4",
   "metadata": {},
   "outputs": [
    {
     "name": "stdout",
     "output_type": "stream",
     "text": [
      "There are 9 indexes out of 10 that have better year-to-date returns than the US (S&P 500) as of May 1, 2025\n"
     ]
    }
   ],
   "source": [
    "print(f\"There are 9 indexes out of 10 that have better year-to-date returns than the US (S&P 500) as of May 1, 2025\")"
   ]
  },
  {
   "cell_type": "markdown",
   "id": "b139d6c1",
   "metadata": {},
   "source": [
    "### Question 3. [Index] S&P 500 Market Corrections Analysis\n",
    "\n",
    "\n",
    "**Calculate the median duration (in days) of significant market corrections in the S&P 500 index.**\n",
    "\n",
    "For this task, define a correction as an event when a stock index goes down by **more than 5%** from the closest all-time high maximum.\n",
    "\n",
    "Steps:\n",
    "1. Download S&P 500 historical data (1950-present) using yfinance\n",
    "2. Identify all-time high points (where price exceeds all previous prices)\n",
    "3. For each pair of consecutive all-time highs, find the minimum price in between\n",
    "4. Calculate drawdown percentages: (high - low) / high × 100\n",
    "5. Filter for corrections with at least 5% drawdown\n",
    "6. Calculate the duration in days for each correction period\n",
    "7. Determine the 25th, 50th (median), and 75th percentiles for correction durations\n",
    "\n",
    "*Context:* \n",
    "> * Investors often wonder about the typical length of market corrections when deciding \"when to buy the dip\" ([Reddit discussion](https://www.reddit.com/r/investing/comments/1jrqnte/when_are_you_buying_the_dip/?rdt=64135)).\n",
    "\n",
    "> * [A Wealth of Common Sense - How Often Should You Expect a Stock Market Correction?](https://awealthofcommonsense.com/2022/01/how-often-should-you-expect-a-stock-market-correction/)\n",
    "\n",
    "*Hint (use this data to compare with your results)*: Here is the list of top 10 largest corrections by drawdown:\n",
    "* 2007-10-09 to 2009-03-09: 56.8% drawdown over 517 days\n",
    "* 2000-03-24 to 2002-10-09: 49.1% drawdown over 929 days\n",
    "* 1973-01-11 to 1974-10-03: 48.2% drawdown over 630 days\n",
    "* 1968-11-29 to 1970-05-26: 36.1% drawdown over 543 days\n",
    "* 2020-02-19 to 2020-03-23: 33.9% drawdown over 33 days\n",
    "* 1987-08-25 to 1987-12-04: 33.5% drawdown over 101 days\n",
    "* 1961-12-12 to 1962-06-26: 28.0% drawdown over 196 days\n",
    "* 1980-11-28 to 1982-08-12: 27.1% drawdown over 622 days\n",
    "* 2022-01-03 to 2022-10-12: 25.4% drawdown over 282 days\n",
    "* 1966-02-09 to 1966-10-07: 22.2% drawdown over 240 days"
   ]
  },
  {
   "cell_type": "code",
   "execution_count": 27,
   "id": "aa033bbf",
   "metadata": {},
   "outputs": [],
   "source": [
    "start_q3 = date(year=1950, month=1, day=1)"
   ]
  },
  {
   "cell_type": "code",
   "execution_count": 28,
   "id": "f8ad246e",
   "metadata": {},
   "outputs": [],
   "source": [
    "sp_obj = yf.Ticker(\"^GSPC\")\n",
    "sp_500_q3 = sp_obj.history(start=start_q3)"
   ]
  },
  {
   "cell_type": "code",
   "execution_count": 29,
   "id": "59e48d83",
   "metadata": {},
   "outputs": [
    {
     "data": {
      "text/html": [
       "<div>\n",
       "<style scoped>\n",
       "    .dataframe tbody tr th:only-of-type {\n",
       "        vertical-align: middle;\n",
       "    }\n",
       "\n",
       "    .dataframe tbody tr th {\n",
       "        vertical-align: top;\n",
       "    }\n",
       "\n",
       "    .dataframe thead th {\n",
       "        text-align: right;\n",
       "    }\n",
       "</style>\n",
       "<table border=\"1\" class=\"dataframe\">\n",
       "  <thead>\n",
       "    <tr style=\"text-align: right;\">\n",
       "      <th></th>\n",
       "      <th>Open</th>\n",
       "      <th>High</th>\n",
       "      <th>Low</th>\n",
       "      <th>Close</th>\n",
       "      <th>Volume</th>\n",
       "      <th>Dividends</th>\n",
       "      <th>Stock Splits</th>\n",
       "    </tr>\n",
       "    <tr>\n",
       "      <th>Date</th>\n",
       "      <th></th>\n",
       "      <th></th>\n",
       "      <th></th>\n",
       "      <th></th>\n",
       "      <th></th>\n",
       "      <th></th>\n",
       "      <th></th>\n",
       "    </tr>\n",
       "  </thead>\n",
       "  <tbody>\n",
       "    <tr>\n",
       "      <th>1950-01-03 00:00:00-05:00</th>\n",
       "      <td>16.66</td>\n",
       "      <td>16.66</td>\n",
       "      <td>16.66</td>\n",
       "      <td>16.66</td>\n",
       "      <td>1260000</td>\n",
       "      <td>0.0</td>\n",
       "      <td>0.0</td>\n",
       "    </tr>\n",
       "    <tr>\n",
       "      <th>1950-01-04 00:00:00-05:00</th>\n",
       "      <td>16.85</td>\n",
       "      <td>16.85</td>\n",
       "      <td>16.85</td>\n",
       "      <td>16.85</td>\n",
       "      <td>1890000</td>\n",
       "      <td>0.0</td>\n",
       "      <td>0.0</td>\n",
       "    </tr>\n",
       "    <tr>\n",
       "      <th>1950-01-05 00:00:00-05:00</th>\n",
       "      <td>16.93</td>\n",
       "      <td>16.93</td>\n",
       "      <td>16.93</td>\n",
       "      <td>16.93</td>\n",
       "      <td>2550000</td>\n",
       "      <td>0.0</td>\n",
       "      <td>0.0</td>\n",
       "    </tr>\n",
       "    <tr>\n",
       "      <th>1950-01-06 00:00:00-05:00</th>\n",
       "      <td>16.98</td>\n",
       "      <td>16.98</td>\n",
       "      <td>16.98</td>\n",
       "      <td>16.98</td>\n",
       "      <td>2010000</td>\n",
       "      <td>0.0</td>\n",
       "      <td>0.0</td>\n",
       "    </tr>\n",
       "    <tr>\n",
       "      <th>1950-01-09 00:00:00-05:00</th>\n",
       "      <td>17.08</td>\n",
       "      <td>17.08</td>\n",
       "      <td>17.08</td>\n",
       "      <td>17.08</td>\n",
       "      <td>2520000</td>\n",
       "      <td>0.0</td>\n",
       "      <td>0.0</td>\n",
       "    </tr>\n",
       "  </tbody>\n",
       "</table>\n",
       "</div>"
      ],
      "text/plain": [
       "                            Open   High    Low  Close   Volume  Dividends  \\\n",
       "Date                                                                        \n",
       "1950-01-03 00:00:00-05:00  16.66  16.66  16.66  16.66  1260000        0.0   \n",
       "1950-01-04 00:00:00-05:00  16.85  16.85  16.85  16.85  1890000        0.0   \n",
       "1950-01-05 00:00:00-05:00  16.93  16.93  16.93  16.93  2550000        0.0   \n",
       "1950-01-06 00:00:00-05:00  16.98  16.98  16.98  16.98  2010000        0.0   \n",
       "1950-01-09 00:00:00-05:00  17.08  17.08  17.08  17.08  2520000        0.0   \n",
       "\n",
       "                           Stock Splits  \n",
       "Date                                     \n",
       "1950-01-03 00:00:00-05:00           0.0  \n",
       "1950-01-04 00:00:00-05:00           0.0  \n",
       "1950-01-05 00:00:00-05:00           0.0  \n",
       "1950-01-06 00:00:00-05:00           0.0  \n",
       "1950-01-09 00:00:00-05:00           0.0  "
      ]
     },
     "execution_count": 29,
     "metadata": {},
     "output_type": "execute_result"
    }
   ],
   "source": [
    "sp_500_q3.head()"
   ]
  },
  {
   "cell_type": "code",
   "execution_count": 30,
   "id": "7cabe6ea",
   "metadata": {},
   "outputs": [
    {
     "data": {
      "text/plain": [
       "18977"
      ]
     },
     "execution_count": 30,
     "metadata": {},
     "output_type": "execute_result"
    }
   ],
   "source": [
    "len(sp_500_q3['Close'])"
   ]
  },
  {
   "cell_type": "markdown",
   "id": "c130f259",
   "metadata": {},
   "source": [
    "#change the data type of the index\n",
    "sp_500_q3.index = pd.to_datetime(sp_500_q3.index, format=\"%Y-%m-%d\")"
   ]
  },
  {
   "cell_type": "code",
   "execution_count": 31,
   "id": "48d98470",
   "metadata": {},
   "outputs": [],
   "source": [
    "def rolling_ath(df: pd.DataFrame, price_column: str = 'Close', date_column: str = None) -> pd.DataFrame:\n",
    "    \"\"\"\n",
    "    Enhanced pandas function to identify new ATH points with additional metrics.\n",
    "    \n",
    "    Args:\n",
    "        df: DataFrame with stock data\n",
    "        price_column: Column name for prices\n",
    "        date_column: Column name for dates (None if date is the index)\n",
    "    \n",
    "    Returns:\n",
    "        DataFrame with rolling ATH and new ATH indicators\n",
    "    \"\"\"\n",
    "    result_df = df.copy()\n",
    "    \n",
    "    # Calculate rolling maximum (ATH at each point)\n",
    "    result_df['rolling_ath'] = df[price_column].cummax()\n",
    "    \n",
    "    # Flag new ATH points\n",
    "    result_df['is_new_ath'] = df[price_column] == result_df['rolling_ath']\n",
    "    \n",
    "    # Remove consecutive duplicate ATH flags (keep only the first occurrence)\n",
    "    result_df['is_new_ath'] = result_df['is_new_ath'] & (result_df['rolling_ath'] != result_df['rolling_ath'].shift(1))\n",
    "    \n",
    "    # Calculate days/periods since last ATH\n",
    "    result_df['periods_since_ath'] = 0\n",
    "    \n",
    "    # If date is in index and it's a DatetimeIndex, calculate actual days\n",
    "    if date_column is None and isinstance(result_df.index, pd.DatetimeIndex):\n",
    "        ath_mask = result_df['is_new_ath']\n",
    "        ath_dates = result_df.index[ath_mask]\n",
    "        \n",
    "        for i, current_date in enumerate(result_df.index):\n",
    "            if result_df.iloc[i]['is_new_ath']:\n",
    "                result_df.iloc[i, result_df.columns.get_loc('periods_since_ath')] = 0\n",
    "            else:\n",
    "                # Find the most recent ATH date before current date\n",
    "                recent_ath_dates = ath_dates[ath_dates < current_date]\n",
    "                if len(recent_ath_dates) > 0:\n",
    "                    last_ath_date = recent_ath_dates[-1]\n",
    "                    days_diff = (current_date - last_ath_date).days\n",
    "                    result_df.iloc[i, result_df.columns.get_loc('periods_since_ath')] = days_diff\n",
    "                else:\n",
    "                    # No previous ATH found, use position-based counting\n",
    "                    result_df.iloc[i, result_df.columns.get_loc('periods_since_ath')] = i\n",
    "    \n",
    "    # If date is a column or index is not datetime, use position-based counting\n",
    "    else:\n",
    "        for i in range(len(result_df)):\n",
    "            if result_df.iloc[i]['is_new_ath']:\n",
    "                result_df.iloc[i, result_df.columns.get_loc('periods_since_ath')] = 0\n",
    "            elif i > 0:\n",
    "                result_df.iloc[i, result_df.columns.get_loc('periods_since_ath')] = \\\n",
    "                    result_df.iloc[i-1]['periods_since_ath'] + 1\n",
    "    \n",
    "    return result_df\n"
   ]
  },
  {
   "cell_type": "code",
   "execution_count": 32,
   "id": "3ab525b8",
   "metadata": {},
   "outputs": [
    {
     "data": {
      "text/html": [
       "<div>\n",
       "<style scoped>\n",
       "    .dataframe tbody tr th:only-of-type {\n",
       "        vertical-align: middle;\n",
       "    }\n",
       "\n",
       "    .dataframe tbody tr th {\n",
       "        vertical-align: top;\n",
       "    }\n",
       "\n",
       "    .dataframe thead th {\n",
       "        text-align: right;\n",
       "    }\n",
       "</style>\n",
       "<table border=\"1\" class=\"dataframe\">\n",
       "  <thead>\n",
       "    <tr style=\"text-align: right;\">\n",
       "      <th></th>\n",
       "      <th>Open</th>\n",
       "      <th>High</th>\n",
       "      <th>Low</th>\n",
       "      <th>Close</th>\n",
       "      <th>Volume</th>\n",
       "      <th>Dividends</th>\n",
       "      <th>Stock Splits</th>\n",
       "      <th>rolling_ath</th>\n",
       "      <th>is_new_ath</th>\n",
       "      <th>periods_since_ath</th>\n",
       "    </tr>\n",
       "    <tr>\n",
       "      <th>Date</th>\n",
       "      <th></th>\n",
       "      <th></th>\n",
       "      <th></th>\n",
       "      <th></th>\n",
       "      <th></th>\n",
       "      <th></th>\n",
       "      <th></th>\n",
       "      <th></th>\n",
       "      <th></th>\n",
       "      <th></th>\n",
       "    </tr>\n",
       "  </thead>\n",
       "  <tbody>\n",
       "    <tr>\n",
       "      <th>1950-01-03 00:00:00-05:00</th>\n",
       "      <td>16.66</td>\n",
       "      <td>16.66</td>\n",
       "      <td>16.66</td>\n",
       "      <td>16.66</td>\n",
       "      <td>1260000</td>\n",
       "      <td>0.0</td>\n",
       "      <td>0.0</td>\n",
       "      <td>16.66</td>\n",
       "      <td>True</td>\n",
       "      <td>0</td>\n",
       "    </tr>\n",
       "    <tr>\n",
       "      <th>1950-01-04 00:00:00-05:00</th>\n",
       "      <td>16.85</td>\n",
       "      <td>16.85</td>\n",
       "      <td>16.85</td>\n",
       "      <td>16.85</td>\n",
       "      <td>1890000</td>\n",
       "      <td>0.0</td>\n",
       "      <td>0.0</td>\n",
       "      <td>16.85</td>\n",
       "      <td>True</td>\n",
       "      <td>0</td>\n",
       "    </tr>\n",
       "    <tr>\n",
       "      <th>1950-01-05 00:00:00-05:00</th>\n",
       "      <td>16.93</td>\n",
       "      <td>16.93</td>\n",
       "      <td>16.93</td>\n",
       "      <td>16.93</td>\n",
       "      <td>2550000</td>\n",
       "      <td>0.0</td>\n",
       "      <td>0.0</td>\n",
       "      <td>16.93</td>\n",
       "      <td>True</td>\n",
       "      <td>0</td>\n",
       "    </tr>\n",
       "    <tr>\n",
       "      <th>1950-01-06 00:00:00-05:00</th>\n",
       "      <td>16.98</td>\n",
       "      <td>16.98</td>\n",
       "      <td>16.98</td>\n",
       "      <td>16.98</td>\n",
       "      <td>2010000</td>\n",
       "      <td>0.0</td>\n",
       "      <td>0.0</td>\n",
       "      <td>16.98</td>\n",
       "      <td>True</td>\n",
       "      <td>0</td>\n",
       "    </tr>\n",
       "    <tr>\n",
       "      <th>1950-01-09 00:00:00-05:00</th>\n",
       "      <td>17.08</td>\n",
       "      <td>17.08</td>\n",
       "      <td>17.08</td>\n",
       "      <td>17.08</td>\n",
       "      <td>2520000</td>\n",
       "      <td>0.0</td>\n",
       "      <td>0.0</td>\n",
       "      <td>17.08</td>\n",
       "      <td>True</td>\n",
       "      <td>0</td>\n",
       "    </tr>\n",
       "  </tbody>\n",
       "</table>\n",
       "</div>"
      ],
      "text/plain": [
       "                            Open   High    Low  Close   Volume  Dividends  \\\n",
       "Date                                                                        \n",
       "1950-01-03 00:00:00-05:00  16.66  16.66  16.66  16.66  1260000        0.0   \n",
       "1950-01-04 00:00:00-05:00  16.85  16.85  16.85  16.85  1890000        0.0   \n",
       "1950-01-05 00:00:00-05:00  16.93  16.93  16.93  16.93  2550000        0.0   \n",
       "1950-01-06 00:00:00-05:00  16.98  16.98  16.98  16.98  2010000        0.0   \n",
       "1950-01-09 00:00:00-05:00  17.08  17.08  17.08  17.08  2520000        0.0   \n",
       "\n",
       "                           Stock Splits  rolling_ath  is_new_ath  \\\n",
       "Date                                                               \n",
       "1950-01-03 00:00:00-05:00           0.0        16.66        True   \n",
       "1950-01-04 00:00:00-05:00           0.0        16.85        True   \n",
       "1950-01-05 00:00:00-05:00           0.0        16.93        True   \n",
       "1950-01-06 00:00:00-05:00           0.0        16.98        True   \n",
       "1950-01-09 00:00:00-05:00           0.0        17.08        True   \n",
       "\n",
       "                           periods_since_ath  \n",
       "Date                                          \n",
       "1950-01-03 00:00:00-05:00                  0  \n",
       "1950-01-04 00:00:00-05:00                  0  \n",
       "1950-01-05 00:00:00-05:00                  0  \n",
       "1950-01-06 00:00:00-05:00                  0  \n",
       "1950-01-09 00:00:00-05:00                  0  "
      ]
     },
     "execution_count": 32,
     "metadata": {},
     "output_type": "execute_result"
    }
   ],
   "source": [
    "rolling_ath(sp_500_q3).head()"
   ]
  },
  {
   "cell_type": "code",
   "execution_count": 33,
   "id": "f2ccc390",
   "metadata": {},
   "outputs": [],
   "source": [
    "def find_troughs_between_aths(df: pd.DataFrame, price_column: str = 'Close') -> pd.DataFrame:\n",
    "    \"\"\"\n",
    "    Find the lowest points (troughs) between each all-time high.\n",
    "    \n",
    "    Args:\n",
    "        df: DataFrame with stock data (date as index or column)\n",
    "        price_column: Column name for prices\n",
    "    \n",
    "    Returns:\n",
    "        DataFrame with ATH points and corresponding troughs between them\n",
    "    \"\"\"\n",
    "    # First get the ATH analysis\n",
    "    ath_df = rolling_ath(df, price_column)\n",
    "    \n",
    "    # Get indices where new ATHs occur\n",
    "    ath_indices = ath_df[ath_df['is_new_ath']].index.tolist()\n",
    "    \n",
    "    if len(ath_indices) <= 1:\n",
    "        return pd.DataFrame()  # Need at least 2 ATHs to find troughs between them\n",
    "    \n",
    "    trough_data = []\n",
    "    \n",
    "    for i in range(len(ath_indices) - 1):\n",
    "        # Define the period between current ATH and next ATH\n",
    "        start_idx = ath_indices[i]\n",
    "        end_idx = ath_indices[i + 1]\n",
    "        \n",
    "        # Get the slice of data between these ATHs (exclusive of endpoints)\n",
    "        if isinstance(df.index, pd.RangeIndex):\n",
    "            # For integer index\n",
    "            start_pos = df.index.get_loc(start_idx)\n",
    "            end_pos = df.index.get_loc(end_idx)\n",
    "            between_slice = df.iloc[start_pos + 1:end_pos]\n",
    "        else:\n",
    "            # For other index types (like DatetimeIndex)\n",
    "            between_slice = df.loc[start_idx:end_idx].iloc[1:-1]\n",
    "        \n",
    "        if len(between_slice) > 0:\n",
    "            # Find the minimum price in this period\n",
    "            min_idx = between_slice[price_column].idxmin()\n",
    "            min_price = between_slice.loc[min_idx, price_column]\n",
    "            \n",
    "            # Get corresponding ATH values\n",
    "            ath_price_start = df.loc[start_idx, price_column]\n",
    "            ath_price_end = df.loc[end_idx, price_column]\n",
    "            \n",
    "            # Calculate drawdown percentage from the previous ATH\n",
    "            drawdown_pct = ((min_price - ath_price_start) / ath_price_start) * 100\n",
    "            \n",
    "            trough_data.append({\n",
    "                'ath_start_date': start_idx,\n",
    "                'ath_start_price': ath_price_start,\n",
    "                'trough_date': min_idx,\n",
    "                'trough_price': min_price,\n",
    "                'ath_end_date': end_idx,\n",
    "                'ath_end_price': ath_price_end,\n",
    "                'drawdown_pct': drawdown_pct,\n",
    "                'recovery_pct': ((ath_price_end - min_price) / min_price) * 100,\n",
    "                'duration': min_idx - start_idx\n",
    "            })\n",
    "    \n",
    "    return pd.DataFrame(trough_data)\n"
   ]
  },
  {
   "cell_type": "code",
   "execution_count": 34,
   "id": "308e5444",
   "metadata": {},
   "outputs": [],
   "source": [
    "def add_trough_flags_to_df(df: pd.DataFrame, price_column: str = 'close') -> pd.DataFrame:\n",
    "    \"\"\"\n",
    "    Add trough identification flags to the original DataFrame.\n",
    "    \n",
    "    Args:\n",
    "        df: DataFrame with stock data\n",
    "        price_column: Column name for prices\n",
    "    \n",
    "    Returns:\n",
    "        DataFrame with additional columns for trough analysis\n",
    "    \"\"\"\n",
    "    result_df = rolling_ath(df, price_column)\n",
    "    \n",
    "    # Initialize trough flags\n",
    "    result_df['is_trough'] = False\n",
    "    result_df['trough_between_aths'] = False\n",
    "    result_df['drawdown_from_ath_pct'] = 0.0\n",
    "    \n",
    "    # Get trough data\n",
    "    troughs_df = find_troughs_between_aths(df, price_column)\n",
    "    \n",
    "    if not troughs_df.empty:\n",
    "        # Mark trough points\n",
    "        trough_indices = troughs_df['trough_date'].tolist()\n",
    "        result_df.loc[trough_indices, 'is_trough'] = True\n",
    "        result_df.loc[trough_indices, 'trough_between_aths'] = True\n",
    "        \n",
    "        # Calculate drawdown from most recent ATH for all points\n",
    "        ath_indices = result_df[result_df['is_new_ath']].index.tolist()\n",
    "        \n",
    "        for i, idx in enumerate(result_df.index):\n",
    "            current_price = result_df.loc[idx, price_column]\n",
    "            \n",
    "            # Find the most recent ATH before or at this point\n",
    "            recent_aths = [ath_idx for ath_idx in ath_indices if ath_idx <= idx]\n",
    "            if recent_aths:\n",
    "                most_recent_ath_idx = recent_aths[-1]\n",
    "                ath_price = result_df.loc[most_recent_ath_idx, price_column]\n",
    "                drawdown_pct = ((current_price - ath_price) / ath_price) * 100\n",
    "                result_df.loc[idx, 'drawdown_from_ath_pct'] = drawdown_pct\n",
    "    \n",
    "    return result_df"
   ]
  },
  {
   "cell_type": "code",
   "execution_count": 35,
   "id": "c9fcde43",
   "metadata": {},
   "outputs": [],
   "source": [
    "q3_df = find_troughs_between_aths(sp_500_q3)"
   ]
  },
  {
   "cell_type": "code",
   "execution_count": 36,
   "id": "75c6ffa4",
   "metadata": {},
   "outputs": [
    {
     "data": {
      "text/html": [
       "<div>\n",
       "<style scoped>\n",
       "    .dataframe tbody tr th:only-of-type {\n",
       "        vertical-align: middle;\n",
       "    }\n",
       "\n",
       "    .dataframe tbody tr th {\n",
       "        vertical-align: top;\n",
       "    }\n",
       "\n",
       "    .dataframe thead th {\n",
       "        text-align: right;\n",
       "    }\n",
       "</style>\n",
       "<table border=\"1\" class=\"dataframe\">\n",
       "  <thead>\n",
       "    <tr style=\"text-align: right;\">\n",
       "      <th></th>\n",
       "      <th>ath_start_date</th>\n",
       "      <th>ath_start_price</th>\n",
       "      <th>trough_date</th>\n",
       "      <th>trough_price</th>\n",
       "      <th>ath_end_date</th>\n",
       "      <th>ath_end_price</th>\n",
       "      <th>drawdown_pct</th>\n",
       "      <th>recovery_pct</th>\n",
       "      <th>duration</th>\n",
       "    </tr>\n",
       "  </thead>\n",
       "  <tbody>\n",
       "    <tr>\n",
       "      <th>0</th>\n",
       "      <td>1950-01-09 00:00:00-05:00</td>\n",
       "      <td>17.080000</td>\n",
       "      <td>1950-01-10 00:00:00-05:00</td>\n",
       "      <td>17.030001</td>\n",
       "      <td>1950-01-11 00:00:00-05:00</td>\n",
       "      <td>17.090000</td>\n",
       "      <td>-0.292736</td>\n",
       "      <td>0.352316</td>\n",
       "      <td>1 days</td>\n",
       "    </tr>\n",
       "    <tr>\n",
       "      <th>1</th>\n",
       "      <td>1950-01-11 00:00:00-05:00</td>\n",
       "      <td>17.090000</td>\n",
       "      <td>1950-01-13 00:00:00-05:00</td>\n",
       "      <td>16.670000</td>\n",
       "      <td>1950-02-02 00:00:00-05:00</td>\n",
       "      <td>17.230000</td>\n",
       "      <td>-2.457578</td>\n",
       "      <td>3.359325</td>\n",
       "      <td>2 days</td>\n",
       "    </tr>\n",
       "    <tr>\n",
       "      <th>2</th>\n",
       "      <td>1950-02-06 00:00:00-05:00</td>\n",
       "      <td>17.320000</td>\n",
       "      <td>1950-02-16 00:00:00-05:00</td>\n",
       "      <td>16.990000</td>\n",
       "      <td>1950-03-15 00:00:00-05:00</td>\n",
       "      <td>17.450001</td>\n",
       "      <td>-1.905311</td>\n",
       "      <td>2.707481</td>\n",
       "      <td>10 days</td>\n",
       "    </tr>\n",
       "    <tr>\n",
       "      <th>3</th>\n",
       "      <td>1950-03-16 00:00:00-05:00</td>\n",
       "      <td>17.490000</td>\n",
       "      <td>1950-03-20 00:00:00-05:00</td>\n",
       "      <td>17.440001</td>\n",
       "      <td>1950-03-22 00:00:00-05:00</td>\n",
       "      <td>17.549999</td>\n",
       "      <td>-0.285873</td>\n",
       "      <td>0.630726</td>\n",
       "      <td>4 days</td>\n",
       "    </tr>\n",
       "    <tr>\n",
       "      <th>4</th>\n",
       "      <td>1950-03-23 00:00:00-05:00</td>\n",
       "      <td>17.559999</td>\n",
       "      <td>1950-03-31 00:00:00-05:00</td>\n",
       "      <td>17.290001</td>\n",
       "      <td>1950-04-05 00:00:00-05:00</td>\n",
       "      <td>17.629999</td>\n",
       "      <td>-1.537577</td>\n",
       "      <td>1.966444</td>\n",
       "      <td>8 days</td>\n",
       "    </tr>\n",
       "    <tr>\n",
       "      <th>5</th>\n",
       "      <td>1950-04-10 00:00:00-05:00</td>\n",
       "      <td>17.850000</td>\n",
       "      <td>1950-04-11 00:00:00-05:00</td>\n",
       "      <td>17.750000</td>\n",
       "      <td>1950-04-12 00:00:00-05:00</td>\n",
       "      <td>17.940001</td>\n",
       "      <td>-0.560226</td>\n",
       "      <td>1.070426</td>\n",
       "      <td>1 days</td>\n",
       "    </tr>\n",
       "    <tr>\n",
       "      <th>6</th>\n",
       "      <td>1950-04-13 00:00:00-05:00</td>\n",
       "      <td>17.980000</td>\n",
       "      <td>1950-04-17 00:00:00-05:00</td>\n",
       "      <td>17.879999</td>\n",
       "      <td>1950-04-18 00:00:00-05:00</td>\n",
       "      <td>18.030001</td>\n",
       "      <td>-0.556176</td>\n",
       "      <td>0.838935</td>\n",
       "      <td>4 days</td>\n",
       "    </tr>\n",
       "    <tr>\n",
       "      <th>7</th>\n",
       "      <td>1950-04-19 00:00:00-05:00</td>\n",
       "      <td>18.049999</td>\n",
       "      <td>1950-04-26 00:00:00-05:00</td>\n",
       "      <td>17.760000</td>\n",
       "      <td>1950-05-01 00:00:00-04:00</td>\n",
       "      <td>18.219999</td>\n",
       "      <td>-1.606643</td>\n",
       "      <td>2.590085</td>\n",
       "      <td>7 days</td>\n",
       "    </tr>\n",
       "  </tbody>\n",
       "</table>\n",
       "</div>"
      ],
      "text/plain": [
       "             ath_start_date  ath_start_price               trough_date  \\\n",
       "0 1950-01-09 00:00:00-05:00        17.080000 1950-01-10 00:00:00-05:00   \n",
       "1 1950-01-11 00:00:00-05:00        17.090000 1950-01-13 00:00:00-05:00   \n",
       "2 1950-02-06 00:00:00-05:00        17.320000 1950-02-16 00:00:00-05:00   \n",
       "3 1950-03-16 00:00:00-05:00        17.490000 1950-03-20 00:00:00-05:00   \n",
       "4 1950-03-23 00:00:00-05:00        17.559999 1950-03-31 00:00:00-05:00   \n",
       "5 1950-04-10 00:00:00-05:00        17.850000 1950-04-11 00:00:00-05:00   \n",
       "6 1950-04-13 00:00:00-05:00        17.980000 1950-04-17 00:00:00-05:00   \n",
       "7 1950-04-19 00:00:00-05:00        18.049999 1950-04-26 00:00:00-05:00   \n",
       "\n",
       "   trough_price              ath_end_date  ath_end_price  drawdown_pct  \\\n",
       "0     17.030001 1950-01-11 00:00:00-05:00      17.090000     -0.292736   \n",
       "1     16.670000 1950-02-02 00:00:00-05:00      17.230000     -2.457578   \n",
       "2     16.990000 1950-03-15 00:00:00-05:00      17.450001     -1.905311   \n",
       "3     17.440001 1950-03-22 00:00:00-05:00      17.549999     -0.285873   \n",
       "4     17.290001 1950-04-05 00:00:00-05:00      17.629999     -1.537577   \n",
       "5     17.750000 1950-04-12 00:00:00-05:00      17.940001     -0.560226   \n",
       "6     17.879999 1950-04-18 00:00:00-05:00      18.030001     -0.556176   \n",
       "7     17.760000 1950-05-01 00:00:00-04:00      18.219999     -1.606643   \n",
       "\n",
       "   recovery_pct duration  \n",
       "0      0.352316   1 days  \n",
       "1      3.359325   2 days  \n",
       "2      2.707481  10 days  \n",
       "3      0.630726   4 days  \n",
       "4      1.966444   8 days  \n",
       "5      1.070426   1 days  \n",
       "6      0.838935   4 days  \n",
       "7      2.590085   7 days  "
      ]
     },
     "execution_count": 36,
     "metadata": {},
     "output_type": "execute_result"
    }
   ],
   "source": [
    "q3_df.head(8)"
   ]
  },
  {
   "cell_type": "code",
   "execution_count": 37,
   "id": "ac3a089e",
   "metadata": {},
   "outputs": [],
   "source": [
    "q3_df = q3_df[q3_df['drawdown_pct'] < -5]"
   ]
  },
  {
   "cell_type": "code",
   "execution_count": 38,
   "id": "f5797d79",
   "metadata": {},
   "outputs": [
    {
     "data": {
      "text/plain": [
       "count                             71\n",
       "mean     113 days 02:38:01.690140846\n",
       "std      179 days 02:11:26.722984390\n",
       "min                  7 days 00:00:00\n",
       "25%                 21 days 12:00:00\n",
       "50%                 39 days 00:00:00\n",
       "75%                 89 days 00:00:00\n",
       "max                928 days 23:00:00\n",
       "Name: duration, dtype: object"
      ]
     },
     "execution_count": 38,
     "metadata": {},
     "output_type": "execute_result"
    }
   ],
   "source": [
    "q3_df['duration'].describe()"
   ]
  },
  {
   "cell_type": "code",
   "execution_count": 39,
   "id": "07cb55c4",
   "metadata": {},
   "outputs": [],
   "source": [
    "percentiles = np.percentile(q3_df['duration'], [25, 50, 75])"
   ]
  },
  {
   "cell_type": "code",
   "execution_count": 40,
   "id": "172ab531",
   "metadata": {},
   "outputs": [
    {
     "data": {
      "text/plain": [
       "array([1857600000000000, 3369600000000000, 7689600000000000],\n",
       "      dtype='timedelta64[ns]')"
      ]
     },
     "execution_count": 40,
     "metadata": {},
     "output_type": "execute_result"
    }
   ],
   "source": [
    "np.percentile(q3_df['duration'], [25, 50, 75])"
   ]
  },
  {
   "cell_type": "code",
   "execution_count": 41,
   "id": "7d7bba50",
   "metadata": {},
   "outputs": [
    {
     "name": "stdout",
     "output_type": "stream",
     "text": [
      "The median duration of significant market corrections in the S&P 500 index is: 39 days\n"
     ]
    }
   ],
   "source": [
    "print(f\"The median duration of significant market corrections in the S&P 500 index is: {str(q3_df['duration'].describe().iloc[5]).replace(' 00:00:00', '')}\")"
   ]
  },
  {
   "cell_type": "markdown",
   "id": "cd10a9ed",
   "metadata": {},
   "source": [
    "### Question 4.  [Stocks] Earnings Surprise Analysis for Amazon (AMZN)\n",
    "\n",
    "\n",
    "**Calculate the median 2-day percentage change in stock prices following positive earnings surprises days.**\n",
    "\n",
    "Steps:\n",
    "1. Load earnings data from CSV ([ha1_Amazon.csv](ha1_Amazon.csv)) containing earnings dates, EPS estimates, and actual EPS\n",
    "2. Download complete historical price data using yfinance\n",
    "3. Calculate 2-day percentage changes for all historical dates: for each sequence of 3 consecutive trading days (Day 1, Day 2, Day 3), compute the return as Close_Day3 / Close_Day1 - 1. (Assume Day 2 may correspond to the earnings announcement.)\n",
    "4. Identify positive earnings surprises (where \"actual EPS > estimated EPS\" OR \"Surprise (%)>0\")\n",
    "5. Calculate 2-day percentage changes following positive earnings surprises\n",
    "6. Compare the median 2-day percentage change for positive surprises vs. all historical dates\n",
    "\n",
    "Context: Earnings announcements, especially when they exceed analyst expectations, can significantly impact stock prices in the short term.\n",
    "\n",
    "Reference: Yahoo Finance earnings calendar - https://finance.yahoo.com/calendar/earnings?symbol=AMZN\n",
    "\n",
    "*Additional*: Is there a correlation between the magnitude of the earnings surprise and the stock price reaction? Does the market react differently to earnings surprises during bull vs. bear markets?)"
   ]
  },
  {
   "cell_type": "code",
   "execution_count": 42,
   "id": "c797ade2",
   "metadata": {},
   "outputs": [],
   "source": [
    "amazon = pd.read_csv('ha1_Amazon.csv', sep=\";\")"
   ]
  },
  {
   "cell_type": "code",
   "execution_count": 43,
   "id": "ef7f1e36",
   "metadata": {},
   "outputs": [
    {
     "data": {
      "text/html": [
       "<div>\n",
       "<style scoped>\n",
       "    .dataframe tbody tr th:only-of-type {\n",
       "        vertical-align: middle;\n",
       "    }\n",
       "\n",
       "    .dataframe tbody tr th {\n",
       "        vertical-align: top;\n",
       "    }\n",
       "\n",
       "    .dataframe thead th {\n",
       "        text-align: right;\n",
       "    }\n",
       "</style>\n",
       "<table border=\"1\" class=\"dataframe\">\n",
       "  <thead>\n",
       "    <tr style=\"text-align: right;\">\n",
       "      <th></th>\n",
       "      <th>Symbol</th>\n",
       "      <th>Company</th>\n",
       "      <th>Earnings Date</th>\n",
       "      <th>EPS Estimate</th>\n",
       "      <th>Reported EPS</th>\n",
       "      <th>Surprise (%)</th>\n",
       "    </tr>\n",
       "  </thead>\n",
       "  <tbody>\n",
       "    <tr>\n",
       "      <th>0</th>\n",
       "      <td>AMZN</td>\n",
       "      <td>Amazon.com Inc</td>\n",
       "      <td>April 29, 2026 at 6 AM EDT</td>\n",
       "      <td>-</td>\n",
       "      <td>-</td>\n",
       "      <td>-</td>\n",
       "    </tr>\n",
       "    <tr>\n",
       "      <th>1</th>\n",
       "      <td>AMZN</td>\n",
       "      <td>Amazon.com Inc</td>\n",
       "      <td>February 4, 2026 at 4 PM EST</td>\n",
       "      <td>-</td>\n",
       "      <td>-</td>\n",
       "      <td>-</td>\n",
       "    </tr>\n",
       "  </tbody>\n",
       "</table>\n",
       "</div>"
      ],
      "text/plain": [
       "  Symbol         Company                 Earnings Date EPS Estimate  \\\n",
       "0   AMZN  Amazon.com Inc    April 29, 2026 at 6 AM EDT            -   \n",
       "1   AMZN  Amazon.com Inc  February 4, 2026 at 4 PM EST            -   \n",
       "\n",
       "  Reported EPS Surprise (%)  \n",
       "0            -            -  \n",
       "1            -            -  "
      ]
     },
     "execution_count": 43,
     "metadata": {},
     "output_type": "execute_result"
    }
   ],
   "source": [
    "amazon.head(2)"
   ]
  },
  {
   "cell_type": "code",
   "execution_count": 44,
   "id": "9661dae0",
   "metadata": {},
   "outputs": [
    {
     "data": {
      "text/html": [
       "<div>\n",
       "<style scoped>\n",
       "    .dataframe tbody tr th:only-of-type {\n",
       "        vertical-align: middle;\n",
       "    }\n",
       "\n",
       "    .dataframe tbody tr th {\n",
       "        vertical-align: top;\n",
       "    }\n",
       "\n",
       "    .dataframe thead th {\n",
       "        text-align: right;\n",
       "    }\n",
       "</style>\n",
       "<table border=\"1\" class=\"dataframe\">\n",
       "  <thead>\n",
       "    <tr style=\"text-align: right;\">\n",
       "      <th></th>\n",
       "      <th>Symbol</th>\n",
       "      <th>Company</th>\n",
       "      <th>Earnings Date</th>\n",
       "      <th>EPS Estimate</th>\n",
       "      <th>Reported EPS</th>\n",
       "      <th>Surprise (%)</th>\n",
       "    </tr>\n",
       "  </thead>\n",
       "  <tbody>\n",
       "    <tr>\n",
       "      <th>count</th>\n",
       "      <td>116</td>\n",
       "      <td>116</td>\n",
       "      <td>116</td>\n",
       "      <td>116</td>\n",
       "      <td>116</td>\n",
       "      <td>116</td>\n",
       "    </tr>\n",
       "    <tr>\n",
       "      <th>unique</th>\n",
       "      <td>1</td>\n",
       "      <td>2</td>\n",
       "      <td>116</td>\n",
       "      <td>38</td>\n",
       "      <td>39</td>\n",
       "      <td>113</td>\n",
       "    </tr>\n",
       "    <tr>\n",
       "      <th>top</th>\n",
       "      <td>AMZN</td>\n",
       "      <td>Amazon.com, Inc.</td>\n",
       "      <td>April 29, 2026 at 6 AM EDT</td>\n",
       "      <td>-</td>\n",
       "      <td>0.01</td>\n",
       "      <td>-</td>\n",
       "    </tr>\n",
       "    <tr>\n",
       "      <th>freq</th>\n",
       "      <td>116</td>\n",
       "      <td>112</td>\n",
       "      <td>1</td>\n",
       "      <td>28</td>\n",
       "      <td>24</td>\n",
       "      <td>4</td>\n",
       "    </tr>\n",
       "  </tbody>\n",
       "</table>\n",
       "</div>"
      ],
      "text/plain": [
       "       Symbol           Company               Earnings Date EPS Estimate  \\\n",
       "count     116               116                         116          116   \n",
       "unique      1                 2                         116           38   \n",
       "top      AMZN  Amazon.com, Inc.  April 29, 2026 at 6 AM EDT            -   \n",
       "freq      116               112                           1           28   \n",
       "\n",
       "       Reported EPS Surprise (%)  \n",
       "count           116          116  \n",
       "unique           39          113  \n",
       "top            0.01            -  \n",
       "freq             24            4  "
      ]
     },
     "execution_count": 44,
     "metadata": {},
     "output_type": "execute_result"
    }
   ],
   "source": [
    "amazon.describe()"
   ]
  },
  {
   "cell_type": "code",
   "execution_count": 45,
   "id": "7efee622",
   "metadata": {},
   "outputs": [],
   "source": [
    "#Replace - with np.nan and drop the null values\n",
    "amazon = amazon.replace(\"-\", np.nan).dropna()"
   ]
  },
  {
   "cell_type": "code",
   "execution_count": 46,
   "id": "4099a5cb",
   "metadata": {},
   "outputs": [],
   "source": [
    "#remove ??? with 0\n",
    "amazon['EPS Estimate'] = amazon['EPS Estimate'].str.replace('?', '0', regex=False).astype(float)\n",
    "amazon['Reported EPS'] = amazon['Reported EPS'].str.replace('?', '0', regex=False).astype(float)"
   ]
  },
  {
   "cell_type": "code",
   "execution_count": 47,
   "id": "d73a47fc",
   "metadata": {},
   "outputs": [],
   "source": [
    "#remove + from the Surprise (%) column\n",
    "amazon['Surprise (%)'] = amazon['Surprise (%)'].str.replace(r'^\\+', '', regex=True).astype(float)"
   ]
  },
  {
   "cell_type": "code",
   "execution_count": 48,
   "id": "b1c13d6b",
   "metadata": {},
   "outputs": [
    {
     "data": {
      "text/html": [
       "<div>\n",
       "<style scoped>\n",
       "    .dataframe tbody tr th:only-of-type {\n",
       "        vertical-align: middle;\n",
       "    }\n",
       "\n",
       "    .dataframe tbody tr th {\n",
       "        vertical-align: top;\n",
       "    }\n",
       "\n",
       "    .dataframe thead th {\n",
       "        text-align: right;\n",
       "    }\n",
       "</style>\n",
       "<table border=\"1\" class=\"dataframe\">\n",
       "  <thead>\n",
       "    <tr style=\"text-align: right;\">\n",
       "      <th></th>\n",
       "      <th>Symbol</th>\n",
       "      <th>Company</th>\n",
       "      <th>Earnings Date</th>\n",
       "      <th>EPS Estimate</th>\n",
       "      <th>Reported EPS</th>\n",
       "      <th>Surprise (%)</th>\n",
       "    </tr>\n",
       "  </thead>\n",
       "  <tbody>\n",
       "    <tr>\n",
       "      <th>4</th>\n",
       "      <td>AMZN</td>\n",
       "      <td>Amazon.com, Inc.</td>\n",
       "      <td>May 1, 2025 at 4 PM EDT</td>\n",
       "      <td>0.36</td>\n",
       "      <td>0.59</td>\n",
       "      <td>16.74</td>\n",
       "    </tr>\n",
       "    <tr>\n",
       "      <th>5</th>\n",
       "      <td>AMZN</td>\n",
       "      <td>Amazon.com, Inc.</td>\n",
       "      <td>February 6, 2025 at 4 PM EST</td>\n",
       "      <td>0.49</td>\n",
       "      <td>0.86</td>\n",
       "      <td>24.47</td>\n",
       "    </tr>\n",
       "  </tbody>\n",
       "</table>\n",
       "</div>"
      ],
      "text/plain": [
       "  Symbol           Company                 Earnings Date  EPS Estimate  \\\n",
       "4   AMZN  Amazon.com, Inc.       May 1, 2025 at 4 PM EDT          0.36   \n",
       "5   AMZN  Amazon.com, Inc.  February 6, 2025 at 4 PM EST          0.49   \n",
       "\n",
       "   Reported EPS  Surprise (%)  \n",
       "4          0.59         16.74  \n",
       "5          0.86         24.47  "
      ]
     },
     "execution_count": 48,
     "metadata": {},
     "output_type": "execute_result"
    }
   ],
   "source": [
    "amazon.head(2)"
   ]
  },
  {
   "cell_type": "code",
   "execution_count": 49,
   "id": "b1a4b620",
   "metadata": {},
   "outputs": [
    {
     "name": "stdout",
     "output_type": "stream",
     "text": [
      "<class 'pandas.core.frame.DataFrame'>\n",
      "Index: 88 entries, 4 to 108\n",
      "Data columns (total 6 columns):\n",
      " #   Column         Non-Null Count  Dtype  \n",
      "---  ------         --------------  -----  \n",
      " 0   Symbol         88 non-null     object \n",
      " 1   Company        88 non-null     object \n",
      " 2   Earnings Date  88 non-null     object \n",
      " 3   EPS Estimate   88 non-null     float64\n",
      " 4   Reported EPS   88 non-null     float64\n",
      " 5   Surprise (%)   88 non-null     float64\n",
      "dtypes: float64(3), object(3)\n",
      "memory usage: 4.8+ KB\n"
     ]
    }
   ],
   "source": [
    "amazon.info()"
   ]
  },
  {
   "cell_type": "code",
   "execution_count": 50,
   "id": "ff54e965",
   "metadata": {},
   "outputs": [
    {
     "name": "stderr",
     "output_type": "stream",
     "text": [
      "[*********************100%***********************]  1 of 1 completed\n"
     ]
    }
   ],
   "source": [
    "amzn = yf.download(tickers='amzn')"
   ]
  },
  {
   "cell_type": "code",
   "execution_count": 51,
   "id": "a3cb8c34",
   "metadata": {},
   "outputs": [
    {
     "data": {
      "text/html": [
       "<div>\n",
       "<style scoped>\n",
       "    .dataframe tbody tr th:only-of-type {\n",
       "        vertical-align: middle;\n",
       "    }\n",
       "\n",
       "    .dataframe tbody tr th {\n",
       "        vertical-align: top;\n",
       "    }\n",
       "\n",
       "    .dataframe thead tr th {\n",
       "        text-align: left;\n",
       "    }\n",
       "\n",
       "    .dataframe thead tr:last-of-type th {\n",
       "        text-align: right;\n",
       "    }\n",
       "</style>\n",
       "<table border=\"1\" class=\"dataframe\">\n",
       "  <thead>\n",
       "    <tr>\n",
       "      <th>Price</th>\n",
       "      <th>Close</th>\n",
       "      <th>High</th>\n",
       "      <th>Low</th>\n",
       "      <th>Open</th>\n",
       "      <th>Volume</th>\n",
       "    </tr>\n",
       "    <tr>\n",
       "      <th>Ticker</th>\n",
       "      <th>AMZN</th>\n",
       "      <th>AMZN</th>\n",
       "      <th>AMZN</th>\n",
       "      <th>AMZN</th>\n",
       "      <th>AMZN</th>\n",
       "    </tr>\n",
       "    <tr>\n",
       "      <th>Date</th>\n",
       "      <th></th>\n",
       "      <th></th>\n",
       "      <th></th>\n",
       "      <th></th>\n",
       "      <th></th>\n",
       "    </tr>\n",
       "  </thead>\n",
       "  <tbody>\n",
       "    <tr>\n",
       "      <th>2025-05-30</th>\n",
       "      <td>205.009995</td>\n",
       "      <td>205.990005</td>\n",
       "      <td>201.699997</td>\n",
       "      <td>204.839996</td>\n",
       "      <td>51679400</td>\n",
       "    </tr>\n",
       "    <tr>\n",
       "      <th>2025-06-02</th>\n",
       "      <td>206.649994</td>\n",
       "      <td>207.000000</td>\n",
       "      <td>202.679993</td>\n",
       "      <td>204.979996</td>\n",
       "      <td>29113300</td>\n",
       "    </tr>\n",
       "    <tr>\n",
       "      <th>2025-06-03</th>\n",
       "      <td>205.710007</td>\n",
       "      <td>208.949997</td>\n",
       "      <td>205.029999</td>\n",
       "      <td>207.110001</td>\n",
       "      <td>33139100</td>\n",
       "    </tr>\n",
       "    <tr>\n",
       "      <th>2025-06-04</th>\n",
       "      <td>207.229996</td>\n",
       "      <td>208.179993</td>\n",
       "      <td>205.179993</td>\n",
       "      <td>206.550003</td>\n",
       "      <td>29866400</td>\n",
       "    </tr>\n",
       "    <tr>\n",
       "      <th>2025-06-05</th>\n",
       "      <td>211.285004</td>\n",
       "      <td>211.630005</td>\n",
       "      <td>208.050003</td>\n",
       "      <td>209.500000</td>\n",
       "      <td>18355482</td>\n",
       "    </tr>\n",
       "  </tbody>\n",
       "</table>\n",
       "</div>"
      ],
      "text/plain": [
       "Price            Close        High         Low        Open    Volume\n",
       "Ticker            AMZN        AMZN        AMZN        AMZN      AMZN\n",
       "Date                                                                \n",
       "2025-05-30  205.009995  205.990005  201.699997  204.839996  51679400\n",
       "2025-06-02  206.649994  207.000000  202.679993  204.979996  29113300\n",
       "2025-06-03  205.710007  208.949997  205.029999  207.110001  33139100\n",
       "2025-06-04  207.229996  208.179993  205.179993  206.550003  29866400\n",
       "2025-06-05  211.285004  211.630005  208.050003  209.500000  18355482"
      ]
     },
     "execution_count": 51,
     "metadata": {},
     "output_type": "execute_result"
    }
   ],
   "source": [
    "amzn.tail()"
   ]
  },
  {
   "cell_type": "code",
   "execution_count": 52,
   "id": "60b10c20",
   "metadata": {},
   "outputs": [],
   "source": [
    "amzn_2day_change = amzn.copy()\n",
    "\n",
    "amzn_2day_change['2day_change_percent'] = amzn_2day_change['Close'].shift(-3) / amzn_2day_change['Close'] - 1"
   ]
  },
  {
   "cell_type": "code",
   "execution_count": 53,
   "id": "dbc338ab",
   "metadata": {},
   "outputs": [],
   "source": [
    "amzn_2day_change.columns = amzn_2day_change.columns.droplevel(1)"
   ]
  },
  {
   "cell_type": "code",
   "execution_count": 54,
   "id": "91acda6d",
   "metadata": {},
   "outputs": [
    {
     "data": {
      "text/html": [
       "<div>\n",
       "<style scoped>\n",
       "    .dataframe tbody tr th:only-of-type {\n",
       "        vertical-align: middle;\n",
       "    }\n",
       "\n",
       "    .dataframe tbody tr th {\n",
       "        vertical-align: top;\n",
       "    }\n",
       "\n",
       "    .dataframe thead th {\n",
       "        text-align: right;\n",
       "    }\n",
       "</style>\n",
       "<table border=\"1\" class=\"dataframe\">\n",
       "  <thead>\n",
       "    <tr style=\"text-align: right;\">\n",
       "      <th>Price</th>\n",
       "      <th>Close</th>\n",
       "      <th>High</th>\n",
       "      <th>Low</th>\n",
       "      <th>Open</th>\n",
       "      <th>Volume</th>\n",
       "      <th>2day_change_percent</th>\n",
       "    </tr>\n",
       "    <tr>\n",
       "      <th>Date</th>\n",
       "      <th></th>\n",
       "      <th></th>\n",
       "      <th></th>\n",
       "      <th></th>\n",
       "      <th></th>\n",
       "      <th></th>\n",
       "    </tr>\n",
       "  </thead>\n",
       "  <tbody>\n",
       "    <tr>\n",
       "      <th>1997-05-15</th>\n",
       "      <td>0.097917</td>\n",
       "      <td>0.125000</td>\n",
       "      <td>0.096354</td>\n",
       "      <td>0.121875</td>\n",
       "      <td>1443120000</td>\n",
       "      <td>-0.164895</td>\n",
       "    </tr>\n",
       "    <tr>\n",
       "      <th>1997-05-16</th>\n",
       "      <td>0.086458</td>\n",
       "      <td>0.098958</td>\n",
       "      <td>0.085417</td>\n",
       "      <td>0.098438</td>\n",
       "      <td>294000000</td>\n",
       "      <td>-0.174697</td>\n",
       "    </tr>\n",
       "    <tr>\n",
       "      <th>1997-05-19</th>\n",
       "      <td>0.085417</td>\n",
       "      <td>0.088542</td>\n",
       "      <td>0.081250</td>\n",
       "      <td>0.088021</td>\n",
       "      <td>122136000</td>\n",
       "      <td>-0.182926</td>\n",
       "    </tr>\n",
       "    <tr>\n",
       "      <th>1997-05-20</th>\n",
       "      <td>0.081771</td>\n",
       "      <td>0.087500</td>\n",
       "      <td>0.081771</td>\n",
       "      <td>0.086458</td>\n",
       "      <td>109344000</td>\n",
       "      <td>-0.082804</td>\n",
       "    </tr>\n",
       "    <tr>\n",
       "      <th>1997-05-21</th>\n",
       "      <td>0.071354</td>\n",
       "      <td>0.082292</td>\n",
       "      <td>0.068750</td>\n",
       "      <td>0.081771</td>\n",
       "      <td>377064000</td>\n",
       "      <td>0.109496</td>\n",
       "    </tr>\n",
       "  </tbody>\n",
       "</table>\n",
       "</div>"
      ],
      "text/plain": [
       "Price          Close      High       Low      Open      Volume  \\\n",
       "Date                                                             \n",
       "1997-05-15  0.097917  0.125000  0.096354  0.121875  1443120000   \n",
       "1997-05-16  0.086458  0.098958  0.085417  0.098438   294000000   \n",
       "1997-05-19  0.085417  0.088542  0.081250  0.088021   122136000   \n",
       "1997-05-20  0.081771  0.087500  0.081771  0.086458   109344000   \n",
       "1997-05-21  0.071354  0.082292  0.068750  0.081771   377064000   \n",
       "\n",
       "Price       2day_change_percent  \n",
       "Date                             \n",
       "1997-05-15            -0.164895  \n",
       "1997-05-16            -0.174697  \n",
       "1997-05-19            -0.182926  \n",
       "1997-05-20            -0.082804  \n",
       "1997-05-21             0.109496  "
      ]
     },
     "execution_count": 54,
     "metadata": {},
     "output_type": "execute_result"
    }
   ],
   "source": [
    "amzn_2day_change.head()"
   ]
  },
  {
   "cell_type": "code",
   "execution_count": 55,
   "id": "f2c97b5d",
   "metadata": {},
   "outputs": [
    {
     "name": "stdout",
     "output_type": "stream",
     "text": [
      "Close\n",
      "High\n",
      "Low\n",
      "Open\n",
      "Volume\n",
      "2day_change_percent\n"
     ]
    }
   ],
   "source": [
    "for col in amzn_2day_change.columns.values:\n",
    "    print(col)"
   ]
  },
  {
   "cell_type": "code",
   "execution_count": 56,
   "id": "abaee531",
   "metadata": {},
   "outputs": [],
   "source": [
    "#create a dataframe with only the positive earning surprises\n",
    "\n",
    "positive_earnings = amazon[(amazon['Reported EPS'] > amazon['EPS Estimate']) ]"
   ]
  },
  {
   "cell_type": "code",
   "execution_count": 57,
   "id": "38824070",
   "metadata": {},
   "outputs": [],
   "source": [
    "#create a new column for the date with a new format\n",
    "earn_date = positive_earnings[\"Earnings Date\"].str.replace(r'\\s+[A-Z]{3,4}$', '', regex=True)\n",
    "positive_earnings.index = pd.to_datetime(earn_date, format='%B %d, %Y at %I %p').dt.date"
   ]
  },
  {
   "cell_type": "code",
   "execution_count": 58,
   "id": "39dfa375",
   "metadata": {},
   "outputs": [
    {
     "data": {
      "text/html": [
       "<div>\n",
       "<style scoped>\n",
       "    .dataframe tbody tr th:only-of-type {\n",
       "        vertical-align: middle;\n",
       "    }\n",
       "\n",
       "    .dataframe tbody tr th {\n",
       "        vertical-align: top;\n",
       "    }\n",
       "\n",
       "    .dataframe thead th {\n",
       "        text-align: right;\n",
       "    }\n",
       "</style>\n",
       "<table border=\"1\" class=\"dataframe\">\n",
       "  <thead>\n",
       "    <tr style=\"text-align: right;\">\n",
       "      <th></th>\n",
       "      <th>Symbol</th>\n",
       "      <th>Company</th>\n",
       "      <th>Earnings Date</th>\n",
       "      <th>EPS Estimate</th>\n",
       "      <th>Reported EPS</th>\n",
       "      <th>Surprise (%)</th>\n",
       "    </tr>\n",
       "    <tr>\n",
       "      <th>Earnings Date</th>\n",
       "      <th></th>\n",
       "      <th></th>\n",
       "      <th></th>\n",
       "      <th></th>\n",
       "      <th></th>\n",
       "      <th></th>\n",
       "    </tr>\n",
       "  </thead>\n",
       "  <tbody>\n",
       "    <tr>\n",
       "      <th>2025-05-01</th>\n",
       "      <td>AMZN</td>\n",
       "      <td>Amazon.com, Inc.</td>\n",
       "      <td>May 1, 2025 at 4 PM EDT</td>\n",
       "      <td>0.36</td>\n",
       "      <td>0.59</td>\n",
       "      <td>16.74</td>\n",
       "    </tr>\n",
       "    <tr>\n",
       "      <th>2025-02-06</th>\n",
       "      <td>AMZN</td>\n",
       "      <td>Amazon.com, Inc.</td>\n",
       "      <td>February 6, 2025 at 4 PM EST</td>\n",
       "      <td>0.49</td>\n",
       "      <td>0.86</td>\n",
       "      <td>24.47</td>\n",
       "    </tr>\n",
       "    <tr>\n",
       "      <th>2024-10-31</th>\n",
       "      <td>AMZN</td>\n",
       "      <td>Amazon.com, Inc.</td>\n",
       "      <td>October 31, 2024 at 4 PM EDT</td>\n",
       "      <td>0.14</td>\n",
       "      <td>0.43</td>\n",
       "      <td>25.17</td>\n",
       "    </tr>\n",
       "    <tr>\n",
       "      <th>2024-04-30</th>\n",
       "      <td>AMZN</td>\n",
       "      <td>Amazon.com, Inc.</td>\n",
       "      <td>April 30, 2024 at 4 PM EDT</td>\n",
       "      <td>0.83</td>\n",
       "      <td>0.98</td>\n",
       "      <td>17.91</td>\n",
       "    </tr>\n",
       "    <tr>\n",
       "      <th>2024-02-01</th>\n",
       "      <td>AMZN</td>\n",
       "      <td>Amazon.com, Inc.</td>\n",
       "      <td>February 1, 2024 at 4 PM EST</td>\n",
       "      <td>0.80</td>\n",
       "      <td>1.00</td>\n",
       "      <td>24.55</td>\n",
       "    </tr>\n",
       "    <tr>\n",
       "      <th>2023-10-26</th>\n",
       "      <td>AMZN</td>\n",
       "      <td>Amazon.com, Inc.</td>\n",
       "      <td>October 26, 2023 at 4 PM EDT</td>\n",
       "      <td>0.58</td>\n",
       "      <td>0.94</td>\n",
       "      <td>60.85</td>\n",
       "    </tr>\n",
       "    <tr>\n",
       "      <th>2023-08-03</th>\n",
       "      <td>AMZN</td>\n",
       "      <td>Amazon.com, Inc.</td>\n",
       "      <td>August 3, 2023 at 4 PM EDT</td>\n",
       "      <td>0.35</td>\n",
       "      <td>0.65</td>\n",
       "      <td>85.73</td>\n",
       "    </tr>\n",
       "  </tbody>\n",
       "</table>\n",
       "</div>"
      ],
      "text/plain": [
       "              Symbol           Company                 Earnings Date  \\\n",
       "Earnings Date                                                          \n",
       "2025-05-01      AMZN  Amazon.com, Inc.       May 1, 2025 at 4 PM EDT   \n",
       "2025-02-06      AMZN  Amazon.com, Inc.  February 6, 2025 at 4 PM EST   \n",
       "2024-10-31      AMZN  Amazon.com, Inc.  October 31, 2024 at 4 PM EDT   \n",
       "2024-04-30      AMZN  Amazon.com, Inc.    April 30, 2024 at 4 PM EDT   \n",
       "2024-02-01      AMZN  Amazon.com, Inc.  February 1, 2024 at 4 PM EST   \n",
       "2023-10-26      AMZN  Amazon.com, Inc.  October 26, 2023 at 4 PM EDT   \n",
       "2023-08-03      AMZN  Amazon.com, Inc.    August 3, 2023 at 4 PM EDT   \n",
       "\n",
       "               EPS Estimate  Reported EPS  Surprise (%)  \n",
       "Earnings Date                                            \n",
       "2025-05-01             0.36          0.59         16.74  \n",
       "2025-02-06             0.49          0.86         24.47  \n",
       "2024-10-31             0.14          0.43         25.17  \n",
       "2024-04-30             0.83          0.98         17.91  \n",
       "2024-02-01             0.80          1.00         24.55  \n",
       "2023-10-26             0.58          0.94         60.85  \n",
       "2023-08-03             0.35          0.65         85.73  "
      ]
     },
     "execution_count": 58,
     "metadata": {},
     "output_type": "execute_result"
    }
   ],
   "source": [
    "positive_earnings.head(7)"
   ]
  },
  {
   "cell_type": "code",
   "execution_count": 59,
   "id": "42bc1404",
   "metadata": {},
   "outputs": [
    {
     "name": "stdout",
     "output_type": "stream",
     "text": [
      "<class 'pandas.core.frame.DataFrame'>\n",
      "Index: 36 entries, 2025-05-01 to 2006-02-02\n",
      "Data columns (total 6 columns):\n",
      " #   Column         Non-Null Count  Dtype  \n",
      "---  ------         --------------  -----  \n",
      " 0   Symbol         36 non-null     object \n",
      " 1   Company        36 non-null     object \n",
      " 2   Earnings Date  36 non-null     object \n",
      " 3   EPS Estimate   36 non-null     float64\n",
      " 4   Reported EPS   36 non-null     float64\n",
      " 5   Surprise (%)   36 non-null     float64\n",
      "dtypes: float64(3), object(3)\n",
      "memory usage: 2.0+ KB\n"
     ]
    }
   ],
   "source": [
    "positive_earnings.info()"
   ]
  },
  {
   "cell_type": "code",
   "execution_count": 60,
   "id": "8d79e760",
   "metadata": {},
   "outputs": [
    {
     "data": {
      "text/html": [
       "<div>\n",
       "<style scoped>\n",
       "    .dataframe tbody tr th:only-of-type {\n",
       "        vertical-align: middle;\n",
       "    }\n",
       "\n",
       "    .dataframe tbody tr th {\n",
       "        vertical-align: top;\n",
       "    }\n",
       "\n",
       "    .dataframe thead th {\n",
       "        text-align: right;\n",
       "    }\n",
       "</style>\n",
       "<table border=\"1\" class=\"dataframe\">\n",
       "  <thead>\n",
       "    <tr style=\"text-align: right;\">\n",
       "      <th></th>\n",
       "      <th>Symbol</th>\n",
       "      <th>Company</th>\n",
       "      <th>Earnings Date</th>\n",
       "      <th>EPS Estimate</th>\n",
       "      <th>Reported EPS</th>\n",
       "      <th>Surprise (%)</th>\n",
       "    </tr>\n",
       "    <tr>\n",
       "      <th>Earnings Date</th>\n",
       "      <th></th>\n",
       "      <th></th>\n",
       "      <th></th>\n",
       "      <th></th>\n",
       "      <th></th>\n",
       "      <th></th>\n",
       "    </tr>\n",
       "  </thead>\n",
       "  <tbody>\n",
       "  </tbody>\n",
       "</table>\n",
       "</div>"
      ],
      "text/plain": [
       "Empty DataFrame\n",
       "Columns: [Symbol, Company, Earnings Date, EPS Estimate, Reported EPS, Surprise (%)]\n",
       "Index: []"
      ]
     },
     "execution_count": 60,
     "metadata": {},
     "output_type": "execute_result"
    }
   ],
   "source": [
    "positive_earnings[positive_earnings[\"EPS Estimate\"] > positive_earnings[\"Reported EPS\"]]"
   ]
  },
  {
   "cell_type": "code",
   "execution_count": 61,
   "id": "975e28af",
   "metadata": {},
   "outputs": [
    {
     "data": {
      "text/html": [
       "<div>\n",
       "<style scoped>\n",
       "    .dataframe tbody tr th:only-of-type {\n",
       "        vertical-align: middle;\n",
       "    }\n",
       "\n",
       "    .dataframe tbody tr th {\n",
       "        vertical-align: top;\n",
       "    }\n",
       "\n",
       "    .dataframe thead th {\n",
       "        text-align: right;\n",
       "    }\n",
       "</style>\n",
       "<table border=\"1\" class=\"dataframe\">\n",
       "  <thead>\n",
       "    <tr style=\"text-align: right;\">\n",
       "      <th></th>\n",
       "      <th>Symbol</th>\n",
       "      <th>Company</th>\n",
       "      <th>Earnings Date</th>\n",
       "      <th>EPS Estimate</th>\n",
       "      <th>Reported EPS</th>\n",
       "      <th>Surprise (%)</th>\n",
       "    </tr>\n",
       "    <tr>\n",
       "      <th>Earnings Date</th>\n",
       "      <th></th>\n",
       "      <th></th>\n",
       "      <th></th>\n",
       "      <th></th>\n",
       "      <th></th>\n",
       "      <th></th>\n",
       "    </tr>\n",
       "  </thead>\n",
       "  <tbody>\n",
       "  </tbody>\n",
       "</table>\n",
       "</div>"
      ],
      "text/plain": [
       "Empty DataFrame\n",
       "Columns: [Symbol, Company, Earnings Date, EPS Estimate, Reported EPS, Surprise (%)]\n",
       "Index: []"
      ]
     },
     "execution_count": 61,
     "metadata": {},
     "output_type": "execute_result"
    }
   ],
   "source": [
    "positive_earnings[positive_earnings[\"Surprise (%)\"] < 0]"
   ]
  },
  {
   "cell_type": "code",
   "execution_count": 62,
   "id": "b183d1e3",
   "metadata": {},
   "outputs": [],
   "source": [
    "# Join the data frame with only the positive earnings surpises to the stock price dataframe\n",
    "q4_df = amzn_2day_change.merge(positive_earnings, how='left', left_index=True, right_index=True)"
   ]
  },
  {
   "cell_type": "code",
   "execution_count": 63,
   "id": "1bbe89ed",
   "metadata": {},
   "outputs": [],
   "source": [
    "q4_df_earnings_date = q4_df[q4_df[\"Earnings Date\"].notna()]"
   ]
  },
  {
   "cell_type": "code",
   "execution_count": 64,
   "metadata": {},
   "outputs": [],
   "source": [
    "q4_df_no_earnings_date = q4_df[~q4_df[\"Earnings Date\"].notna()]"
   ]
  },
  {
   "cell_type": "code",
   "execution_count": 65,
   "id": "e811ff88",
   "metadata": {},
   "outputs": [
    {
     "data": {
      "text/plain": [
       "Close                  167.899994\n",
       "High                   168.770004\n",
       "Low                    160.550003\n",
       "Open                       166.75\n",
       "Volume                  141448400\n",
       "2day_change_percent     -0.030554\n",
       "Symbol                        NaN\n",
       "Company                       NaN\n",
       "Earnings Date                 NaN\n",
       "EPS Estimate                  NaN\n",
       "Reported EPS                  NaN\n",
       "Surprise (%)                  NaN\n",
       "Name: 2024-08-02 00:00:00, dtype: object"
      ]
     },
     "execution_count": 65,
     "metadata": {},
     "output_type": "execute_result"
    }
   ],
   "source": [
    "q4_df.loc[\"08-02-2024\"]"
   ]
  },
  {
   "cell_type": "code",
   "execution_count": 66,
   "id": "04d33269",
   "metadata": {},
   "outputs": [
    {
     "data": {
      "text/html": [
       "<div>\n",
       "<style scoped>\n",
       "    .dataframe tbody tr th:only-of-type {\n",
       "        vertical-align: middle;\n",
       "    }\n",
       "\n",
       "    .dataframe tbody tr th {\n",
       "        vertical-align: top;\n",
       "    }\n",
       "\n",
       "    .dataframe thead th {\n",
       "        text-align: right;\n",
       "    }\n",
       "</style>\n",
       "<table border=\"1\" class=\"dataframe\">\n",
       "  <thead>\n",
       "    <tr style=\"text-align: right;\">\n",
       "      <th></th>\n",
       "      <th>Close</th>\n",
       "      <th>High</th>\n",
       "      <th>Low</th>\n",
       "      <th>Open</th>\n",
       "      <th>Volume</th>\n",
       "      <th>2day_change_percent</th>\n",
       "      <th>EPS Estimate</th>\n",
       "      <th>Reported EPS</th>\n",
       "      <th>Surprise (%)</th>\n",
       "    </tr>\n",
       "  </thead>\n",
       "  <tbody>\n",
       "    <tr>\n",
       "      <th>count</th>\n",
       "      <td>36.000000</td>\n",
       "      <td>36.000000</td>\n",
       "      <td>36.000000</td>\n",
       "      <td>36.000000</td>\n",
       "      <td>3.600000e+01</td>\n",
       "      <td>36.000000</td>\n",
       "      <td>36.000000</td>\n",
       "      <td>36.000000</td>\n",
       "      <td>36.000000</td>\n",
       "    </tr>\n",
       "    <tr>\n",
       "      <th>mean</th>\n",
       "      <td>93.781625</td>\n",
       "      <td>95.121806</td>\n",
       "      <td>92.432250</td>\n",
       "      <td>93.825097</td>\n",
       "      <td>1.712250e+08</td>\n",
       "      <td>0.025679</td>\n",
       "      <td>0.211944</td>\n",
       "      <td>0.337500</td>\n",
       "      <td>81.145278</td>\n",
       "    </tr>\n",
       "    <tr>\n",
       "      <th>std</th>\n",
       "      <td>67.061647</td>\n",
       "      <td>68.022979</td>\n",
       "      <td>66.365583</td>\n",
       "      <td>67.396974</td>\n",
       "      <td>9.037238e+07</td>\n",
       "      <td>0.086547</td>\n",
       "      <td>0.228020</td>\n",
       "      <td>0.320146</td>\n",
       "      <td>106.818302</td>\n",
       "    </tr>\n",
       "    <tr>\n",
       "      <th>min</th>\n",
       "      <td>2.137000</td>\n",
       "      <td>2.202000</td>\n",
       "      <td>1.990000</td>\n",
       "      <td>2.192000</td>\n",
       "      <td>6.089710e+07</td>\n",
       "      <td>-0.141260</td>\n",
       "      <td>-0.010000</td>\n",
       "      <td>0.010000</td>\n",
       "      <td>3.030000</td>\n",
       "    </tr>\n",
       "    <tr>\n",
       "      <th>25%</th>\n",
       "      <td>29.623875</td>\n",
       "      <td>30.619375</td>\n",
       "      <td>29.428374</td>\n",
       "      <td>30.116500</td>\n",
       "      <td>1.093275e+08</td>\n",
       "      <td>-0.034791</td>\n",
       "      <td>0.037500</td>\n",
       "      <td>0.050000</td>\n",
       "      <td>24.530000</td>\n",
       "    </tr>\n",
       "    <tr>\n",
       "      <th>50%</th>\n",
       "      <td>91.966999</td>\n",
       "      <td>92.938751</td>\n",
       "      <td>91.377750</td>\n",
       "      <td>92.424999</td>\n",
       "      <td>1.530000e+08</td>\n",
       "      <td>0.029339</td>\n",
       "      <td>0.140000</td>\n",
       "      <td>0.270000</td>\n",
       "      <td>55.365000</td>\n",
       "    </tr>\n",
       "    <tr>\n",
       "      <th>75%</th>\n",
       "      <td>154.265495</td>\n",
       "      <td>155.890003</td>\n",
       "      <td>151.592499</td>\n",
       "      <td>151.992496</td>\n",
       "      <td>2.002945e+08</td>\n",
       "      <td>0.084034</td>\n",
       "      <td>0.352500</td>\n",
       "      <td>0.597500</td>\n",
       "      <td>88.007500</td>\n",
       "    </tr>\n",
       "    <tr>\n",
       "      <th>max</th>\n",
       "      <td>238.830002</td>\n",
       "      <td>239.660004</td>\n",
       "      <td>236.009995</td>\n",
       "      <td>238.009995</td>\n",
       "      <td>4.741860e+08</td>\n",
       "      <td>0.271800</td>\n",
       "      <td>0.830000</td>\n",
       "      <td>1.000000</td>\n",
       "      <td>605.290000</td>\n",
       "    </tr>\n",
       "  </tbody>\n",
       "</table>\n",
       "</div>"
      ],
      "text/plain": [
       "            Close        High         Low        Open        Volume  \\\n",
       "count   36.000000   36.000000   36.000000   36.000000  3.600000e+01   \n",
       "mean    93.781625   95.121806   92.432250   93.825097  1.712250e+08   \n",
       "std     67.061647   68.022979   66.365583   67.396974  9.037238e+07   \n",
       "min      2.137000    2.202000    1.990000    2.192000  6.089710e+07   \n",
       "25%     29.623875   30.619375   29.428374   30.116500  1.093275e+08   \n",
       "50%     91.966999   92.938751   91.377750   92.424999  1.530000e+08   \n",
       "75%    154.265495  155.890003  151.592499  151.992496  2.002945e+08   \n",
       "max    238.830002  239.660004  236.009995  238.009995  4.741860e+08   \n",
       "\n",
       "       2day_change_percent  EPS Estimate  Reported EPS  Surprise (%)  \n",
       "count            36.000000     36.000000     36.000000     36.000000  \n",
       "mean              0.025679      0.211944      0.337500     81.145278  \n",
       "std               0.086547      0.228020      0.320146    106.818302  \n",
       "min              -0.141260     -0.010000      0.010000      3.030000  \n",
       "25%              -0.034791      0.037500      0.050000     24.530000  \n",
       "50%               0.029339      0.140000      0.270000     55.365000  \n",
       "75%               0.084034      0.352500      0.597500     88.007500  \n",
       "max               0.271800      0.830000      1.000000    605.290000  "
      ]
     },
     "execution_count": 66,
     "metadata": {},
     "output_type": "execute_result"
    }
   ],
   "source": [
    "q4_df_earnings_date.describe()"
   ]
  },
  {
   "cell_type": "code",
   "execution_count": 67,
   "id": "29003b4f",
   "metadata": {},
   "outputs": [
    {
     "name": "stdout",
     "output_type": "stream",
     "text": [
      "The median 2 day price change after earnings realease:2.9339017113609533%\n"
     ]
    }
   ],
   "source": [
    "print(f\"The median 2 day price change after earnings realease:{q4_df_earnings_date[['Close','2day_change_percent']].describe().iloc[5,1] * 100}%\")"
   ]
  },
  {
   "cell_type": "code",
   "execution_count": 68,
   "id": "5fb19e02",
   "metadata": {},
   "outputs": [
    {
     "name": "stdout",
     "output_type": "stream",
     "text": [
      "The median 2 day price change without earnings release:0.3084479579395172%\n"
     ]
    }
   ],
   "source": [
    "print(f\"The median 2 day price change without earnings release:{q4_df_no_earnings_date[['Close','2day_change_percent']].describe().iloc[5,1] * 100}%\")"
   ]
  },
  {
   "cell_type": "markdown",
   "id": "d7635db8",
   "metadata": {},
   "source": [
    "### Question 5.  [Exploratory, optional] Brainstorm potential idea for your capstone project\n",
    "\n",
    "**Free text answer**\n",
    "\n",
    "Describe the capstone project you would like to pursue, considering your aspirations, ML model predictions, and prior knowledge. Even if you are unsure at this stage, try to generate an idea you would like to explore-such as a specific asset class, country, industry vertical, or investment strategy. Be as specific as possible.\n",
    "\n",
    "*Example: I want to build a short-term prediction model for the US/India/Brazil stock markets, focusing on the largest stocks over a 30-day investment horizon. I plan to use RSI and MACD technical indicators and news coverage data to generate predictions.*\n"
   ]
  },
  {
   "cell_type": "code",
   "execution_count": 69,
   "id": "0f10deab",
   "metadata": {},
   "outputs": [
    {
     "name": "stdout",
     "output_type": "stream",
     "text": [
      "I am thinking about creating an algorithm for trading U.S. commodities over a two-week horizon. \n",
      "I plan to use RSI aand MACD technical indicators for tracking the price movement and bolinger bands for tracking the volitility\n"
     ]
    }
   ],
   "source": [
    "print(f\"I am thinking about creating an algorithm for trading U.S. commodities over a two-week horizon. \\nI plan to use RSI aand MACD technical indicators for tracking the price movement and bolinger bands for tracking the volitility\")"
   ]
  },
  {
   "cell_type": "markdown",
   "id": "9b7d9c3f",
   "metadata": {},
   "source": [
    "### Question 6. [Exploratory, optional] Investigate new metrics\n",
    "\n",
    "**Free text answer**\n",
    "\n",
    "Using the data sources we have covered (or any others you find relevant), download and explore a few additional metrics or time series that could be valuable for your project. Briefly explain why you think each metric is useful. This does not need to be a comprehensive list-focus on demonstrating your ability to generate data requests based on your project description, identify and locate the necessary data, and explain how you would retrieve it using Python."
   ]
  },
  {
   "cell_type": "markdown",
   "id": "238f987f",
   "metadata": {},
   "source": []
  },
  {
   "cell_type": "code",
   "execution_count": 70,
   "id": "9389cdf6",
   "metadata": {},
   "outputs": [
    {
     "name": "stdout",
     "output_type": "stream",
     "text": [
      "I think having all the tarrif rates around the world would be helpful for my analysis. Also, I would need production rates and reserves around the world. \n",
      "However, scrapping the web for news will be helpful for enhancing the accuracy of the predictions\n"
     ]
    }
   ],
   "source": [
    "print(f\"I think having all the tarrif rates around the world would be helpful for my analysis. Also, I would need production rates and reserves around the world. \\nHowever, scrapping the web for news will be helpful for enhancing the accuracy of the predictions\")"
   ]
  }
 ],
 "metadata": {
  "kernelspec": {
   "display_name": "stockmarket_zc",
   "language": "python",
   "name": "python3"
  },
  "language_info": {
   "codemirror_mode": {
    "name": "ipython",
    "version": 3
   },
   "file_extension": ".py",
   "mimetype": "text/x-python",
   "name": "python",
   "nbconvert_exporter": "python",
   "pygments_lexer": "ipython3",
   "version": "3.13.0"
  }
 },
 "nbformat": 4,
 "nbformat_minor": 5
}
